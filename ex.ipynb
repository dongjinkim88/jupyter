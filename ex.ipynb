{
 "cells": [
  {
   "cell_type": "code",
   "execution_count": 1,
   "metadata": {},
   "outputs": [
    {
     "name": "stdout",
     "output_type": "stream",
     "text": [
      "\r\n",
      "     active environment : None\r\n",
      "       user config file : /Users/djkim/.condarc\r\n",
      " populated config files : /Users/djkim/.condarc\r\n",
      "          conda version : 4.7.12\r\n",
      "    conda-build version : 3.18.9\r\n",
      "         python version : 3.7.4.final.0\r\n",
      "       virtual packages : \r\n",
      "       base environment : /Users/djkim/opt/anaconda3  (writable)\r\n",
      "           channel URLs : https://repo.anaconda.com/pkgs/main/osx-64\r\n",
      "                          https://repo.anaconda.com/pkgs/main/noarch\r\n",
      "                          https://repo.anaconda.com/pkgs/r/osx-64\r\n",
      "                          https://repo.anaconda.com/pkgs/r/noarch\r\n",
      "          package cache : /Users/djkim/opt/anaconda3/pkgs\r\n",
      "                          /Users/djkim/.conda/pkgs\r\n",
      "       envs directories : /Users/djkim/opt/anaconda3/envs\r\n",
      "                          /Users/djkim/.conda/envs\r\n",
      "               platform : osx-64\r\n",
      "             user-agent : conda/4.7.12 requests/2.22.0 CPython/3.7.4 Darwin/19.0.0 OSX/10.15\r\n",
      "                UID:GID : 501:20\r\n",
      "             netrc file : None\r",
      "\r\n",
      "           offline mode : False\r\n",
      "\r\n",
      "# conda environments:\r\n",
      "#\r\n",
      "base                  *  /Users/djkim/opt/anaconda3\r\n",
      "\r\n",
      "sys.version: 3.7.4 (default, Aug 13 2019, 15:17:50) \r\n",
      "...\r\n",
      "sys.prefix: /Users/djkim/opt/anaconda3\r\n",
      "sys.executable: /Users/djkim/opt/anaconda3/bin/python\r\n",
      "conda location: /Users/djkim/opt/anaconda3/lib/python3.7/site-packages/conda\r\n",
      "conda-build: /Users/djkim/opt/anaconda3/bin/conda-build\r\n",
      "conda-convert: /Users/djkim/opt/anaconda3/bin/conda-convert\r\n",
      "conda-debug: /Users/djkim/opt/anaconda3/bin/conda-debug\r\n",
      "conda-develop: /Users/djkim/opt/anaconda3/bin/conda-develop\r\n",
      "conda-env: /Users/djkim/opt/anaconda3/bin/conda-env\r\n",
      "conda-index: /Users/djkim/opt/anaconda3/bin/conda-index\r\n",
      "conda-inspect: /Users/djkim/opt/anaconda3/bin/conda-inspect\r\n",
      "conda-metapackage: /Users/djkim/opt/anaconda3/bin/conda-metapackage\r\n",
      "conda-render: /Users/djkim/opt/anaconda3/bin/conda-render\r\n",
      "conda-server: /Users/djkim/opt/anaconda3/bin/conda-server\r\n",
      "conda-skeleton: /Users/djkim/opt/anaconda3/bin/conda-skeleton\r\n",
      "conda-verify: /Users/djkim/opt/anaconda3/bin/conda-verify\r\n",
      "user site dirs: \r\n",
      "\r\n",
      "CIO_TEST: <not set>\r\n",
      "CONDA_ROOT: /Users/djkim/opt/anaconda3\r\n",
      "PATH: /Users/djkim/opt/anaconda3/bin:/usr/local/bin:/usr/bin:/bin:/usr/sbin:/sbin:/Library/Apple/usr/bin:/Library/Apple/bin\r\n",
      "REQUESTS_CA_BUNDLE: <not set>\r\n",
      "SSL_CERT_FILE: <not set>\r\n",
      "\r\n"
     ]
    }
   ],
   "source": [
    "!conda info -a"
   ]
  },
  {
   "cell_type": "code",
   "execution_count": 2,
   "metadata": {},
   "outputs": [
    {
     "name": "stdout",
     "output_type": "stream",
     "text": [
      "/Users/djkim/opt/anaconda3/bin:/usr/local/bin:/usr/bin:/bin:/usr/sbin:/sbin:/Library/Apple/usr/bin:/Library/Apple/bin\r\n"
     ]
    }
   ],
   "source": [
    "!echo $PATH"
   ]
  },
  {
   "cell_type": "code",
   "execution_count": 3,
   "metadata": {},
   "outputs": [
    {
     "name": "stdout",
     "output_type": "stream",
     "text": [
      "Available kernels:\r\n",
      "  python3    /Users/djkim/opt/anaconda3/share/jupyter/kernels/python3\r\n"
     ]
    }
   ],
   "source": [
    "!jupyter kernelspec list"
   ]
  },
  {
   "cell_type": "code",
   "execution_count": 7,
   "metadata": {},
   "outputs": [],
   "source": [
    "#run py in jupyter\n",
    "import ex_np_test"
   ]
  },
  {
   "cell_type": "code",
   "execution_count": 4,
   "metadata": {},
   "outputs": [
    {
     "data": {
      "text/plain": [
       "'/Users/djkim/opt/anaconda3/bin/python'"
      ]
     },
     "execution_count": 4,
     "metadata": {},
     "output_type": "execute_result"
    }
   ],
   "source": [
    "import sys\n",
    "sys.path\n",
    "sys.executable"
   ]
  },
  {
   "cell_type": "code",
   "execution_count": 10,
   "metadata": {},
   "outputs": [],
   "source": [
    "list=['apple','banana','cherry']\n",
    "tuple=('apple','banana','cherry')\n",
    "set={'apple','banana','cherry'}\n",
    "dict={'brand':'Ford','model':'Mustang','year':1969}"
   ]
  },
  {
   "cell_type": "code",
   "execution_count": 11,
   "metadata": {},
   "outputs": [
    {
     "name": "stdout",
     "output_type": "stream",
     "text": [
      "dict_keys(['brand', 'model', 'year'])\n",
      "dict_values(['Ford', 'Mustang', 1969])\n",
      "Ford\n",
      "Ford\n"
     ]
    }
   ],
   "source": [
    "print(dict.keys())\n",
    "print(dict.values())\n",
    "print(dict['brand'])\n",
    "print(dict.get('brand'))"
   ]
  },
  {
   "cell_type": "code",
   "execution_count": 12,
   "metadata": {},
   "outputs": [],
   "source": [
    "list.append('orange')\n",
    "list.count('apple')\n",
    "set.add('orange')"
   ]
  },
  {
   "cell_type": "code",
   "execution_count": 13,
   "metadata": {},
   "outputs": [],
   "source": [
    "list_tuple = [('')]"
   ]
  },
  {
   "cell_type": "code",
   "execution_count": 14,
   "metadata": {},
   "outputs": [
    {
     "name": "stdout",
     "output_type": "stream",
     "text": [
      "apple and banana\n",
      "apple and orange\n",
      "apple and cherry\n",
      "apple and apple\n",
      "banana and banana\n",
      "banana and orange\n",
      "banana and cherry\n",
      "banana and apple\n",
      "cherry and banana\n",
      "cherry and orange\n",
      "cherry and cherry\n",
      "cherry and apple\n"
     ]
    }
   ],
   "source": [
    "for x in tuple:\n",
    "    for y in set:\n",
    "        print('{} and {}'.format(x,y))"
   ]
  },
  {
   "cell_type": "code",
   "execution_count": 15,
   "metadata": {},
   "outputs": [
    {
     "name": "stdout",
     "output_type": "stream",
     "text": [
      "apple\n",
      "banana\n"
     ]
    }
   ],
   "source": [
    "iterator=iter(list)\n",
    "print(next(iterator))\n",
    "print(next(iterator))"
   ]
  },
  {
   "cell_type": "code",
   "execution_count": 16,
   "metadata": {},
   "outputs": [
    {
     "name": "stdout",
     "output_type": "stream",
     "text": [
      "4\n",
      "['apple', 'banana', 'cherry', 'orange']\n"
     ]
    }
   ],
   "source": [
    "print(len(set))\n",
    "print(list)"
   ]
  },
  {
   "cell_type": "code",
   "execution_count": 17,
   "metadata": {},
   "outputs": [
    {
     "name": "stdout",
     "output_type": "stream",
     "text": [
      "0 1\n",
      "1 2\n",
      "2 3\n",
      "3 4\n"
     ]
    }
   ],
   "source": [
    "a=[1,2,3,4]\n",
    "for i, x in enumerate(a):\n",
    "    print(i, x)"
   ]
  },
  {
   "cell_type": "code",
   "execution_count": 18,
   "metadata": {},
   "outputs": [
    {
     "name": "stdout",
     "output_type": "stream",
     "text": [
      "1 10 a\n",
      "2 20 b\n",
      "3 30 c\n",
      "4 40 d\n"
     ]
    }
   ],
   "source": [
    "xs=[1,2,3,4]\n",
    "ys=[10,20,30,40]\n",
    "zs=['a','b','c','d']\n",
    "for x, y, z in zip(xs,ys,zs):\n",
    "    print(x, y, z)"
   ]
  },
  {
   "cell_type": "code",
   "execution_count": 19,
   "metadata": {},
   "outputs": [
    {
     "name": "stdout",
     "output_type": "stream",
     "text": [
      "10\n"
     ]
    }
   ],
   "source": [
    "#lambda function can take multi parameters but one expression\n",
    "f=lambda a,b,c: 3*a+2*b+c\n",
    "print(f(1,2,3))"
   ]
  },
  {
   "cell_type": "code",
   "execution_count": 20,
   "metadata": {},
   "outputs": [
    {
     "name": "stdout",
     "output_type": "stream",
     "text": [
      "20\n",
      "30\n"
     ]
    }
   ],
   "source": [
    "#lambda is for inside another function\n",
    "def myfun(n):\n",
    "    return lambda a: a*n\n",
    "mydouble=myfun(2)\n",
    "mytriple=myfun(3)\n",
    "print(mydouble(10))\n",
    "print(mytriple(10))"
   ]
  },
  {
   "cell_type": "code",
   "execution_count": 21,
   "metadata": {},
   "outputs": [
    {
     "name": "stdout",
     "output_type": "stream",
     "text": [
      "hello my name is john and my age is 30\n"
     ]
    }
   ],
   "source": [
    "class person:\n",
    "    def __init__(self,name,age):\n",
    "        self.name=name\n",
    "        self.age=age\n",
    "    def myfun(self):\n",
    "        print('hello my name is {} and my age is {}'.format(self.name,self.age))\n",
    " \n",
    "p=person('john',30)\n",
    "p.myfun()"
   ]
  },
  {
   "cell_type": "code",
   "execution_count": 22,
   "metadata": {},
   "outputs": [
    {
     "name": "stdout",
     "output_type": "stream",
     "text": [
      "2019-10-19 10:53:15.089312\n"
     ]
    }
   ],
   "source": [
    "import datetime as dt\n",
    "x=dt.datetime.now()\n",
    "print(x)"
   ]
  },
  {
   "cell_type": "code",
   "execution_count": 23,
   "metadata": {},
   "outputs": [
    {
     "name": "stdout",
     "output_type": "stream",
     "text": [
      "Saturday\n",
      "Sat Mar 16 00:00:00 2019\n",
      "10/19/19\n"
     ]
    }
   ],
   "source": [
    "y=dt.datetime(2019,3,16)\n",
    "print(y.strftime('%A'))\n",
    "print(y.strftime('%c'))\n",
    "print(x.strftime('%x'))"
   ]
  },
  {
   "cell_type": "code",
   "execution_count": 24,
   "metadata": {},
   "outputs": [
    {
     "name": "stdout",
     "output_type": "stream",
     "text": [
      "<re.Match object; span=(0, 17), match='the rain in spain'>\n",
      "<re.Match object; span=(3, 4), match=' '>\n",
      "<re.Match object; span=(12, 17), match='spain'>\n"
     ]
    }
   ],
   "source": [
    "import re\n",
    "str='the rain in spain'\n",
    "x = re.search(\"^the.*spain$\", str)\n",
    "print(x)\n",
    "x=re.search('\\s',str)\n",
    "print(x)\n",
    "x=re.search(r'\\bs\\w+',str)\n",
    "print(x)"
   ]
  },
  {
   "cell_type": "code",
   "execution_count": 25,
   "metadata": {},
   "outputs": [
    {
     "name": "stdout",
     "output_type": "stream",
     "text": [
      "['n', 'n', 'n']\n"
     ]
    }
   ],
   "source": [
    "x=re.findall(r'n\\b',str)\n",
    "print(x)"
   ]
  },
  {
   "cell_type": "code",
   "execution_count": 26,
   "metadata": {},
   "outputs": [
    {
     "name": "stdout",
     "output_type": "stream",
     "text": [
      "['ai', 'ai']\n"
     ]
    }
   ],
   "source": [
    "x=re.findall(\"ai\",str)\n",
    "print(x)"
   ]
  },
  {
   "cell_type": "code",
   "execution_count": 27,
   "metadata": {},
   "outputs": [
    {
     "name": "stdout",
     "output_type": "stream",
     "text": [
      "woopd! i have deleted the content\n",
      "\n",
      "test\n",
      "\n",
      "woopd! i have deleted the content\n"
     ]
    }
   ],
   "source": [
    "f=open('demo.txt')\n",
    "print(f.readline())\n",
    "print(f.read(5))\n",
    "f=open('demo.txt','w')\n",
    "f.write('woopd! i have deleted the content')\n",
    "f=open('demo.txt','r')\n",
    "print(f.read())"
   ]
  }
 ],
 "metadata": {
  "kernelspec": {
   "display_name": "Python 3",
   "language": "python",
   "name": "python3"
  },
  "language_info": {
   "codemirror_mode": {
    "name": "ipython",
    "version": 3
   },
   "file_extension": ".py",
   "mimetype": "text/x-python",
   "name": "python",
   "nbconvert_exporter": "python",
   "pygments_lexer": "ipython3",
   "version": "3.7.4"
  }
 },
 "nbformat": 4,
 "nbformat_minor": 2
}
