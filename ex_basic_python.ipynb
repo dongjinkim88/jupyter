{
 "cells": [
  {
   "cell_type": "code",
   "execution_count": 22,
   "metadata": {},
   "outputs": [
    {
     "name": "stdout",
     "output_type": "stream",
     "text": [
      "The Zen of Python, by Tim Peters\n",
      "\n",
      "Beautiful is better than ugly.\n",
      "Explicit is better than implicit.\n",
      "Simple is better than complex.\n",
      "Complex is better than complicated.\n",
      "Flat is better than nested.\n",
      "Sparse is better than dense.\n",
      "Readability counts.\n",
      "Special cases aren't special enough to break the rules.\n",
      "Although practicality beats purity.\n",
      "Errors should never pass silently.\n",
      "Unless explicitly silenced.\n",
      "In the face of ambiguity, refuse the temptation to guess.\n",
      "There should be one-- and preferably only one --obvious way to do it.\n",
      "Although that way may not be obvious at first unless you're Dutch.\n",
      "Now is better than never.\n",
      "Although never is often better than *right* now.\n",
      "If the implementation is hard to explain, it's a bad idea.\n",
      "If the implementation is easy to explain, it may be a good idea.\n",
      "Namespaces are one honking great idea -- let's do more of those!\n"
     ]
    }
   ],
   "source": [
    "import this"
   ]
  },
  {
   "cell_type": "code",
   "execution_count": 2,
   "metadata": {},
   "outputs": [
    {
     "name": "stdout",
     "output_type": "stream",
     "text": [
      "Number one portal is Geeks, For, and Geeks.\n",
      "Geeks :12, Portal :    0.55\n",
      "Geeks :12, Portal :    0.55\n",
      "Second argument:  11, first one:   47.42\n",
      "Geeks:   453,  Portal:    59.06\n"
     ]
    }
   ],
   "source": [
    "# combining positional and keyword arguments \n",
    "print('Number one portal is {0}, {1}, and {other}.'\n",
    "     .format('Geeks', 'For', other ='Geeks')) \n",
    "  \n",
    "# using format() method with number  \n",
    "print(\"Geeks :{0:2d}, Portal :{1:8.2f}\". \n",
    "      format(12, 00.546)) \n",
    "print(\"Geeks :{:2d}, Portal :{:8.2f}\". \n",
    "      format(12, 00.546))   \n",
    "# Changing positional argument \n",
    "print(\"Second argument: {1:3d}, first one: {0:7.2f}\". \n",
    "      format(47.42, 11)) \n",
    "  \n",
    "print(\"Geeks: {a:5d},  Portal: {p:8.2f}\". \n",
    "     format(a = 453, p = 59.058)) "
   ]
  },
  {
   "cell_type": "code",
   "execution_count": 8,
   "metadata": {},
   "outputs": [
    {
     "name": "stdout",
     "output_type": "stream",
     "text": [
      "Geeks :  1, Portal :  5.33\n",
      "Geeks :  1, Portal :  5.33\n",
      "Total students :  240, Boys :  120\n",
      "Total students : 240, Boys : 120\n",
      "    031\n",
      " 3.561E+02\n",
      " 3.561E+02\n"
     ]
    }
   ],
   "source": [
    "# print integer and float value \n",
    "print(\"Geeks : % 2d, Portal : % 5.2f\" %(1, 05.333))  \n",
    "print(\"Geeks : {:2d}, Portal : {:5.2f}\".format(1, 05.333))  \n",
    "\n",
    "  \n",
    "# print integer value \n",
    "print(\"Total students : % 3d, Boys : % 2d\" %(240, 120)) \n",
    "print(\"Total students : {:3d}, Boys : {:2d}\".format(240, 120)) \n",
    "\n",
    "  \n",
    "# print octal value \n",
    "print(\"% 7.3o\"% (25)) \n",
    "#print(\"{:7.3o}\".format(25))\n",
    "  \n",
    "# print exponential value \n",
    "print(\"% 10.3E\"% (356.08977)) \n",
    "print(\"{:10.3E}\".format(356.08977)) "
   ]
  },
  {
   "cell_type": "code",
   "execution_count": 10,
   "metadata": {},
   "outputs": [
    {
     "name": "stdout",
     "output_type": "stream",
     "text": [
      "Center aligned string with fillchr: \n",
      "##########I love geeksforgeeks##########\n",
      "The left aligned string is : \n",
      "I love geeksforgeeks--------------------\n",
      "The right aligned string is : \n",
      "--------------------I love geeksforgeeks\n"
     ]
    }
   ],
   "source": [
    "#str.ljust(), str.rjust(), str.centre()\n",
    "\n",
    "# Python program to \n",
    "# format a output using \n",
    "# string() method \n",
    "  \n",
    "cstr = \"I love geeksforgeeks\"\n",
    "    \n",
    "# Printing the center aligned   \n",
    "# string with fillchr  \n",
    "print (\"Center aligned string with fillchr: \")  \n",
    "print (cstr.center(40, '#'))  \n",
    "  \n",
    "# Printing the left aligned   \n",
    "# string with \"-\" padding   \n",
    "print (\"The left aligned string is : \")  \n",
    "print (cstr.ljust(40, '-')) \n",
    "  \n",
    "# Printing the right aligned string  \n",
    "# with \"-\" padding   \n",
    "print (\"The right aligned string is : \")  \n",
    "print (cstr.rjust(40, '-')) "
   ]
  },
  {
   "cell_type": "code",
   "execution_count": 2,
   "metadata": {},
   "outputs": [
    {
     "name": "stdout",
     "output_type": "stream",
     "text": [
      "2.718281828459045\n",
      "3.141592653589793\n",
      "A woman named John is 50.23 years old\n",
      "A woman named John is 50.2 years old\n",
      "A woman named  John  is  50.23  years old\n"
     ]
    }
   ],
   "source": [
    "import math\n",
    "print(math.e)\n",
    "print(math.pi)\n",
    "#variables\n",
    "name = 'John'\n",
    "age = 50.23\n",
    "is_male = False\n",
    "if is_male:\n",
    "    print('A man named ' + name + ' is ' + str(age) + ' years old')\n",
    "else:\n",
    "    print('A woman named ' + name + ' is ' + str(age) + ' years old')\n",
    "\n",
    "if is_male:\n",
    "    print('A man named {} is {:.2f} years old'.format(name, age))\n",
    "else:\n",
    "    print('A woman named {} is {:.1f} years old'.format(name, age))\n",
    "\n",
    "if is_male:\n",
    "    print('A man named ', name, ' is ', age, ' years old')\n",
    "else:\n",
    "    print('A woman named ', name, ' is ', age, ' years old')\n",
    "\n"
   ]
  },
  {
   "cell_type": "code",
   "execution_count": 14,
   "metadata": {},
   "outputs": [
    {
     "name": "stdout",
     "output_type": "stream",
     "text": [
      "first = 10, second = 10\n",
      "first = 20, second = 10\n"
     ]
    }
   ],
   "source": [
    "first=10\n",
    "second=first\n",
    "print('first = {}, second = {}'.format(first,second))\n",
    "first=20\n",
    "print('first = {}, second = {}'.format(first,second))"
   ]
  },
  {
   "cell_type": "code",
   "execution_count": 2,
   "metadata": {},
   "outputs": [],
   "source": [
    "#string\n",
    "phrase = \"Giraffe Academy\"\n",
    "print(phrase.upper().isupper())\n",
    "print(len(phrase))\n",
    "print(phrase[0])\n",
    "print(phrase[-1])\n",
    "print(phrase.index('a'))\n",
    "print(phrase.replace('Giraffe','Elephane'))"
   ]
  },
  {
   "cell_type": "code",
   "execution_count": 3,
   "metadata": {},
   "outputs": [
    {
     "name": "stdout",
     "output_type": "stream",
     "text": [
      "40\n",
      "35\n"
     ]
    }
   ],
   "source": [
    "#number\n",
    "a,b = 5,10\n",
    "print(2*a + 3*b)\n",
    "#swap\n",
    "a,b = b,a\n",
    "print(2*a + 3*b)"
   ]
  },
  {
   "cell_type": "code",
   "execution_count": 4,
   "metadata": {},
   "outputs": [
    {
     "name": "stdout",
     "output_type": "stream",
     "text": [
      "Enter your name: DJ\n",
      "Hello DJ!\n"
     ]
    }
   ],
   "source": [
    "#input from user: all are strings\n",
    "name = input('Enter your name: ')\n",
    "print('Hello ' + name + '!')\n"
   ]
  },
  {
   "cell_type": "code",
   "execution_count": 5,
   "metadata": {},
   "outputs": [
    {
     "name": "stdout",
     "output_type": "stream",
     "text": [
      "Enter a number: 1\n",
      "Enter another number: 2\n",
      "1 + 2 = 3.0\n"
     ]
    }
   ],
   "source": [
    "#input from user: all are strings\n",
    "x = input('Enter a number: ')\n",
    "y = input('Enter another number: ')\n",
    "result = float(x) + float(y)\n",
    "print(x + ' + ' + y + ' = ' + str(result))"
   ]
  },
  {
   "cell_type": "code",
   "execution_count": 6,
   "metadata": {},
   "outputs": [
    {
     "name": "stdout",
     "output_type": "stream",
     "text": [
      "<class 'bool'>\n",
      "[40, True]\n",
      "['Kevin', 40, True, 2, 3, 4, 5]\n",
      "2\n",
      "1\n",
      "2\n",
      "3\n",
      "4\n",
      "5\n",
      "6\n",
      "7\n",
      "8\n",
      "9\n",
      "10\n"
     ]
    }
   ],
   "source": [
    "#list: any types are fine\n",
    "L = ['Kevin',40,True]\n",
    "print(type(L[2]))\n",
    "print(L[1:])\n",
    "#list together\n",
    "L2=[2,3,4,5]\n",
    "L.extend(L2)\n",
    "print(L)\n",
    "num_grid = [\n",
    "    [1,2,3],\n",
    "    [4,5,6],\n",
    "    [7,8,9],\n",
    "    [10],\n",
    "]\n",
    "print(num_grid[0][1])\n",
    "for row in num_grid:\n",
    "    for col in row:\n",
    "        print(col)"
   ]
  },
  {
   "cell_type": "code",
   "execution_count": 7,
   "metadata": {},
   "outputs": [
    {
     "name": "stdout",
     "output_type": "stream",
     "text": [
      "2\n"
     ]
    }
   ],
   "source": [
    "#tuple = constant\n",
    "coordinates = (3,5,2)\n",
    "print(coordinates[2])"
   ]
  },
  {
   "cell_type": "code",
   "execution_count": 8,
   "metadata": {},
   "outputs": [],
   "source": [
    "#functions\n",
    "#if elif else\n",
    "#and or not"
   ]
  },
  {
   "cell_type": "code",
   "execution_count": 1,
   "metadata": {},
   "outputs": [
    {
     "name": "stdout",
     "output_type": "stream",
     "text": [
      "January\n",
      "January\n",
      "Not a valid key\n"
     ]
    }
   ],
   "source": [
    "#dictionary key:value\n",
    "month = {\n",
    "    'Jan': 'January',\n",
    "    'Feb': 'February',\n",
    "    'Mar': 'March',\n",
    "    'Apr': 'April',\n",
    "}\n",
    "print(month['Jan'])\n",
    "print(month.get('Jan','Not a valid key'))\n",
    "#print(month['luv'])\n",
    "print(month.get('luv','Not a valid key'))"
   ]
  },
  {
   "cell_type": "code",
   "execution_count": 7,
   "metadata": {},
   "outputs": [
    {
     "data": {
      "text/plain": [
       "{'Jan': 'January',\n",
       " 'Feb': 'February',\n",
       " 'Mar': 'March',\n",
       " 'Apr': 'April',\n",
       " 'May': 'May'}"
      ]
     },
     "execution_count": 7,
     "metadata": {},
     "output_type": "execute_result"
    }
   ],
   "source": [
    "month['May']='May'\n",
    "month"
   ]
  },
  {
   "cell_type": "code",
   "execution_count": 8,
   "metadata": {},
   "outputs": [
    {
     "data": {
      "text/plain": [
       "{'Jan': 'January', 'Feb': 'February', 'Mar': 'March', 'Apr': 'April'}"
      ]
     },
     "execution_count": 8,
     "metadata": {},
     "output_type": "execute_result"
    }
   ],
   "source": [
    "#del month['May']\n",
    "month.pop('May')\n",
    "month"
   ]
  },
  {
   "cell_type": "code",
   "execution_count": 10,
   "metadata": {},
   "outputs": [
    {
     "name": "stdout",
     "output_type": "stream",
     "text": [
      "Enter guess: giraffe\n",
      "you win\n"
     ]
    }
   ],
   "source": [
    "#while loop\n",
    "secret_word = 'giraffe'\n",
    "guess = ''\n",
    "trial = 0\n",
    "limit = 3\n",
    "while guess != secret_word and trial < limit:\n",
    "    guess = input('Enter guess: ')\n",
    "    trial += 1\n",
    "\n",
    "if guess == secret_word:\n",
    "    print('you win')\n",
    "else:\n",
    "    print('out of trial')"
   ]
  },
  {
   "cell_type": "code",
   "execution_count": 11,
   "metadata": {},
   "outputs": [
    {
     "name": "stdout",
     "output_type": "stream",
     "text": [
      "0 : g\n",
      "1 : i\n",
      "2 : r\n",
      "3 : a\n",
      "4 : f\n",
      "5 : f\n",
      "6 : e\n",
      "7 :  \n",
      "8 : a\n",
      "9 : c\n",
      "10 : a\n",
      "11 : d\n",
      "12 : e\n",
      "13 : m\n",
      "14 : y\n",
      "Jim\n",
      "Karen\n",
      "Tom\n"
     ]
    }
   ],
   "source": [
    "#for loop\n",
    "for i,a in enumerate('giraffe academy'):\n",
    "    print(str(i) + ' : ' + a)\n",
    "\n",
    "friends = ['Jim', 'Karen', 'Tom']\n",
    "for i in range(len(friends)):\n",
    "    print(friends[i])"
   ]
  },
  {
   "cell_type": "code",
   "execution_count": 12,
   "metadata": {},
   "outputs": [
    {
     "name": "stdout",
     "output_type": "stream",
     "text": [
      "division by zero\n"
     ]
    }
   ],
   "source": [
    "#try except\n",
    "try:\n",
    "    value = 10/0\n",
    "    num = int(input(\"enter a number:\"))\n",
    "    print(num)\n",
    "except ZeroDivisionError as err:\n",
    "    print(err)\n",
    "except ValueError:\n",
    "    print('invalid input')"
   ]
  },
  {
   "cell_type": "code",
   "execution_count": 13,
   "metadata": {},
   "outputs": [
    {
     "name": "stdout",
     "output_type": "stream",
     "text": [
      "woopd! i have deleted the content\n",
      "\n",
      "append new text\n",
      "woopd! i have deleted the content\n",
      "\n",
      "appen\n"
     ]
    }
   ],
   "source": [
    "#read files\n",
    "f=open('demo.txt','r')\n",
    "for line in f.readlines():\n",
    "    print(line)\n",
    "f=open('demo.txt','r')\n",
    "print(f.readline())\n",
    "print(f.read(5))\n",
    "f.close()"
   ]
  },
  {
   "cell_type": "code",
   "execution_count": 14,
   "metadata": {},
   "outputs": [
    {
     "name": "stdout",
     "output_type": "stream",
     "text": [
      "woopd! i have deleted the content\n",
      "woopd! i have deleted the content\n",
      "append new text\n"
     ]
    }
   ],
   "source": [
    "#write/append files\n",
    "f=open('demo.txt','w')\n",
    "f.write('woopd! i have deleted the content')\n",
    "f=open('demo.txt','r')\n",
    "print(f.read())\n",
    "f=open('demo.txt','a')\n",
    "f.write('\\nappend new text')\n",
    "f=open('demo.txt','r')\n",
    "print(f.read())"
   ]
  },
  {
   "cell_type": "code",
   "execution_count": 18,
   "metadata": {},
   "outputs": [
    {
     "name": "stdout",
     "output_type": "stream",
     "text": [
      "a = 1\n",
      "b = 3\n",
      "c = 2\n"
     ]
    }
   ],
   "source": [
    "def ex(a,b,c):\n",
    "    print('a = {}'.format(a))\n",
    "    print('b = {}'.format(b))\n",
    "    print('c = {}'.format(c))\n",
    "ex(1,c=2,b=3)\n",
    "    "
   ]
  },
  {
   "cell_type": "code",
   "execution_count": 21,
   "metadata": {},
   "outputs": [
    {
     "data": {
      "text/plain": [
       "18.5806"
      ]
     },
     "execution_count": 21,
     "metadata": {},
     "output_type": "execute_result"
    }
   ],
   "source": [
    "def calc_square_meters_from_feet(length_ft, width_ft):\n",
    "    \n",
    "    \n",
    "    # TODO 2: Modify the code below:\n",
    "    metric_area = length_ft * width_ft * 0.3048**2\n",
    "    return round(metric_area,4)\n",
    "calc_square_meters_from_feet(10,20)"
   ]
  },
  {
   "cell_type": "code",
   "execution_count": 23,
   "metadata": {},
   "outputs": [
    {
     "data": {
      "text/plain": [
       "['a', 'b', 'c', 1, 2, 3]"
      ]
     },
     "execution_count": 23,
     "metadata": {},
     "output_type": "execute_result"
    }
   ],
   "source": [
    "def concatenate_lists(a,b):\n",
    "    return a+b\n",
    "\n",
    "a=['a','b','c']\n",
    "b=[1,2,3]\n",
    "concatenate_lists(a,b)"
   ]
  },
  {
   "cell_type": "code",
   "execution_count": 15,
   "metadata": {},
   "outputs": [
    {
     "name": "stdout",
     "output_type": "stream",
     "text": [
      "0.2008169365891157 0.947749101795273\n",
      "[0 9 3 8 7 4 2 1 6 5]\n",
      "1\n",
      "[0 9 3 8 7 4 2 1 6 5]\n",
      "[[1 1]\n",
      " [0 1]]\n",
      "2\n"
     ]
    }
   ],
   "source": [
    "#modules\n",
    "import ex_np_test as my\n",
    "print(my.x)\n",
    "print(my.A)\n",
    "print(my.roll_dice(5))"
   ]
  },
  {
   "cell_type": "code",
   "execution_count": 16,
   "metadata": {},
   "outputs": [],
   "source": [
    "#pip --version\n",
    "#pip: Python packages only\n",
    "#conda install pip"
   ]
  },
  {
   "cell_type": "code",
   "execution_count": 17,
   "metadata": {},
   "outputs": [
    {
     "name": "stdout",
     "output_type": "stream",
     "text": [
      "name = john, age = 30\n",
      "hello my name is john and my age is 30\n",
      "hello my name is jim and my age is 25\n"
     ]
    }
   ],
   "source": [
    "#class: attribute, methodology\n",
    "class person:\n",
    "    def __init__(self,name,age):\n",
    "        self.name=name\n",
    "        self.age=age\n",
    "    def myfun(self):\n",
    "        print('hello my name is {} and my age is {}'.format(self.name,self.age))\n",
    " \n",
    "p1 = person('john',30)\n",
    "p2 = person('jim', 25)\n",
    "print('name = {}, age = {}'.format(p1.name, p1.age))\n",
    "p1.myfun()\n",
    "p2.myfun()"
   ]
  },
  {
   "cell_type": "code",
   "execution_count": 18,
   "metadata": {},
   "outputs": [
    {
     "name": "stdout",
     "output_type": "stream",
     "text": [
      "the chef makes bbq ribs\n",
      "the chef makes orange chicken\n"
     ]
    }
   ],
   "source": [
    "#class: inheritance\n",
    "class Chef:\n",
    "    def make_chicken(self):\n",
    "        print('the chef makes a chicken')\n",
    "    def make_salad(self):\n",
    "        print('the chef makes a salad')\n",
    "    def make_special_dish(self):\n",
    "        print('the chef makes bbq ribs')\n",
    "\n",
    "class ChineseChef(Chef):\n",
    "    def make_special_dish(self):\n",
    "        print('the chef makes orange chicken')\n",
    "    def make_fried_rice(slef):\n",
    "        print('the chef makes fried rice')\n",
    "        \n",
    "chef = Chef()\n",
    "chef.make_special_dish()\n",
    "\n",
    "chinesechef = ChineseChef()\n",
    "chinesechef.make_special_dish()"
   ]
  }
 ],
 "metadata": {
  "kernelspec": {
   "display_name": "Python 3",
   "language": "python",
   "name": "python3"
  },
  "language_info": {
   "codemirror_mode": {
    "name": "ipython",
    "version": 3
   },
   "file_extension": ".py",
   "mimetype": "text/x-python",
   "name": "python",
   "nbconvert_exporter": "python",
   "pygments_lexer": "ipython3",
   "version": "3.7.4"
  }
 },
 "nbformat": 4,
 "nbformat_minor": 2
}
