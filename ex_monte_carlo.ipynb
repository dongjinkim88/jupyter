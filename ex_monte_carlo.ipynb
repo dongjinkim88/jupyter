{
 "cells": [
  {
   "cell_type": "markdown",
   "metadata": {},
   "source": [
    "# Monte Carlo Simulation\n",
    "## Budget for Sales Commissions"
   ]
  },
  {
   "cell_type": "code",
   "execution_count": 1,
   "metadata": {},
   "outputs": [],
   "source": [
    "from statsmodels.distributions.empirical_distribution import ECDF"
   ]
  },
  {
   "cell_type": "code",
   "execution_count": 5,
   "metadata": {},
   "outputs": [
    {
     "data": {
      "text/plain": [
       "array([0.75, 1.  , 0.  , 0.25])"
      ]
     },
     "execution_count": 5,
     "metadata": {},
     "output_type": "execute_result"
    }
   ],
   "source": [
    "l = [3,3,1,4]\n",
    "dj = ECDF(l)\n",
    "dj([3,55,0.5,1.5])"
   ]
  },
  {
   "cell_type": "code",
   "execution_count": 6,
   "metadata": {},
   "outputs": [
    {
     "data": {
      "text/plain": [
       "3.925"
      ]
     },
     "execution_count": 6,
     "metadata": {},
     "output_type": "execute_result"
    }
   ],
   "source": [
    "np.quantile(l,q=0.975)"
   ]
  },
  {
   "cell_type": "code",
   "execution_count": 3,
   "metadata": {},
   "outputs": [],
   "source": [
    "import pandas as pd\n",
    "import numpy as np\n",
    "import seaborn as sns\n",
    "sns.set_style('whitegrid')"
   ]
  },
  {
   "cell_type": "code",
   "execution_count": 3,
   "metadata": {},
   "outputs": [],
   "source": [
    "#historical performance\n",
    "mu = 1\n",
    "std = 0.1\n",
    "n = 1000\n",
    "sales_person = 500\n",
    "\n",
    "pct_to_target = np.random.normal(mu, std, sales_person).round(2)"
   ]
  },
  {
   "cell_type": "code",
   "execution_count": 4,
   "metadata": {},
   "outputs": [],
   "source": [
    "sales_target_values = [75_000,100_000,200_000,300_000,400_000,500_000]\n",
    "sales_target_prob = [.3,.3,.2,.1,.05,.05]\n",
    "sales_target = np.random.choice(sales_target_values, sales_person, p=sales_target_prob)"
   ]
  },
  {
   "cell_type": "code",
   "execution_count": 5,
   "metadata": {},
   "outputs": [],
   "source": [
    "df = pd.DataFrame(data={'pct_to_target':pct_to_target,'sales_target':sales_target},index=range(sales_person))\n",
    "df['sales'] = df['pct_to_target'] * df['sales_target']"
   ]
  },
  {
   "cell_type": "code",
   "execution_count": 7,
   "metadata": {},
   "outputs": [],
   "source": [
    "def commission(x):\n",
    "    if x <= .9:\n",
    "        return .02\n",
    "    if x <= .99:\n",
    "        return .03\n",
    "    else:\n",
    "        return .04\n",
    "\n",
    "df['commission'] = df['pct_to_target'].apply(commission)\n",
    "df['commission_amount'] = df['commission']*df['sales']"
   ]
  },
  {
   "cell_type": "code",
   "execution_count": 10,
   "metadata": {},
   "outputs": [],
   "source": [
    "#Monte Carlo Simulation\n",
    "all_stats = []\n",
    "for i in range(n):\n",
    "    pct_to_target = np.random.normal(mu, std, sales_person).round(2)\n",
    "    sales_target = np.random.choice(sales_target_values, sales_person, p=sales_target_prob)\n",
    "    df = pd.DataFrame(data={'pct_to_target':pct_to_target,'sales_target':sales_target},index=range(sales_person))\n",
    "    df['sales'] = df['pct_to_target'] * df['sales_target']\n",
    "    df['commission'] = df['pct_to_target'].apply(commission)\n",
    "    df['commission_amount'] = df['commission']*df['sales']\n",
    "    all_stats.append([df['sales'].sum().round(0),\n",
    "                     df['commission_amount'].sum().round(0),\n",
    "                     df['sales_target'].sum().round(0)])\n"
   ]
  },
  {
   "cell_type": "code",
   "execution_count": 11,
   "metadata": {},
   "outputs": [
    {
     "data": {
      "text/html": [
       "<style  type=\"text/css\" >\n",
       "</style><table id=\"T_a83d302e_497c_11ea_b130_38f9d36584d5\" ><thead>    <tr>        <th class=\"blank level0\" ></th>        <th class=\"col_heading level0 col0\" >sales</th>        <th class=\"col_heading level0 col1\" >commission_amount</th>        <th class=\"col_heading level0 col2\" >sales_target</th>    </tr></thead><tbody>\n",
       "                <tr>\n",
       "                        <th id=\"T_a83d302e_497c_11ea_b130_38f9d36584d5level0_row0\" class=\"row_heading level0 row0\" >count</th>\n",
       "                        <td id=\"T_a83d302e_497c_11ea_b130_38f9d36584d5row0_col0\" class=\"data row0 col0\" >1,000.0</td>\n",
       "                        <td id=\"T_a83d302e_497c_11ea_b130_38f9d36584d5row0_col1\" class=\"data row0 col1\" >1,000.0</td>\n",
       "                        <td id=\"T_a83d302e_497c_11ea_b130_38f9d36584d5row0_col2\" class=\"data row0 col2\" >1,000.0</td>\n",
       "            </tr>\n",
       "            <tr>\n",
       "                        <th id=\"T_a83d302e_497c_11ea_b130_38f9d36584d5level0_row1\" class=\"row_heading level0 row1\" >mean</th>\n",
       "                        <td id=\"T_a83d302e_497c_11ea_b130_38f9d36584d5row1_col0\" class=\"data row1 col0\" >83,713,812.5</td>\n",
       "                        <td id=\"T_a83d302e_497c_11ea_b130_38f9d36584d5row1_col1\" class=\"data row1 col1\" >2,857,767.866</td>\n",
       "                        <td id=\"T_a83d302e_497c_11ea_b130_38f9d36584d5row1_col2\" class=\"data row1 col2\" >83,723,825.0</td>\n",
       "            </tr>\n",
       "            <tr>\n",
       "                        <th id=\"T_a83d302e_497c_11ea_b130_38f9d36584d5level0_row2\" class=\"row_heading level0 row2\" >std</th>\n",
       "                        <td id=\"T_a83d302e_497c_11ea_b130_38f9d36584d5row2_col0\" class=\"data row2 col0\" >2,709,985.307078835</td>\n",
       "                        <td id=\"T_a83d302e_497c_11ea_b130_38f9d36584d5row2_col1\" class=\"data row2 col1\" >101,972.5167685988</td>\n",
       "                        <td id=\"T_a83d302e_497c_11ea_b130_38f9d36584d5row2_col2\" class=\"data row2 col2\" >2,656,805.0092606028</td>\n",
       "            </tr>\n",
       "            <tr>\n",
       "                        <th id=\"T_a83d302e_497c_11ea_b130_38f9d36584d5level0_row3\" class=\"row_heading level0 row3\" >min</th>\n",
       "                        <td id=\"T_a83d302e_497c_11ea_b130_38f9d36584d5row3_col0\" class=\"data row3 col0\" >76,215,500.0</td>\n",
       "                        <td id=\"T_a83d302e_497c_11ea_b130_38f9d36584d5row3_col1\" class=\"data row3 col1\" >2,584,752.0</td>\n",
       "                        <td id=\"T_a83d302e_497c_11ea_b130_38f9d36584d5row3_col2\" class=\"data row3 col2\" >76,025,000.0</td>\n",
       "            </tr>\n",
       "            <tr>\n",
       "                        <th id=\"T_a83d302e_497c_11ea_b130_38f9d36584d5level0_row4\" class=\"row_heading level0 row4\" >25%</th>\n",
       "                        <td id=\"T_a83d302e_497c_11ea_b130_38f9d36584d5row4_col0\" class=\"data row4 col0\" >81,841,625.0</td>\n",
       "                        <td id=\"T_a83d302e_497c_11ea_b130_38f9d36584d5row4_col1\" class=\"data row4 col1\" >2,791,835.5</td>\n",
       "                        <td id=\"T_a83d302e_497c_11ea_b130_38f9d36584d5row4_col2\" class=\"data row4 col2\" >81,800,000.0</td>\n",
       "            </tr>\n",
       "            <tr>\n",
       "                        <th id=\"T_a83d302e_497c_11ea_b130_38f9d36584d5level0_row5\" class=\"row_heading level0 row5\" >50%</th>\n",
       "                        <td id=\"T_a83d302e_497c_11ea_b130_38f9d36584d5row5_col0\" class=\"data row5 col0\" >83,634,500.0</td>\n",
       "                        <td id=\"T_a83d302e_497c_11ea_b130_38f9d36584d5row5_col1\" class=\"data row5 col1\" >2,854,687.0</td>\n",
       "                        <td id=\"T_a83d302e_497c_11ea_b130_38f9d36584d5row5_col2\" class=\"data row5 col2\" >83,600,000.0</td>\n",
       "            </tr>\n",
       "            <tr>\n",
       "                        <th id=\"T_a83d302e_497c_11ea_b130_38f9d36584d5level0_row6\" class=\"row_heading level0 row6\" >75%</th>\n",
       "                        <td id=\"T_a83d302e_497c_11ea_b130_38f9d36584d5row6_col0\" class=\"data row6 col0\" >85,465,562.5</td>\n",
       "                        <td id=\"T_a83d302e_497c_11ea_b130_38f9d36584d5row6_col1\" class=\"data row6 col1\" >2,923,265.5</td>\n",
       "                        <td id=\"T_a83d302e_497c_11ea_b130_38f9d36584d5row6_col2\" class=\"data row6 col2\" >85,500,000.0</td>\n",
       "            </tr>\n",
       "            <tr>\n",
       "                        <th id=\"T_a83d302e_497c_11ea_b130_38f9d36584d5level0_row7\" class=\"row_heading level0 row7\" >max</th>\n",
       "                        <td id=\"T_a83d302e_497c_11ea_b130_38f9d36584d5row7_col0\" class=\"data row7 col0\" >91,272,250.0</td>\n",
       "                        <td id=\"T_a83d302e_497c_11ea_b130_38f9d36584d5row7_col1\" class=\"data row7 col1\" >3,180,802.0</td>\n",
       "                        <td id=\"T_a83d302e_497c_11ea_b130_38f9d36584d5row7_col2\" class=\"data row7 col2\" >91,300,000.0</td>\n",
       "            </tr>\n",
       "    </tbody></table>"
      ],
      "text/plain": [
       "<pandas.io.formats.style.Styler at 0x1a1e3d6950>"
      ]
     },
     "execution_count": 11,
     "metadata": {},
     "output_type": "execute_result"
    }
   ],
   "source": [
    "results = pd.DataFrame.from_records(all_stats, columns=['sales','commission_amount','sales_target'])\n",
    "results.describe().style.format('{:,}')"
   ]
  },
  {
   "cell_type": "code",
   "execution_count": 14,
   "metadata": {},
   "outputs": [
    {
     "data": {
      "text/plain": [
       "Text(0, 0.5, 'frequency')"
      ]
     },
     "execution_count": 14,
     "metadata": {},
     "output_type": "execute_result"
    },
    {
     "data": {
      "image/png": "[encoded data removed]",
      "text/plain": [
       "<Figure size 432x288 with 1 Axes>"
      ]
     },
     "metadata": {},
     "output_type": "display_data"
    }
   ],
   "source": [
    "import matplotlib.pyplot as plt\n",
    "results['commission_amount'].hist()\n",
    "plt.title('Commission Amount Distribution')\n",
    "plt.xlabel('commission_amount')\n",
    "plt.ylabel('frequency')"
   ]
  },
  {
   "cell_type": "code",
   "execution_count": 15,
   "metadata": {},
   "outputs": [
    {
     "data": {
      "text/plain": [
       "Text(0, 0.5, 'frequency')"
      ]
     },
     "execution_count": 15,
     "metadata": {},
     "output_type": "execute_result"
    },
    {
     "data": {
      "image/png": "[encoded data removed]",
      "text/plain": [
       "<Figure size 432x288 with 1 Axes>"
      ]
     },
     "metadata": {},
     "output_type": "display_data"
    }
   ],
   "source": [
    "import matplotlib.pyplot as plt\n",
    "x=results['commission_amount'].values\n",
    "plt.hist(x,bins=25)\n",
    "plt.title('Commission Amount Distribution')\n",
    "plt.xlabel('commission_amount')\n",
    "plt.ylabel('frequency')"
   ]
  },
  {
   "cell_type": "code",
   "execution_count": null,
   "metadata": {},
   "outputs": [],
   "source": []
  }
 ],
 "metadata": {
  "kernelspec": {
   "display_name": "Python 3",
   "language": "python",
   "name": "python3"
  },
  "language_info": {
   "codemirror_mode": {
    "name": "ipython",
    "version": 3
   },
   "file_extension": ".py",
   "mimetype": "text/x-python",
   "name": "python",
   "nbconvert_exporter": "python",
   "pygments_lexer": "ipython3",
   "version": "3.7.4"
  }
 },
 "nbformat": 4,
 "nbformat_minor": 2
}
