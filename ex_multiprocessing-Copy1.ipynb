{
 "cells": [
  {
   "cell_type": "code",
   "execution_count": 7,
   "metadata": {},
   "outputs": [
    {
     "name": "stdout",
     "output_type": "stream",
     "text": [
      "sleeping 2 secondssleeping 2 seconds\n",
      "\n",
      "sleeping 2 seconds\n",
      "sleeping 2 seconds\n",
      "sleeping 2 seconds\n",
      "sleeping 2 seconds\n",
      "sleeping 2 seconds\n",
      "sleeping 2 seconds\n",
      "sleeping 2 seconds\n",
      "sleeping 2 seconds\n",
      "done sleeping 2 seconds\n",
      "done sleeping 2 seconds\n",
      "done sleeping 2 seconds\n",
      "done sleeping 2 seconds\n",
      "done sleeping 2 seconds\n",
      "done sleeping 2 seconds\n",
      "done sleeping 2 seconds\n",
      "done sleeping 2 seconds\n",
      "done sleeping 2 seconds\n",
      "done sleeping 2 seconds\n",
      "Finished in 2.01 seconds\n"
     ]
    }
   ],
   "source": [
    "import concurrent.futures as cf\n",
    "import time\n",
    "\n",
    "start = time.perf_counter()\n",
    "\n",
    "def f(sec):\n",
    "    print(f'sleeping {sec} seconds')\n",
    "    time.sleep(sec)\n",
    "    return f'done sleeping {sec} seconds'\n",
    "\n",
    "#with cf.ProcessPoolExecutor() as executor:\n",
    "with cf.ThreadPoolExecutor() as executor:\n",
    "#    secs = [5,4,3,2,1]\n",
    "    secs = [2 for i in range(10)]\n",
    "    results = executor.map(f, secs)\n",
    "    \n",
    "    for result in results:\n",
    "        print(result)    \n",
    "\n",
    "finisf = time.perf_counter()\n",
    "print(f'Finished in {round(finisf-start,2)} seconds')"
   ]
  },
  {
   "cell_type": "code",
   "execution_count": 5,
   "metadata": {},
   "outputs": [
    {
     "name": "stdout",
     "output_type": "stream",
     "text": [
      "sleeping 1.5 seconds\n",
      "sleeping 1.5 seconds\n",
      "sleeping 1.5 seconds\n",
      "sleeping 1.5 seconds\n",
      "sleeping 1.5 seconds\n",
      "sleeping 1.5 seconds\n",
      "sleeping 1.5 seconds\n",
      "sleeping 1.5 seconds\n",
      "sleeping 1.5 seconds\n",
      "sleeping 1.5 seconds\n",
      "sleeping 1.5 seconds\n",
      "sleeping 1.5 seconds\n",
      "sleeping 1.5 seconds\n",
      "sleeping 1.5 seconds\n",
      "sleeping 1.5 seconds\n",
      "sleeping 1.5 seconds\n",
      "sleeping 1.5 seconds\n",
      "sleeping 1.5 seconds\n",
      "sleeping 1.5 seconds\n",
      "sleeping 1.5 seconds\n",
      "done sleeping 1.5 seconds\n",
      "done sleeping 1.5 seconds\n",
      "done sleeping 1.5 seconds\n",
      "done sleeping 1.5 seconds\n",
      "done sleeping 1.5 seconds\n",
      "done sleeping 1.5 seconds\n",
      "done sleeping 1.5 seconds\n",
      "done sleeping 1.5 seconds\n",
      "done sleeping 1.5 seconds\n",
      "done sleeping 1.5 seconds\n",
      "done sleeping 1.5 seconds\n",
      "done sleeping 1.5 seconds\n",
      "done sleeping 1.5 seconds\n",
      "done sleeping 1.5 seconds\n",
      "done sleeping 1.5 seconds\n",
      "done sleeping 1.5 seconds\n",
      "done sleeping 1.5 seconds\n",
      "done sleeping 1.5 seconds\n",
      "done sleeping 1.5 seconds\n",
      "done sleeping 1.5 seconds\n",
      "Finished in 1.88 seconds\n"
     ]
    }
   ],
   "source": [
    "import multiprocessing as mp\n",
    "import time\n",
    "\n",
    "start = time.perf_counter()\n",
    "\n",
    "def f(sec):\n",
    "    print(f'sleeping {sec} seconds')\n",
    "    time.sleep(sec)\n",
    "    print(f'done sleeping {sec} seconds')\n",
    "\n",
    "processes = []\n",
    "num_process = 20\n",
    "for _ in range(num_process):\n",
    "    p = mp.Process(target=f, args=[1.5])\n",
    "    p.start()\n",
    "    processes.append(p)\n",
    "\n",
    "for process in processes:\n",
    "    process.join()\n",
    "    \n",
    "finisf = time.perf_counter()\n",
    "print(f'Finished in {round(finisf-start,2)} seconds')"
   ]
  },
  {
   "cell_type": "code",
   "execution_count": null,
   "metadata": {},
   "outputs": [],
   "source": []
  }
 ],
 "metadata": {
  "kernelspec": {
   "display_name": "Python 3",
   "language": "python",
   "name": "python3"
  },
  "language_info": {
   "codemirror_mode": {
    "name": "ipython",
    "version": 3
   },
   "file_extension": ".py",
   "mimetype": "text/x-python",
   "name": "python",
   "nbconvert_exporter": "python",
   "pygments_lexer": "ipython3",
   "version": "3.7.4"
  }
 },
 "nbformat": 4,
 "nbformat_minor": 2
}
