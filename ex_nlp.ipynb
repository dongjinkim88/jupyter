{
 "cells": [
  {
   "cell_type": "code",
   "execution_count": 1,
   "metadata": {},
   "outputs": [
    {
     "name": "stdout",
     "output_type": "stream",
     "text": [
      "Collecting PyPDF2\n",
      "\u001b[?25l  Downloading https://files.pythonhosted.org/packages/b4/01/68fcc0d43daf4c6bdbc6b33cc3f77bda531c86b174cac56ef0ffdb96faab/PyPDF2-1.26.0.tar.gz (77kB)\n",
      "\u001b[K     |████████████████████████████████| 81kB 2.1MB/s eta 0:00:011\n",
      "\u001b[?25hBuilding wheels for collected packages: PyPDF2\n",
      "  Building wheel for PyPDF2 (setup.py) ... \u001b[?25ldone\n",
      "\u001b[?25h  Created wheel for PyPDF2: filename=PyPDF2-1.26.0-cp37-none-any.whl size=61086 sha256=0642edcb927e7b45ae09000a72d3e05448792425eecd12def67696a636e74fc0\n",
      "  Stored in directory: /Users/djkim/Library/Caches/pip/wheels/53/84/19/35bc977c8bf5f0c23a8a011aa958acd4da4bbd7a229315c1b7\n",
      "Successfully built PyPDF2\n",
      "Installing collected packages: PyPDF2\n",
      "Successfully installed PyPDF2-1.26.0\n"
     ]
    }
   ],
   "source": [
    "#!pip install PyPDF2"
   ]
  },
  {
   "cell_type": "code",
   "execution_count": 2,
   "metadata": {},
   "outputs": [],
   "source": [
    "import PyPDF2 as pdf"
   ]
  },
  {
   "cell_type": "code",
   "execution_count": 21,
   "metadata": {},
   "outputs": [],
   "source": [
    "file = open('aada.pdf','rb')"
   ]
  },
  {
   "cell_type": "code",
   "execution_count": 22,
   "metadata": {},
   "outputs": [],
   "source": [
    "pdf_reader = pdf.PdfFileReader(file)"
   ]
  },
  {
   "cell_type": "code",
   "execution_count": 20,
   "metadata": {},
   "outputs": [],
   "source": [
    "#help(pdf_reader)"
   ]
  },
  {
   "cell_type": "code",
   "execution_count": 8,
   "metadata": {},
   "outputs": [
    {
     "data": {
      "text/plain": [
       "False"
      ]
     },
     "execution_count": 8,
     "metadata": {},
     "output_type": "execute_result"
    }
   ],
   "source": [
    "pdf_reader.getIsEncrypted()"
   ]
  },
  {
   "cell_type": "code",
   "execution_count": 9,
   "metadata": {},
   "outputs": [
    {
     "data": {
      "text/plain": [
       "1"
      ]
     },
     "execution_count": 9,
     "metadata": {},
     "output_type": "execute_result"
    }
   ],
   "source": [
    "pdf_reader.getNumPages()"
   ]
  },
  {
   "cell_type": "code",
   "execution_count": 35,
   "metadata": {},
   "outputs": [],
   "source": [
    "import PyPDF2 as pdf\n",
    "file = open('aada.pdf','rb')\n",
    "pdf_reader = pdf.PdfFileReader(file)\n",
    "page=pdf_reader.getPage(0)\n",
    "text = page.extractText()\n",
    "\n",
    "file = open('aada.txt', 'w')\n",
    "file.writelines(text)\n",
    "file.close()"
   ]
  },
  {
   "cell_type": "markdown",
   "metadata": {},
   "source": [
    "### Append Write or Merge PDFs"
   ]
  },
  {
   "cell_type": "code",
   "execution_count": 14,
   "metadata": {},
   "outputs": [],
   "source": [
    "pdf_writer = pdf.PdfFileWriter()"
   ]
  },
  {
   "cell_type": "code",
   "execution_count": 30,
   "metadata": {},
   "outputs": [],
   "source": [
    "pdf_writer.addPage(page)"
   ]
  },
  {
   "cell_type": "code",
   "execution_count": 31,
   "metadata": {},
   "outputs": [],
   "source": [
    "output = open('page.pdf','wb')\n",
    "pdf_writer.write(output)\n",
    "output.close()"
   ]
  },
  {
   "cell_type": "markdown",
   "metadata": {},
   "source": [
    "## spaCy"
   ]
  },
  {
   "cell_type": "code",
   "execution_count": 14,
   "metadata": {},
   "outputs": [],
   "source": [
    "import spacy"
   ]
  },
  {
   "cell_type": "code",
   "execution_count": 21,
   "metadata": {},
   "outputs": [],
   "source": [
    "nlp = spacy.load('en')\n",
    "#nlp = spacy.load('en_core_web_sm')"
   ]
  },
  {
   "cell_type": "code",
   "execution_count": 22,
   "metadata": {},
   "outputs": [],
   "source": [
    "doc=nlp(\"Apple is looking at buying U.K. startup for $1 billion\")"
   ]
  },
  {
   "cell_type": "code",
   "execution_count": 19,
   "metadata": {},
   "outputs": [
    {
     "name": "stdout",
     "output_type": "stream",
     "text": [
      "Apple PROPN nsubj\n",
      "is VERB aux\n",
      "looking VERB ROOT\n",
      "at ADP prep\n",
      "buying VERB pcomp\n",
      "U.K. PROPN compound\n",
      "startup NOUN dobj\n",
      "for ADP prep\n",
      "$ SYM quantmod\n",
      "1 NUM compound\n",
      "billion NUM pobj\n"
     ]
    }
   ],
   "source": [
    "for token in doc:\n",
    "    print(token.text, token.pos_, token.dep_)\n"
   ]
  },
  {
   "cell_type": "code",
   "execution_count": 31,
   "metadata": {},
   "outputs": [
    {
     "name": "stdout",
     "output_type": "stream",
     "text": [
      "['Apple', 'is', 'looking', 'at', 'buying', 'U.K.', 'startup', 'for', '$', '1', 'billion']\n",
      "['Apple', 'is', 'looking', 'at', 'buying', 'U.K.', 'startup', 'for', '$1', 'billion']\n"
     ]
    }
   ],
   "source": [
    "print([token.text for token in doc])\n",
    "print(doc.text.split(' '))"
   ]
  },
  {
   "cell_type": "code",
   "execution_count": 24,
   "metadata": {},
   "outputs": [],
   "source": [
    "doc2=nlp(open('aada.txt').read())"
   ]
  },
  {
   "cell_type": "code",
   "execution_count": 28,
   "metadata": {},
   "outputs": [
    {
     "name": "stdout",
     "output_type": "stream",
     "text": [
      "0: AnAdaptiveAnomalyDetectionAlgorithm\n",
      "forBiologicalOutbreaksusingOpen-Source\n",
      "Media\n",
      "DongjinKim\n",
      "\n",
      "andJamesM.Wilson\n",
      "\n",
      "1: DivisionofIntegratedBioDefense\n",
      "\n",
      "2: ISISCenter,GeorgetownUniversity\n",
      "Washington,\n",
      "3: DC20057\n",
      "April2,2007\n",
      "\n",
      "4: Abstract\n",
      "Weintroduceanadaptiveanomalydetectionalgorithmforea\n",
      "rly\n",
      "detectionofsociallydisruptivebiologicaloutbreaksthr\n",
      "oughmonitor-\n",
      "ingofopen-sourcemedia.\n",
      "5: Weuseindirectindicatorscoveri\n",
      "ngvarious\n",
      "aspectsofsocialdisruptionstoimprovethetimelinessofo\n",
      "\n",
      "6: utbreakde-\n",
      "tectionandusetheexponentiallyweightedmovingaveragea\n",
      "ndthe\n",
      "exponentiallyweightedmovingvariancetobuildanadaptiv\n",
      "ebaseline\n",
      "model.\n",
      "7: Thealgorithmisappliedtodetectthebiologicalout\n",
      "breaksof\n",
      "severeacuterespiratorysyndromeanddenguefeverinIndia\n",
      "\n",
      "8: in2003.\n",
      "\n",
      "9: Keywords:anomalydetection;SARS;EWMA;EWMV\n",
      "1Introduction\n",
      "\n",
      "Asdiscussedin[1]biologicaloutbreakscanresultinsubst\n",
      "\n",
      "10: antialsocialdis-\n",
      "ruptionssuchasavoidanceofpublicplaces,hospitalclosi\n",
      "ngsandhospital\n",
      "\n",
      "Correspondingauthor.Email:dkim@isis.georgetown.edu,\n",
      "Tel:202-687-9087,Fax:\n",
      "202-784-3479.\n",
      "\n",
      "11: 1\n",
      "\n"
     ]
    }
   ],
   "source": [
    "for n, sentence in enumerate(doc2.sents):\n",
    "    print(f'{n}: {sentence}')"
   ]
  },
  {
   "cell_type": "code",
   "execution_count": null,
   "metadata": {},
   "outputs": [],
   "source": []
  }
 ],
 "metadata": {
  "kernelspec": {
   "display_name": "Python 3",
   "language": "python",
   "name": "python3"
  },
  "language_info": {
   "codemirror_mode": {
    "name": "ipython",
    "version": 3
   },
   "file_extension": ".py",
   "mimetype": "text/x-python",
   "name": "python",
   "nbconvert_exporter": "python",
   "pygments_lexer": "ipython3",
   "version": "3.7.4"
  }
 },
 "nbformat": 4,
 "nbformat_minor": 2
}
