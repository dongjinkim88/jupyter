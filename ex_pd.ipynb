{
 "cells": [
  {
   "cell_type": "markdown",
   "metadata": {},
   "source": [
    "# pandas summary"
   ]
  },
  {
   "cell_type": "markdown",
   "metadata": {},
   "source": [
    "## df.index, columns, values, dtypes\n",
    "## df[mask][[columns]] = df.loc[mask,[columns]]\n",
    "## df['e']=0, df.loc[mask,'e']=0, not df[mask,'e']=0\n",
    "## df.mean(), apply(), describe(), plot(), hist()\n",
    "## df.apply(np.cumsum) = np.cumsum(df)"
   ]
  },
  {
   "cell_type": "code",
   "execution_count": 1,
   "metadata": {},
   "outputs": [],
   "source": [
    "import numpy as np\n",
    "import pandas as pd"
   ]
  },
  {
   "cell_type": "code",
   "execution_count": 34,
   "metadata": {},
   "outputs": [
    {
     "data": {
      "text/plain": [
       "0    0.856757\n",
       "1    2.069096\n",
       "2    0.191514\n",
       "3   -1.596903\n",
       "4   -1.105910\n",
       "5    1.291550\n",
       "6    0.430418\n",
       "7   -1.180342\n",
       "8   -0.350740\n",
       "9    0.868208\n",
       "dtype: float64"
      ]
     },
     "execution_count": 34,
     "metadata": {},
     "output_type": "execute_result"
    }
   ],
   "source": [
    "s=pd.Series(np.random.randn(10))\n",
    "s"
   ]
  },
  {
   "cell_type": "code",
   "execution_count": 3,
   "metadata": {},
   "outputs": [
    {
     "data": {
      "text/plain": [
       "DatetimeIndex(['2019-03-01', '2019-03-02', '2019-03-03', '2019-03-04',\n",
       "               '2019-03-05', '2019-03-06'],\n",
       "              dtype='datetime64[ns]', freq='D')"
      ]
     },
     "execution_count": 3,
     "metadata": {},
     "output_type": "execute_result"
    }
   ],
   "source": [
    "dates=pd.date_range('20190301',periods=6)\n",
    "dates"
   ]
  },
  {
   "cell_type": "code",
   "execution_count": 6,
   "metadata": {},
   "outputs": [
    {
     "data": {
      "text/html": [
       "<div>\n",
       "<style scoped>\n",
       "    .dataframe tbody tr th:only-of-type {\n",
       "        vertical-align: middle;\n",
       "    }\n",
       "\n",
       "    .dataframe tbody tr th {\n",
       "        vertical-align: top;\n",
       "    }\n",
       "\n",
       "    .dataframe thead th {\n",
       "        text-align: right;\n",
       "    }\n",
       "</style>\n",
       "<table border=\"1\" class=\"dataframe\">\n",
       "  <thead>\n",
       "    <tr style=\"text-align: right;\">\n",
       "      <th></th>\n",
       "      <th>a</th>\n",
       "      <th>b</th>\n",
       "      <th>c</th>\n",
       "      <th>d</th>\n",
       "    </tr>\n",
       "  </thead>\n",
       "  <tbody>\n",
       "    <tr>\n",
       "      <td>count</td>\n",
       "      <td>6.000000</td>\n",
       "      <td>6.000000</td>\n",
       "      <td>6.000000</td>\n",
       "      <td>6.000000</td>\n",
       "    </tr>\n",
       "    <tr>\n",
       "      <td>mean</td>\n",
       "      <td>-0.008828</td>\n",
       "      <td>0.156391</td>\n",
       "      <td>-0.483561</td>\n",
       "      <td>0.134188</td>\n",
       "    </tr>\n",
       "    <tr>\n",
       "      <td>std</td>\n",
       "      <td>1.651016</td>\n",
       "      <td>1.065224</td>\n",
       "      <td>1.046338</td>\n",
       "      <td>1.005857</td>\n",
       "    </tr>\n",
       "    <tr>\n",
       "      <td>min</td>\n",
       "      <td>-2.210410</td>\n",
       "      <td>-1.414450</td>\n",
       "      <td>-1.682431</td>\n",
       "      <td>-1.280472</td>\n",
       "    </tr>\n",
       "    <tr>\n",
       "      <td>25%</td>\n",
       "      <td>-1.026429</td>\n",
       "      <td>-0.332154</td>\n",
       "      <td>-1.220017</td>\n",
       "      <td>-0.364042</td>\n",
       "    </tr>\n",
       "    <tr>\n",
       "      <td>50%</td>\n",
       "      <td>0.032921</td>\n",
       "      <td>0.146046</td>\n",
       "      <td>-0.708790</td>\n",
       "      <td>-0.025964</td>\n",
       "    </tr>\n",
       "    <tr>\n",
       "      <td>75%</td>\n",
       "      <td>0.793051</td>\n",
       "      <td>0.708059</td>\n",
       "      <td>0.380285</td>\n",
       "      <td>0.895652</td>\n",
       "    </tr>\n",
       "    <tr>\n",
       "      <td>max</td>\n",
       "      <td>2.424721</td>\n",
       "      <td>1.656863</td>\n",
       "      <td>0.845763</td>\n",
       "      <td>1.411408</td>\n",
       "    </tr>\n",
       "  </tbody>\n",
       "</table>\n",
       "</div>"
      ],
      "text/plain": [
       "              a         b         c         d\n",
       "count  6.000000  6.000000  6.000000  6.000000\n",
       "mean  -0.008828  0.156391 -0.483561  0.134188\n",
       "std    1.651016  1.065224  1.046338  1.005857\n",
       "min   -2.210410 -1.414450 -1.682431 -1.280472\n",
       "25%   -1.026429 -0.332154 -1.220017 -0.364042\n",
       "50%    0.032921  0.146046 -0.708790 -0.025964\n",
       "75%    0.793051  0.708059  0.380285  0.895652\n",
       "max    2.424721  1.656863  0.845763  1.411408"
      ]
     },
     "execution_count": 6,
     "metadata": {},
     "output_type": "execute_result"
    }
   ],
   "source": [
    "df=pd.DataFrame(np.random.randn(6,4),index=dates,columns=list('abcd'))\n",
    "df.describe()"
   ]
  },
  {
   "cell_type": "code",
   "execution_count": 30,
   "metadata": {},
   "outputs": [
    {
     "data": {
      "text/plain": [
       "RangeIndex(start=0, stop=6, step=1)"
      ]
     },
     "execution_count": 30,
     "metadata": {},
     "output_type": "execute_result"
    }
   ],
   "source": [
    "df.index"
   ]
  },
  {
   "cell_type": "code",
   "execution_count": 31,
   "metadata": {},
   "outputs": [
    {
     "data": {
      "text/plain": [
       "Index(['a', 'b', 'c', 'd', 'i'], dtype='object')"
      ]
     },
     "execution_count": 31,
     "metadata": {},
     "output_type": "execute_result"
    }
   ],
   "source": [
    "df.columns"
   ]
  },
  {
   "cell_type": "code",
   "execution_count": 42,
   "metadata": {},
   "outputs": [
    {
     "name": "stdout",
     "output_type": "stream",
     "text": [
      "(6, 5)\n"
     ]
    },
    {
     "data": {
      "text/plain": [
       "array([[0.33359952118541697, 2.227380967703229, -2.4206231848494384,\n",
       "        0.5720793009230521, 'a'],\n",
       "       [0.44859512516314315, 1.3850340245443626, 1.6522797087451548,\n",
       "        0.3629145491713898, 'a'],\n",
       "       [0.5076261136970892, -0.08097179655203272, 0.18168338569425213,\n",
       "        -0.39574703489216567, 'b'],\n",
       "       [-0.6462971864748555, -0.07285184798752137, 0.17200820071926387,\n",
       "        0.5586396284880625, 'c'],\n",
       "       [-0.6756321244360014, -0.05721202869496336, 0.26934830626174133,\n",
       "        -0.7322657966529286, 'c'],\n",
       "       [0.9939717709206196, -0.549135905165316, 0.0983455859724354,\n",
       "        -0.516381175645762, 'c']], dtype=object)"
      ]
     },
     "execution_count": 42,
     "metadata": {},
     "output_type": "execute_result"
    }
   ],
   "source": [
    "A=df.values\n",
    "print(A.shape)\n",
    "A"
   ]
  },
  {
   "cell_type": "code",
   "execution_count": 43,
   "metadata": {},
   "outputs": [
    {
     "name": "stdout",
     "output_type": "stream",
     "text": [
      "(6, 5)\n"
     ]
    },
    {
     "data": {
      "text/plain": [
       "array([[0.33359952118541697, 2.227380967703229, -2.4206231848494384,\n",
       "        0.5720793009230521, 'a'],\n",
       "       [0.44859512516314315, 1.3850340245443626, 1.6522797087451548,\n",
       "        0.3629145491713898, 'a'],\n",
       "       [0.5076261136970892, -0.08097179655203272, 0.18168338569425213,\n",
       "        -0.39574703489216567, 'b'],\n",
       "       [-0.6462971864748555, -0.07285184798752137, 0.17200820071926387,\n",
       "        0.5586396284880625, 'c'],\n",
       "       [-0.6756321244360014, -0.05721202869496336, 0.26934830626174133,\n",
       "        -0.7322657966529286, 'c'],\n",
       "       [0.9939717709206196, -0.549135905165316, 0.0983455859724354,\n",
       "        -0.516381175645762, 'c']], dtype=object)"
      ]
     },
     "execution_count": 43,
     "metadata": {},
     "output_type": "execute_result"
    }
   ],
   "source": [
    "#optional\n",
    "df_np = np.array(df)\n",
    "print(df_np.shape)\n",
    "df_np"
   ]
  },
  {
   "cell_type": "code",
   "execution_count": 9,
   "metadata": {},
   "outputs": [
    {
     "data": {
      "text/plain": [
       "a    float64\n",
       "b    float64\n",
       "c    float64\n",
       "d    float64\n",
       "e      int64\n",
       "f      int64\n",
       "h      int64\n",
       "dtype: object"
      ]
     },
     "execution_count": 9,
     "metadata": {},
     "output_type": "execute_result"
    }
   ],
   "source": [
    "df.dtypes"
   ]
  },
  {
   "cell_type": "code",
   "execution_count": 7,
   "metadata": {},
   "outputs": [
    {
     "data": {
      "text/plain": [
       "numpy.datetime64('2019-03-01T00:00:00.000000000')"
      ]
     },
     "execution_count": 7,
     "metadata": {},
     "output_type": "execute_result"
    }
   ],
   "source": [
    "np.array(df.index)[0]"
   ]
  },
  {
   "cell_type": "code",
   "execution_count": 8,
   "metadata": {},
   "outputs": [
    {
     "data": {
      "text/html": [
       "<div>\n",
       "<style scoped>\n",
       "    .dataframe tbody tr th:only-of-type {\n",
       "        vertical-align: middle;\n",
       "    }\n",
       "\n",
       "    .dataframe tbody tr th {\n",
       "        vertical-align: top;\n",
       "    }\n",
       "\n",
       "    .dataframe thead th {\n",
       "        text-align: right;\n",
       "    }\n",
       "</style>\n",
       "<table border=\"1\" class=\"dataframe\">\n",
       "  <thead>\n",
       "    <tr style=\"text-align: right;\">\n",
       "      <th></th>\n",
       "      <th>a</th>\n",
       "      <th>b</th>\n",
       "      <th>c</th>\n",
       "      <th>d</th>\n",
       "      <th>e</th>\n",
       "      <th>f</th>\n",
       "      <th>h</th>\n",
       "    </tr>\n",
       "  </thead>\n",
       "  <tbody>\n",
       "    <tr>\n",
       "      <td>2019-03-01</td>\n",
       "      <td>-2.141976</td>\n",
       "      <td>0.323607</td>\n",
       "      <td>0.116856</td>\n",
       "      <td>-1.949674</td>\n",
       "      <td>0</td>\n",
       "      <td>0</td>\n",
       "      <td>0</td>\n",
       "    </tr>\n",
       "    <tr>\n",
       "      <td>2019-03-02</td>\n",
       "      <td>-1.053451</td>\n",
       "      <td>-1.328353</td>\n",
       "      <td>-0.548382</td>\n",
       "      <td>1.250541</td>\n",
       "      <td>0</td>\n",
       "      <td>0</td>\n",
       "      <td>0</td>\n",
       "    </tr>\n",
       "    <tr>\n",
       "      <td>2019-03-03</td>\n",
       "      <td>-1.364515</td>\n",
       "      <td>2.099598</td>\n",
       "      <td>0.473802</td>\n",
       "      <td>-1.396787</td>\n",
       "      <td>0</td>\n",
       "      <td>0</td>\n",
       "      <td>0</td>\n",
       "    </tr>\n",
       "    <tr>\n",
       "      <td>2019-03-04</td>\n",
       "      <td>-0.651955</td>\n",
       "      <td>0.636503</td>\n",
       "      <td>0.567210</td>\n",
       "      <td>-0.131950</td>\n",
       "      <td>0</td>\n",
       "      <td>0</td>\n",
       "      <td>0</td>\n",
       "    </tr>\n",
       "    <tr>\n",
       "      <td>2019-03-05</td>\n",
       "      <td>-0.267343</td>\n",
       "      <td>0.353506</td>\n",
       "      <td>1.320503</td>\n",
       "      <td>-0.654023</td>\n",
       "      <td>0</td>\n",
       "      <td>0</td>\n",
       "      <td>0</td>\n",
       "    </tr>\n",
       "    <tr>\n",
       "      <td>2019-03-06</td>\n",
       "      <td>-1.679535</td>\n",
       "      <td>-1.481433</td>\n",
       "      <td>-1.633783</td>\n",
       "      <td>0.880490</td>\n",
       "      <td>0</td>\n",
       "      <td>0</td>\n",
       "      <td>0</td>\n",
       "    </tr>\n",
       "  </tbody>\n",
       "</table>\n",
       "</div>"
      ],
      "text/plain": [
       "                   a         b         c         d  e  f  h\n",
       "2019-03-01 -2.141976  0.323607  0.116856 -1.949674  0  0  0\n",
       "2019-03-02 -1.053451 -1.328353 -0.548382  1.250541  0  0  0\n",
       "2019-03-03 -1.364515  2.099598  0.473802 -1.396787  0  0  0\n",
       "2019-03-04 -0.651955  0.636503  0.567210 -0.131950  0  0  0\n",
       "2019-03-05 -0.267343  0.353506  1.320503 -0.654023  0  0  0\n",
       "2019-03-06 -1.679535 -1.481433 -1.633783  0.880490  0  0  0"
      ]
     },
     "execution_count": 8,
     "metadata": {},
     "output_type": "execute_result"
    }
   ],
   "source": [
    "df['e']=0\n",
    "df['f']=0\n",
    "df['h']=0\n",
    "df"
   ]
  },
  {
   "cell_type": "code",
   "execution_count": 46,
   "metadata": {},
   "outputs": [
    {
     "data": {
      "text/plain": [
       "pandas.core.frame.DataFrame"
      ]
     },
     "execution_count": 46,
     "metadata": {},
     "output_type": "execute_result"
    }
   ],
   "source": [
    "mask=df.a>0\n",
    "df.loc[mask,:]"
   ]
  },
  {
   "cell_type": "code",
   "execution_count": 47,
   "metadata": {},
   "outputs": [
    {
     "data": {
      "text/plain": [
       "pandas.core.frame.DataFrame"
      ]
     },
     "execution_count": 47,
     "metadata": {},
     "output_type": "execute_result"
    }
   ],
   "source": [
    "df[mask]"
   ]
  },
  {
   "cell_type": "code",
   "execution_count": 53,
   "metadata": {},
   "outputs": [
    {
     "name": "stdout",
     "output_type": "stream",
     "text": [
      "<class 'pandas.core.frame.DataFrame'>\n",
      "                   a         b\n",
      "2019-03-01  0.333600  2.227381\n",
      "2019-03-02  0.448595  1.385034\n",
      "2019-03-03  0.507626 -0.080972\n",
      "2019-03-06  0.993972 -0.549136\n",
      "<class 'pandas.core.frame.DataFrame'>\n",
      "                   a         b\n",
      "2019-03-01  0.333600  2.227381\n",
      "2019-03-02  0.448595  1.385034\n",
      "2019-03-03  0.507626 -0.080972\n",
      "2019-03-06  0.993972 -0.549136\n"
     ]
    }
   ],
   "source": [
    "df1=df[mask][['a','b']]\n",
    "df2=df.loc[mask,['a','b']]\n",
    "print(type(df1))\n",
    "print(df1)\n",
    "print(type(df2))\n",
    "print(df2)"
   ]
  },
  {
   "cell_type": "code",
   "execution_count": 58,
   "metadata": {},
   "outputs": [
    {
     "data": {
      "text/html": [
       "<div>\n",
       "<style scoped>\n",
       "    .dataframe tbody tr th:only-of-type {\n",
       "        vertical-align: middle;\n",
       "    }\n",
       "\n",
       "    .dataframe tbody tr th {\n",
       "        vertical-align: top;\n",
       "    }\n",
       "\n",
       "    .dataframe thead th {\n",
       "        text-align: right;\n",
       "    }\n",
       "</style>\n",
       "<table border=\"1\" class=\"dataframe\">\n",
       "  <thead>\n",
       "    <tr style=\"text-align: right;\">\n",
       "      <th></th>\n",
       "      <th>a</th>\n",
       "      <th>b</th>\n",
       "      <th>c</th>\n",
       "      <th>d</th>\n",
       "      <th>i</th>\n",
       "      <th>e</th>\n",
       "    </tr>\n",
       "  </thead>\n",
       "  <tbody>\n",
       "    <tr>\n",
       "      <td>2019-03-01</td>\n",
       "      <td>0.333600</td>\n",
       "      <td>2.227381</td>\n",
       "      <td>-2.420623</td>\n",
       "      <td>0.572079</td>\n",
       "      <td>a</td>\n",
       "      <td>20.0</td>\n",
       "    </tr>\n",
       "    <tr>\n",
       "      <td>2019-03-02</td>\n",
       "      <td>0.448595</td>\n",
       "      <td>1.385034</td>\n",
       "      <td>1.652280</td>\n",
       "      <td>0.362915</td>\n",
       "      <td>a</td>\n",
       "      <td>20.0</td>\n",
       "    </tr>\n",
       "    <tr>\n",
       "      <td>2019-03-03</td>\n",
       "      <td>0.507626</td>\n",
       "      <td>-0.080972</td>\n",
       "      <td>0.181683</td>\n",
       "      <td>-0.395747</td>\n",
       "      <td>b</td>\n",
       "      <td>20.0</td>\n",
       "    </tr>\n",
       "    <tr>\n",
       "      <td>2019-03-04</td>\n",
       "      <td>-0.646297</td>\n",
       "      <td>-0.072852</td>\n",
       "      <td>0.172008</td>\n",
       "      <td>0.558640</td>\n",
       "      <td>c</td>\n",
       "      <td>NaN</td>\n",
       "    </tr>\n",
       "    <tr>\n",
       "      <td>2019-03-05</td>\n",
       "      <td>-0.675632</td>\n",
       "      <td>-0.057212</td>\n",
       "      <td>0.269348</td>\n",
       "      <td>-0.732266</td>\n",
       "      <td>c</td>\n",
       "      <td>NaN</td>\n",
       "    </tr>\n",
       "    <tr>\n",
       "      <td>2019-03-06</td>\n",
       "      <td>0.993972</td>\n",
       "      <td>-0.549136</td>\n",
       "      <td>0.098346</td>\n",
       "      <td>-0.516381</td>\n",
       "      <td>c</td>\n",
       "      <td>20.0</td>\n",
       "    </tr>\n",
       "  </tbody>\n",
       "</table>\n",
       "</div>"
      ],
      "text/plain": [
       "                   a         b         c         d  i     e\n",
       "2019-03-01  0.333600  2.227381 -2.420623  0.572079  a  20.0\n",
       "2019-03-02  0.448595  1.385034  1.652280  0.362915  a  20.0\n",
       "2019-03-03  0.507626 -0.080972  0.181683 -0.395747  b  20.0\n",
       "2019-03-04 -0.646297 -0.072852  0.172008  0.558640  c   NaN\n",
       "2019-03-05 -0.675632 -0.057212  0.269348 -0.732266  c   NaN\n",
       "2019-03-06  0.993972 -0.549136  0.098346 -0.516381  c  20.0"
      ]
     },
     "execution_count": 58,
     "metadata": {},
     "output_type": "execute_result"
    }
   ],
   "source": [
    "df.loc[mask,'e']=20\n",
    "#df[mask][['e',]]=20\n",
    "df"
   ]
  },
  {
   "cell_type": "code",
   "execution_count": 14,
   "metadata": {},
   "outputs": [
    {
     "data": {
      "text/html": [
       "<div>\n",
       "<style scoped>\n",
       "    .dataframe tbody tr th:only-of-type {\n",
       "        vertical-align: middle;\n",
       "    }\n",
       "\n",
       "    .dataframe tbody tr th {\n",
       "        vertical-align: top;\n",
       "    }\n",
       "\n",
       "    .dataframe thead th {\n",
       "        text-align: right;\n",
       "    }\n",
       "</style>\n",
       "<table border=\"1\" class=\"dataframe\">\n",
       "  <thead>\n",
       "    <tr style=\"text-align: right;\">\n",
       "      <th></th>\n",
       "      <th>c</th>\n",
       "      <th>d</th>\n",
       "    </tr>\n",
       "  </thead>\n",
       "  <tbody>\n",
       "    <tr>\n",
       "      <td>2019-03-02</td>\n",
       "      <td>-0.548382</td>\n",
       "      <td>1.250541</td>\n",
       "    </tr>\n",
       "    <tr>\n",
       "      <td>2019-03-03</td>\n",
       "      <td>0.473802</td>\n",
       "      <td>-1.396787</td>\n",
       "    </tr>\n",
       "  </tbody>\n",
       "</table>\n",
       "</div>"
      ],
      "text/plain": [
       "                   c         d\n",
       "2019-03-02 -0.548382  1.250541\n",
       "2019-03-03  0.473802 -1.396787"
      ]
     },
     "execution_count": 14,
     "metadata": {},
     "output_type": "execute_result"
    }
   ],
   "source": [
    "df.iloc[1:3,2:4]"
   ]
  },
  {
   "cell_type": "code",
   "execution_count": 15,
   "metadata": {},
   "outputs": [
    {
     "data": {
      "text/plain": [
       "0.10057129113358505"
      ]
     },
     "execution_count": 15,
     "metadata": {},
     "output_type": "execute_result"
    }
   ],
   "source": [
    "df.iloc[:,1].mean()"
   ]
  },
  {
   "cell_type": "code",
   "execution_count": 16,
   "metadata": {},
   "outputs": [
    {
     "data": {
      "text/plain": [
       "a   -1.193129\n",
       "b    0.100571\n",
       "c    0.049368\n",
       "d   -0.333567\n",
       "e    0.000000\n",
       "f    0.000000\n",
       "h    0.000000\n",
       "dtype: float64"
      ]
     },
     "execution_count": 16,
     "metadata": {},
     "output_type": "execute_result"
    }
   ],
   "source": [
    "df.mean()"
   ]
  },
  {
   "cell_type": "code",
   "execution_count": 17,
   "metadata": {},
   "outputs": [
    {
     "data": {
      "text/plain": [
       "a    1.874633\n",
       "b    3.581032\n",
       "c    2.954286\n",
       "d    3.200214\n",
       "e    0.000000\n",
       "f    0.000000\n",
       "h    0.000000\n",
       "dtype: float64"
      ]
     },
     "execution_count": 17,
     "metadata": {},
     "output_type": "execute_result"
    }
   ],
   "source": [
    "df.apply(lambda x:x.max()-x.min())"
   ]
  },
  {
   "cell_type": "code",
   "execution_count": 18,
   "metadata": {},
   "outputs": [
    {
     "data": {
      "text/html": [
       "<div>\n",
       "<style scoped>\n",
       "    .dataframe tbody tr th:only-of-type {\n",
       "        vertical-align: middle;\n",
       "    }\n",
       "\n",
       "    .dataframe tbody tr th {\n",
       "        vertical-align: top;\n",
       "    }\n",
       "\n",
       "    .dataframe thead th {\n",
       "        text-align: right;\n",
       "    }\n",
       "</style>\n",
       "<table border=\"1\" class=\"dataframe\">\n",
       "  <thead>\n",
       "    <tr style=\"text-align: right;\">\n",
       "      <th></th>\n",
       "      <th>a</th>\n",
       "      <th>b</th>\n",
       "      <th>c</th>\n",
       "      <th>d</th>\n",
       "      <th>e</th>\n",
       "      <th>f</th>\n",
       "      <th>h</th>\n",
       "    </tr>\n",
       "  </thead>\n",
       "  <tbody>\n",
       "    <tr>\n",
       "      <td>2019-03-01</td>\n",
       "      <td>-2.141976</td>\n",
       "      <td>0.323607</td>\n",
       "      <td>0.116856</td>\n",
       "      <td>-1.949674</td>\n",
       "      <td>0.0</td>\n",
       "      <td>0.0</td>\n",
       "      <td>0.0</td>\n",
       "    </tr>\n",
       "    <tr>\n",
       "      <td>2019-03-02</td>\n",
       "      <td>-3.195427</td>\n",
       "      <td>-1.004746</td>\n",
       "      <td>-0.431526</td>\n",
       "      <td>-0.699133</td>\n",
       "      <td>0.0</td>\n",
       "      <td>0.0</td>\n",
       "      <td>0.0</td>\n",
       "    </tr>\n",
       "    <tr>\n",
       "      <td>2019-03-03</td>\n",
       "      <td>-4.559943</td>\n",
       "      <td>1.094852</td>\n",
       "      <td>0.042276</td>\n",
       "      <td>-2.095920</td>\n",
       "      <td>0.0</td>\n",
       "      <td>0.0</td>\n",
       "      <td>0.0</td>\n",
       "    </tr>\n",
       "    <tr>\n",
       "      <td>2019-03-04</td>\n",
       "      <td>-5.211898</td>\n",
       "      <td>1.731355</td>\n",
       "      <td>0.609486</td>\n",
       "      <td>-2.227870</td>\n",
       "      <td>0.0</td>\n",
       "      <td>0.0</td>\n",
       "      <td>0.0</td>\n",
       "    </tr>\n",
       "    <tr>\n",
       "      <td>2019-03-05</td>\n",
       "      <td>-5.479241</td>\n",
       "      <td>2.084861</td>\n",
       "      <td>1.929989</td>\n",
       "      <td>-2.881893</td>\n",
       "      <td>0.0</td>\n",
       "      <td>0.0</td>\n",
       "      <td>0.0</td>\n",
       "    </tr>\n",
       "    <tr>\n",
       "      <td>2019-03-06</td>\n",
       "      <td>-7.158777</td>\n",
       "      <td>0.603428</td>\n",
       "      <td>0.296206</td>\n",
       "      <td>-2.001403</td>\n",
       "      <td>0.0</td>\n",
       "      <td>0.0</td>\n",
       "      <td>0.0</td>\n",
       "    </tr>\n",
       "  </tbody>\n",
       "</table>\n",
       "</div>"
      ],
      "text/plain": [
       "                   a         b         c         d    e    f    h\n",
       "2019-03-01 -2.141976  0.323607  0.116856 -1.949674  0.0  0.0  0.0\n",
       "2019-03-02 -3.195427 -1.004746 -0.431526 -0.699133  0.0  0.0  0.0\n",
       "2019-03-03 -4.559943  1.094852  0.042276 -2.095920  0.0  0.0  0.0\n",
       "2019-03-04 -5.211898  1.731355  0.609486 -2.227870  0.0  0.0  0.0\n",
       "2019-03-05 -5.479241  2.084861  1.929989 -2.881893  0.0  0.0  0.0\n",
       "2019-03-06 -7.158777  0.603428  0.296206 -2.001403  0.0  0.0  0.0"
      ]
     },
     "execution_count": 18,
     "metadata": {},
     "output_type": "execute_result"
    }
   ],
   "source": [
    "np.cumsum(df)"
   ]
  },
  {
   "cell_type": "code",
   "execution_count": 8,
   "metadata": {},
   "outputs": [],
   "source": [
    "import pandas as pd\n",
    "import numpy as np\n",
    "\n",
    "df=pd.DataFrame(np.random.randn(6,4),columns=['a','b','c','d'])\n",
    "df.to_pickle('df.pkl')"
   ]
  },
  {
   "cell_type": "code",
   "execution_count": 10,
   "metadata": {},
   "outputs": [
    {
     "data": {
      "text/html": [
       "<div>\n",
       "<style scoped>\n",
       "    .dataframe tbody tr th:only-of-type {\n",
       "        vertical-align: middle;\n",
       "    }\n",
       "\n",
       "    .dataframe tbody tr th {\n",
       "        vertical-align: top;\n",
       "    }\n",
       "\n",
       "    .dataframe thead th {\n",
       "        text-align: right;\n",
       "    }\n",
       "</style>\n",
       "<table border=\"1\" class=\"dataframe\">\n",
       "  <thead>\n",
       "    <tr style=\"text-align: right;\">\n",
       "      <th></th>\n",
       "      <th>a</th>\n",
       "      <th>b</th>\n",
       "      <th>c</th>\n",
       "      <th>d</th>\n",
       "    </tr>\n",
       "  </thead>\n",
       "  <tbody>\n",
       "    <tr>\n",
       "      <td>0</td>\n",
       "      <td>1.965637</td>\n",
       "      <td>0.067562</td>\n",
       "      <td>-0.959731</td>\n",
       "      <td>-0.275116</td>\n",
       "    </tr>\n",
       "    <tr>\n",
       "      <td>1</td>\n",
       "      <td>0.782843</td>\n",
       "      <td>-0.091300</td>\n",
       "      <td>-0.466602</td>\n",
       "      <td>-0.087661</td>\n",
       "    </tr>\n",
       "    <tr>\n",
       "      <td>2</td>\n",
       "      <td>0.691922</td>\n",
       "      <td>0.138606</td>\n",
       "      <td>-0.112042</td>\n",
       "      <td>1.335879</td>\n",
       "    </tr>\n",
       "    <tr>\n",
       "      <td>3</td>\n",
       "      <td>2.632934</td>\n",
       "      <td>0.287651</td>\n",
       "      <td>1.405667</td>\n",
       "      <td>-0.440442</td>\n",
       "    </tr>\n",
       "    <tr>\n",
       "      <td>4</td>\n",
       "      <td>0.265497</td>\n",
       "      <td>1.863874</td>\n",
       "      <td>2.308320</td>\n",
       "      <td>0.658063</td>\n",
       "    </tr>\n",
       "    <tr>\n",
       "      <td>5</td>\n",
       "      <td>-0.226304</td>\n",
       "      <td>0.009787</td>\n",
       "      <td>-1.066971</td>\n",
       "      <td>-0.212192</td>\n",
       "    </tr>\n",
       "  </tbody>\n",
       "</table>\n",
       "</div>"
      ],
      "text/plain": [
       "          a         b         c         d\n",
       "0  1.965637  0.067562 -0.959731 -0.275116\n",
       "1  0.782843 -0.091300 -0.466602 -0.087661\n",
       "2  0.691922  0.138606 -0.112042  1.335879\n",
       "3  2.632934  0.287651  1.405667 -0.440442\n",
       "4  0.265497  1.863874  2.308320  0.658063\n",
       "5 -0.226304  0.009787 -1.066971 -0.212192"
      ]
     },
     "execution_count": 10,
     "metadata": {},
     "output_type": "execute_result"
    }
   ],
   "source": [
    "df=pd.read_pickle('df.pkl')\n",
    "df"
   ]
  },
  {
   "cell_type": "code",
   "execution_count": 19,
   "metadata": {},
   "outputs": [
    {
     "data": {
      "text/html": [
       "<div>\n",
       "<style scoped>\n",
       "    .dataframe tbody tr th:only-of-type {\n",
       "        vertical-align: middle;\n",
       "    }\n",
       "\n",
       "    .dataframe tbody tr th {\n",
       "        vertical-align: top;\n",
       "    }\n",
       "\n",
       "    .dataframe thead th {\n",
       "        text-align: right;\n",
       "    }\n",
       "</style>\n",
       "<table border=\"1\" class=\"dataframe\">\n",
       "  <thead>\n",
       "    <tr style=\"text-align: right;\">\n",
       "      <th></th>\n",
       "      <th>a</th>\n",
       "      <th>b</th>\n",
       "      <th>c</th>\n",
       "      <th>d</th>\n",
       "    </tr>\n",
       "  </thead>\n",
       "  <tbody>\n",
       "    <tr>\n",
       "      <td>0</td>\n",
       "      <td>-1.024136</td>\n",
       "      <td>-0.217410</td>\n",
       "      <td>1.202737</td>\n",
       "      <td>1.250108</td>\n",
       "    </tr>\n",
       "    <tr>\n",
       "      <td>1</td>\n",
       "      <td>1.048150</td>\n",
       "      <td>0.990060</td>\n",
       "      <td>0.212823</td>\n",
       "      <td>-0.517872</td>\n",
       "    </tr>\n",
       "    <tr>\n",
       "      <td>2</td>\n",
       "      <td>0.952598</td>\n",
       "      <td>1.511956</td>\n",
       "      <td>0.985295</td>\n",
       "      <td>-0.676874</td>\n",
       "    </tr>\n",
       "    <tr>\n",
       "      <td>3</td>\n",
       "      <td>-0.351242</td>\n",
       "      <td>1.028793</td>\n",
       "      <td>1.027572</td>\n",
       "      <td>0.743060</td>\n",
       "    </tr>\n",
       "    <tr>\n",
       "      <td>4</td>\n",
       "      <td>0.043556</td>\n",
       "      <td>-0.576247</td>\n",
       "      <td>-0.158523</td>\n",
       "      <td>-1.757610</td>\n",
       "    </tr>\n",
       "    <tr>\n",
       "      <td>5</td>\n",
       "      <td>0.381114</td>\n",
       "      <td>0.143481</td>\n",
       "      <td>0.634805</td>\n",
       "      <td>-0.166957</td>\n",
       "    </tr>\n",
       "  </tbody>\n",
       "</table>\n",
       "</div>"
      ],
      "text/plain": [
       "          a         b         c         d\n",
       "0 -1.024136 -0.217410  1.202737  1.250108\n",
       "1  1.048150  0.990060  0.212823 -0.517872\n",
       "2  0.952598  1.511956  0.985295 -0.676874\n",
       "3 -0.351242  1.028793  1.027572  0.743060\n",
       "4  0.043556 -0.576247 -0.158523 -1.757610\n",
       "5  0.381114  0.143481  0.634805 -0.166957"
      ]
     },
     "execution_count": 19,
     "metadata": {},
     "output_type": "execute_result"
    }
   ],
   "source": [
    "df=pd.DataFrame(np.random.randn(6,4),columns=list('abcd'))\n",
    "df"
   ]
  },
  {
   "cell_type": "code",
   "execution_count": 20,
   "metadata": {},
   "outputs": [
    {
     "data": {
      "text/html": [
       "<div>\n",
       "<style scoped>\n",
       "    .dataframe tbody tr th:only-of-type {\n",
       "        vertical-align: middle;\n",
       "    }\n",
       "\n",
       "    .dataframe tbody tr th {\n",
       "        vertical-align: top;\n",
       "    }\n",
       "\n",
       "    .dataframe thead th {\n",
       "        text-align: right;\n",
       "    }\n",
       "</style>\n",
       "<table border=\"1\" class=\"dataframe\">\n",
       "  <thead>\n",
       "    <tr style=\"text-align: right;\">\n",
       "      <th></th>\n",
       "      <th>e</th>\n",
       "      <th>f</th>\n",
       "    </tr>\n",
       "  </thead>\n",
       "  <tbody>\n",
       "    <tr>\n",
       "      <td>0</td>\n",
       "      <td>0.513565</td>\n",
       "      <td>0.510996</td>\n",
       "    </tr>\n",
       "    <tr>\n",
       "      <td>1</td>\n",
       "      <td>0.462759</td>\n",
       "      <td>0.281036</td>\n",
       "    </tr>\n",
       "    <tr>\n",
       "      <td>2</td>\n",
       "      <td>0.069767</td>\n",
       "      <td>0.097999</td>\n",
       "    </tr>\n",
       "    <tr>\n",
       "      <td>3</td>\n",
       "      <td>0.758187</td>\n",
       "      <td>0.177906</td>\n",
       "    </tr>\n",
       "    <tr>\n",
       "      <td>4</td>\n",
       "      <td>0.138382</td>\n",
       "      <td>0.777914</td>\n",
       "    </tr>\n",
       "    <tr>\n",
       "      <td>5</td>\n",
       "      <td>0.885181</td>\n",
       "      <td>0.607872</td>\n",
       "    </tr>\n",
       "  </tbody>\n",
       "</table>\n",
       "</div>"
      ],
      "text/plain": [
       "          e         f\n",
       "0  0.513565  0.510996\n",
       "1  0.462759  0.281036\n",
       "2  0.069767  0.097999\n",
       "3  0.758187  0.177906\n",
       "4  0.138382  0.777914\n",
       "5  0.885181  0.607872"
      ]
     },
     "execution_count": 20,
     "metadata": {},
     "output_type": "execute_result"
    }
   ],
   "source": [
    "df2=pd.DataFrame(np.random.rand(6,2),columns=list('ef'))\n",
    "df2"
   ]
  },
  {
   "cell_type": "code",
   "execution_count": 21,
   "metadata": {},
   "outputs": [
    {
     "data": {
      "text/html": [
       "<div>\n",
       "<style scoped>\n",
       "    .dataframe tbody tr th:only-of-type {\n",
       "        vertical-align: middle;\n",
       "    }\n",
       "\n",
       "    .dataframe tbody tr th {\n",
       "        vertical-align: top;\n",
       "    }\n",
       "\n",
       "    .dataframe thead th {\n",
       "        text-align: right;\n",
       "    }\n",
       "</style>\n",
       "<table border=\"1\" class=\"dataframe\">\n",
       "  <thead>\n",
       "    <tr style=\"text-align: right;\">\n",
       "      <th></th>\n",
       "      <th>a</th>\n",
       "      <th>b</th>\n",
       "      <th>c</th>\n",
       "      <th>d</th>\n",
       "      <th>e</th>\n",
       "      <th>f</th>\n",
       "    </tr>\n",
       "  </thead>\n",
       "  <tbody>\n",
       "    <tr>\n",
       "      <td>0</td>\n",
       "      <td>-1.024136</td>\n",
       "      <td>-0.217410</td>\n",
       "      <td>1.202737</td>\n",
       "      <td>1.250108</td>\n",
       "      <td>0.513565</td>\n",
       "      <td>0.510996</td>\n",
       "    </tr>\n",
       "    <tr>\n",
       "      <td>1</td>\n",
       "      <td>1.048150</td>\n",
       "      <td>0.990060</td>\n",
       "      <td>0.212823</td>\n",
       "      <td>-0.517872</td>\n",
       "      <td>0.462759</td>\n",
       "      <td>0.281036</td>\n",
       "    </tr>\n",
       "    <tr>\n",
       "      <td>2</td>\n",
       "      <td>0.952598</td>\n",
       "      <td>1.511956</td>\n",
       "      <td>0.985295</td>\n",
       "      <td>-0.676874</td>\n",
       "      <td>0.069767</td>\n",
       "      <td>0.097999</td>\n",
       "    </tr>\n",
       "    <tr>\n",
       "      <td>3</td>\n",
       "      <td>-0.351242</td>\n",
       "      <td>1.028793</td>\n",
       "      <td>1.027572</td>\n",
       "      <td>0.743060</td>\n",
       "      <td>0.758187</td>\n",
       "      <td>0.177906</td>\n",
       "    </tr>\n",
       "    <tr>\n",
       "      <td>4</td>\n",
       "      <td>0.043556</td>\n",
       "      <td>-0.576247</td>\n",
       "      <td>-0.158523</td>\n",
       "      <td>-1.757610</td>\n",
       "      <td>0.138382</td>\n",
       "      <td>0.777914</td>\n",
       "    </tr>\n",
       "    <tr>\n",
       "      <td>5</td>\n",
       "      <td>0.381114</td>\n",
       "      <td>0.143481</td>\n",
       "      <td>0.634805</td>\n",
       "      <td>-0.166957</td>\n",
       "      <td>0.885181</td>\n",
       "      <td>0.607872</td>\n",
       "    </tr>\n",
       "  </tbody>\n",
       "</table>\n",
       "</div>"
      ],
      "text/plain": [
       "          a         b         c         d         e         f\n",
       "0 -1.024136 -0.217410  1.202737  1.250108  0.513565  0.510996\n",
       "1  1.048150  0.990060  0.212823 -0.517872  0.462759  0.281036\n",
       "2  0.952598  1.511956  0.985295 -0.676874  0.069767  0.097999\n",
       "3 -0.351242  1.028793  1.027572  0.743060  0.758187  0.177906\n",
       "4  0.043556 -0.576247 -0.158523 -1.757610  0.138382  0.777914\n",
       "5  0.381114  0.143481  0.634805 -0.166957  0.885181  0.607872"
      ]
     },
     "execution_count": 21,
     "metadata": {},
     "output_type": "execute_result"
    }
   ],
   "source": [
    "df3=pd.concat([df,df2],axis=1)\n",
    "df3"
   ]
  },
  {
   "cell_type": "code",
   "execution_count": 22,
   "metadata": {},
   "outputs": [
    {
     "data": {
      "text/html": [
       "<div>\n",
       "<style scoped>\n",
       "    .dataframe tbody tr th:only-of-type {\n",
       "        vertical-align: middle;\n",
       "    }\n",
       "\n",
       "    .dataframe tbody tr th {\n",
       "        vertical-align: top;\n",
       "    }\n",
       "\n",
       "    .dataframe thead th {\n",
       "        text-align: right;\n",
       "    }\n",
       "</style>\n",
       "<table border=\"1\" class=\"dataframe\">\n",
       "  <thead>\n",
       "    <tr style=\"text-align: right;\">\n",
       "      <th></th>\n",
       "      <th>a</th>\n",
       "      <th>b</th>\n",
       "      <th>c</th>\n",
       "      <th>d</th>\n",
       "    </tr>\n",
       "  </thead>\n",
       "  <tbody>\n",
       "    <tr>\n",
       "      <td>0</td>\n",
       "      <td>0.417627</td>\n",
       "      <td>0.392246</td>\n",
       "      <td>0.159391</td>\n",
       "      <td>0.353617</td>\n",
       "    </tr>\n",
       "    <tr>\n",
       "      <td>1</td>\n",
       "      <td>0.980272</td>\n",
       "      <td>0.174365</td>\n",
       "      <td>0.071834</td>\n",
       "      <td>0.005965</td>\n",
       "    </tr>\n",
       "  </tbody>\n",
       "</table>\n",
       "</div>"
      ],
      "text/plain": [
       "          a         b         c         d\n",
       "0  0.417627  0.392246  0.159391  0.353617\n",
       "1  0.980272  0.174365  0.071834  0.005965"
      ]
     },
     "execution_count": 22,
     "metadata": {},
     "output_type": "execute_result"
    }
   ],
   "source": [
    "df4=pd.DataFrame(np.random.rand(2,4),columns=list('abcd'))\n",
    "df4"
   ]
  },
  {
   "cell_type": "code",
   "execution_count": 23,
   "metadata": {},
   "outputs": [
    {
     "data": {
      "text/html": [
       "<div>\n",
       "<style scoped>\n",
       "    .dataframe tbody tr th:only-of-type {\n",
       "        vertical-align: middle;\n",
       "    }\n",
       "\n",
       "    .dataframe tbody tr th {\n",
       "        vertical-align: top;\n",
       "    }\n",
       "\n",
       "    .dataframe thead th {\n",
       "        text-align: right;\n",
       "    }\n",
       "</style>\n",
       "<table border=\"1\" class=\"dataframe\">\n",
       "  <thead>\n",
       "    <tr style=\"text-align: right;\">\n",
       "      <th></th>\n",
       "      <th>a</th>\n",
       "      <th>b</th>\n",
       "      <th>c</th>\n",
       "      <th>d</th>\n",
       "    </tr>\n",
       "  </thead>\n",
       "  <tbody>\n",
       "    <tr>\n",
       "      <td>0</td>\n",
       "      <td>-1.024136</td>\n",
       "      <td>-0.217410</td>\n",
       "      <td>1.202737</td>\n",
       "      <td>1.250108</td>\n",
       "    </tr>\n",
       "    <tr>\n",
       "      <td>1</td>\n",
       "      <td>1.048150</td>\n",
       "      <td>0.990060</td>\n",
       "      <td>0.212823</td>\n",
       "      <td>-0.517872</td>\n",
       "    </tr>\n",
       "    <tr>\n",
       "      <td>2</td>\n",
       "      <td>0.952598</td>\n",
       "      <td>1.511956</td>\n",
       "      <td>0.985295</td>\n",
       "      <td>-0.676874</td>\n",
       "    </tr>\n",
       "    <tr>\n",
       "      <td>3</td>\n",
       "      <td>-0.351242</td>\n",
       "      <td>1.028793</td>\n",
       "      <td>1.027572</td>\n",
       "      <td>0.743060</td>\n",
       "    </tr>\n",
       "    <tr>\n",
       "      <td>4</td>\n",
       "      <td>0.043556</td>\n",
       "      <td>-0.576247</td>\n",
       "      <td>-0.158523</td>\n",
       "      <td>-1.757610</td>\n",
       "    </tr>\n",
       "    <tr>\n",
       "      <td>5</td>\n",
       "      <td>0.381114</td>\n",
       "      <td>0.143481</td>\n",
       "      <td>0.634805</td>\n",
       "      <td>-0.166957</td>\n",
       "    </tr>\n",
       "    <tr>\n",
       "      <td>6</td>\n",
       "      <td>0.417627</td>\n",
       "      <td>0.392246</td>\n",
       "      <td>0.159391</td>\n",
       "      <td>0.353617</td>\n",
       "    </tr>\n",
       "    <tr>\n",
       "      <td>7</td>\n",
       "      <td>0.980272</td>\n",
       "      <td>0.174365</td>\n",
       "      <td>0.071834</td>\n",
       "      <td>0.005965</td>\n",
       "    </tr>\n",
       "  </tbody>\n",
       "</table>\n",
       "</div>"
      ],
      "text/plain": [
       "          a         b         c         d\n",
       "0 -1.024136 -0.217410  1.202737  1.250108\n",
       "1  1.048150  0.990060  0.212823 -0.517872\n",
       "2  0.952598  1.511956  0.985295 -0.676874\n",
       "3 -0.351242  1.028793  1.027572  0.743060\n",
       "4  0.043556 -0.576247 -0.158523 -1.757610\n",
       "5  0.381114  0.143481  0.634805 -0.166957\n",
       "6  0.417627  0.392246  0.159391  0.353617\n",
       "7  0.980272  0.174365  0.071834  0.005965"
      ]
     },
     "execution_count": 23,
     "metadata": {},
     "output_type": "execute_result"
    }
   ],
   "source": [
    "dff=pd.concat([df,df4],ignore_index=True)\n",
    "dff"
   ]
  },
  {
   "cell_type": "code",
   "execution_count": 38,
   "metadata": {},
   "outputs": [],
   "source": [
    "df['i']=list('aabccc')"
   ]
  },
  {
   "cell_type": "code",
   "execution_count": 25,
   "metadata": {},
   "outputs": [
    {
     "data": {
      "text/html": [
       "<div>\n",
       "<style scoped>\n",
       "    .dataframe tbody tr th:only-of-type {\n",
       "        vertical-align: middle;\n",
       "    }\n",
       "\n",
       "    .dataframe tbody tr th {\n",
       "        vertical-align: top;\n",
       "    }\n",
       "\n",
       "    .dataframe thead th {\n",
       "        text-align: right;\n",
       "    }\n",
       "</style>\n",
       "<table border=\"1\" class=\"dataframe\">\n",
       "  <thead>\n",
       "    <tr style=\"text-align: right;\">\n",
       "      <th></th>\n",
       "      <th>a</th>\n",
       "      <th>b</th>\n",
       "      <th>c</th>\n",
       "      <th>d</th>\n",
       "    </tr>\n",
       "    <tr>\n",
       "      <th>i</th>\n",
       "      <th></th>\n",
       "      <th></th>\n",
       "      <th></th>\n",
       "      <th></th>\n",
       "    </tr>\n",
       "  </thead>\n",
       "  <tbody>\n",
       "    <tr>\n",
       "      <td>a</td>\n",
       "      <td>0.024014</td>\n",
       "      <td>0.772650</td>\n",
       "      <td>1.415560</td>\n",
       "      <td>0.732237</td>\n",
       "    </tr>\n",
       "    <tr>\n",
       "      <td>b</td>\n",
       "      <td>0.952598</td>\n",
       "      <td>1.511956</td>\n",
       "      <td>0.985295</td>\n",
       "      <td>-0.676874</td>\n",
       "    </tr>\n",
       "    <tr>\n",
       "      <td>c</td>\n",
       "      <td>0.073428</td>\n",
       "      <td>0.596027</td>\n",
       "      <td>1.503854</td>\n",
       "      <td>-1.181507</td>\n",
       "    </tr>\n",
       "  </tbody>\n",
       "</table>\n",
       "</div>"
      ],
      "text/plain": [
       "          a         b         c         d\n",
       "i                                        \n",
       "a  0.024014  0.772650  1.415560  0.732237\n",
       "b  0.952598  1.511956  0.985295 -0.676874\n",
       "c  0.073428  0.596027  1.503854 -1.181507"
      ]
     },
     "execution_count": 25,
     "metadata": {},
     "output_type": "execute_result"
    }
   ],
   "source": [
    "df.groupby('i').sum()"
   ]
  },
  {
   "cell_type": "code",
   "execution_count": 26,
   "metadata": {},
   "outputs": [
    {
     "data": {
      "text/html": [
       "<div>\n",
       "<style scoped>\n",
       "    .dataframe tbody tr th:only-of-type {\n",
       "        vertical-align: middle;\n",
       "    }\n",
       "\n",
       "    .dataframe tbody tr th {\n",
       "        vertical-align: top;\n",
       "    }\n",
       "\n",
       "    .dataframe thead th {\n",
       "        text-align: right;\n",
       "    }\n",
       "</style>\n",
       "<table border=\"1\" class=\"dataframe\">\n",
       "  <thead>\n",
       "    <tr style=\"text-align: right;\">\n",
       "      <th></th>\n",
       "      <th>city</th>\n",
       "      <th>pop</th>\n",
       "    </tr>\n",
       "  </thead>\n",
       "  <tbody>\n",
       "    <tr>\n",
       "      <td>0</td>\n",
       "      <td>chicago</td>\n",
       "      <td>1000.0</td>\n",
       "    </tr>\n",
       "    <tr>\n",
       "      <td>1</td>\n",
       "      <td>new york</td>\n",
       "      <td>1300.0</td>\n",
       "    </tr>\n",
       "    <tr>\n",
       "      <td>2</td>\n",
       "      <td>portland</td>\n",
       "      <td>900.0</td>\n",
       "    </tr>\n",
       "    <tr>\n",
       "      <td>3</td>\n",
       "      <td>austin</td>\n",
       "      <td>450.0</td>\n",
       "    </tr>\n",
       "    <tr>\n",
       "      <td>4</td>\n",
       "      <td>boston</td>\n",
       "      <td>NaN</td>\n",
       "    </tr>\n",
       "  </tbody>\n",
       "</table>\n",
       "</div>"
      ],
      "text/plain": [
       "       city     pop\n",
       "0   chicago  1000.0\n",
       "1  new york  1300.0\n",
       "2  portland   900.0\n",
       "3    austin   450.0\n",
       "4    boston     NaN"
      ]
     },
     "execution_count": 26,
     "metadata": {},
     "output_type": "execute_result"
    }
   ],
   "source": [
    "pd.read_excel('city.xlsx')"
   ]
  },
  {
   "cell_type": "code",
   "execution_count": 27,
   "metadata": {},
   "outputs": [],
   "source": [
    "df.to_csv('test.csv',index=False)"
   ]
  }
 ],
 "metadata": {
  "kernelspec": {
   "display_name": "Python 3",
   "language": "python",
   "name": "python3"
  },
  "language_info": {
   "codemirror_mode": {
    "name": "ipython",
    "version": 3
   },
   "file_extension": ".py",
   "mimetype": "text/x-python",
   "name": "python",
   "nbconvert_exporter": "python",
   "pygments_lexer": "ipython3",
   "version": "3.7.4"
  }
 },
 "nbformat": 4,
 "nbformat_minor": 2
}
