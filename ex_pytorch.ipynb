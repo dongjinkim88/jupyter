{
 "cells": [
  {
   "cell_type": "code",
   "execution_count": 10,
   "metadata": {},
   "outputs": [
    {
     "name": "stdout",
     "output_type": "stream",
     "text": [
      "1.4.0\n"
     ]
    }
   ],
   "source": [
    "import numpy as np\n",
    "import torch\n",
    "print(torch.__version__)"
   ]
  },
  {
   "cell_type": "code",
   "execution_count": 11,
   "metadata": {},
   "outputs": [
    {
     "data": {
      "text/plain": [
       "False"
      ]
     },
     "execution_count": 11,
     "metadata": {},
     "output_type": "execute_result"
    }
   ],
   "source": [
    "torch.cuda.is_available()"
   ]
  },
  {
   "cell_type": "code",
   "execution_count": 47,
   "metadata": {},
   "outputs": [],
   "source": [
    "dd=[\n",
    "    [1,2,3],\n",
    "    [4,5,6],\n",
    "    [7,8,9]\n",
    "]\n",
    "t=torch.tensor(dd)"
   ]
  },
  {
   "cell_type": "code",
   "execution_count": 48,
   "metadata": {},
   "outputs": [
    {
     "data": {
      "text/plain": [
       "torch.Tensor"
      ]
     },
     "execution_count": 48,
     "metadata": {},
     "output_type": "execute_result"
    }
   ],
   "source": [
    "type(t)"
   ]
  },
  {
   "cell_type": "code",
   "execution_count": 49,
   "metadata": {},
   "outputs": [
    {
     "data": {
      "text/plain": [
       "torch.Size([3, 3])"
      ]
     },
     "execution_count": 49,
     "metadata": {},
     "output_type": "execute_result"
    }
   ],
   "source": [
    "t.shape"
   ]
  },
  {
   "cell_type": "code",
   "execution_count": 50,
   "metadata": {},
   "outputs": [
    {
     "data": {
      "text/plain": [
       "2"
      ]
     },
     "execution_count": 50,
     "metadata": {},
     "output_type": "execute_result"
    }
   ],
   "source": [
    "len(t.shape)"
   ]
  },
  {
   "cell_type": "code",
   "execution_count": 67,
   "metadata": {},
   "outputs": [
    {
     "name": "stdout",
     "output_type": "stream",
     "text": [
      "tensor([[1., 2.],\n",
      "        [5., 8.]])\n",
      "tensor([[1., 2.],\n",
      "        [3., 4.]])\n",
      "tensor(4.)\n",
      "tensor([2., 2.])\n",
      "tensor([-1., -2.])\n",
      "tensor(3)\n",
      "tensor([-1., -2.,  3.,  4.])\n",
      "1.0\n"
     ]
    }
   ],
   "source": [
    "t1=torch.tensor([[-1,-2],[3,4]], dtype=torch.float32)\n",
    "t2=torch.tensor([2,4], dtype=torch.float32)\n",
    "print(t1+t2)\n",
    "print(t1.abs())\n",
    "print(t1.sum())\n",
    "print(t1.sum(dim=0))\n",
    "print(t1[0])\n",
    "print(t1.argmax())\n",
    "print(t1.flatten())\n",
    "print(t1.mean().item())"
   ]
  },
  {
   "cell_type": "code",
   "execution_count": 16,
   "metadata": {},
   "outputs": [
    {
     "data": {
      "text/plain": [
       "tensor([[1, 2, 3, 4, 5, 6, 7, 8, 9]])"
      ]
     },
     "execution_count": 16,
     "metadata": {},
     "output_type": "execute_result"
    }
   ],
   "source": [
    "t.reshape(1,9)"
   ]
  },
  {
   "cell_type": "code",
   "execution_count": 17,
   "metadata": {},
   "outputs": [
    {
     "data": {
      "text/plain": [
       "torch.Size([1, 9])"
      ]
     },
     "execution_count": 17,
     "metadata": {},
     "output_type": "execute_result"
    }
   ],
   "source": [
    "t.reshape(1,9).shape"
   ]
  },
  {
   "cell_type": "code",
   "execution_count": 18,
   "metadata": {},
   "outputs": [
    {
     "data": {
      "text/plain": [
       "torch.Tensor"
      ]
     },
     "execution_count": 18,
     "metadata": {},
     "output_type": "execute_result"
    }
   ],
   "source": [
    "t=torch.Tensor()\n",
    "type(t)"
   ]
  },
  {
   "cell_type": "code",
   "execution_count": 19,
   "metadata": {},
   "outputs": [
    {
     "name": "stdout",
     "output_type": "stream",
     "text": [
      "torch.float32\n",
      "cpu\n",
      "torch.strided\n"
     ]
    }
   ],
   "source": [
    "print(t.dtype)\n",
    "print(t.device)\n",
    "print(t.layout)"
   ]
  },
  {
   "cell_type": "code",
   "execution_count": 20,
   "metadata": {},
   "outputs": [
    {
     "data": {
      "text/plain": [
       "numpy.ndarray"
      ]
     },
     "execution_count": 20,
     "metadata": {},
     "output_type": "execute_result"
    }
   ],
   "source": [
    "data=np.array([1,2,3])\n",
    "type(data)"
   ]
  },
  {
   "cell_type": "code",
   "execution_count": 21,
   "metadata": {},
   "outputs": [
    {
     "data": {
      "text/plain": [
       "tensor([1., 2., 3.])"
      ]
     },
     "execution_count": 21,
     "metadata": {},
     "output_type": "execute_result"
    }
   ],
   "source": [
    "torch.Tensor(data)#class constructor for copy"
   ]
  },
  {
   "cell_type": "code",
   "execution_count": 56,
   "metadata": {},
   "outputs": [
    {
     "data": {
      "text/plain": [
       "tensor([1., 2., 3.])"
      ]
     },
     "execution_count": 56,
     "metadata": {},
     "output_type": "execute_result"
    }
   ],
   "source": [
    "torch.tensor(data, dtype=torch.float32)#function for copy (best)"
   ]
  },
  {
   "cell_type": "code",
   "execution_count": 23,
   "metadata": {},
   "outputs": [
    {
     "data": {
      "text/plain": [
       "tensor([1, 2, 3])"
      ]
     },
     "execution_count": 23,
     "metadata": {},
     "output_type": "execute_result"
    }
   ],
   "source": [
    "torch.as_tensor(data)#memory share data"
   ]
  },
  {
   "cell_type": "code",
   "execution_count": 24,
   "metadata": {},
   "outputs": [
    {
     "data": {
      "text/plain": [
       "tensor([1, 2, 3])"
      ]
     },
     "execution_count": 24,
     "metadata": {},
     "output_type": "execute_result"
    }
   ],
   "source": [
    "torch.from_numpy(data)#memory share data"
   ]
  },
  {
   "cell_type": "code",
   "execution_count": 25,
   "metadata": {},
   "outputs": [
    {
     "data": {
      "text/plain": [
       "tensor([[1., 0.],\n",
       "        [0., 1.]])"
      ]
     },
     "execution_count": 25,
     "metadata": {},
     "output_type": "execute_result"
    }
   ],
   "source": [
    "torch.eye(2)"
   ]
  },
  {
   "cell_type": "code",
   "execution_count": 26,
   "metadata": {},
   "outputs": [
    {
     "data": {
      "text/plain": [
       "tensor([[0., 0.],\n",
       "        [0., 0.]])"
      ]
     },
     "execution_count": 26,
     "metadata": {},
     "output_type": "execute_result"
    }
   ],
   "source": [
    "torch.zeros(2,2)"
   ]
  },
  {
   "cell_type": "code",
   "execution_count": 27,
   "metadata": {},
   "outputs": [
    {
     "data": {
      "text/plain": [
       "tensor([[1., 1., 1.],\n",
       "        [1., 1., 1.]])"
      ]
     },
     "execution_count": 27,
     "metadata": {},
     "output_type": "execute_result"
    }
   ],
   "source": [
    "torch.ones(2,3)"
   ]
  },
  {
   "cell_type": "code",
   "execution_count": 28,
   "metadata": {},
   "outputs": [
    {
     "data": {
      "text/plain": [
       "tensor([[0.2923, 0.4162, 0.2306],\n",
       "        [0.6506, 0.7589, 0.5853]])"
      ]
     },
     "execution_count": 28,
     "metadata": {},
     "output_type": "execute_result"
    }
   ],
   "source": [
    "torch.rand(2,3)"
   ]
  },
  {
   "cell_type": "code",
   "execution_count": 71,
   "metadata": {},
   "outputs": [
    {
     "name": "stdout",
     "output_type": "stream",
     "text": [
      "0 27685490.0\n",
      "1 24116496.0\n",
      "2 24091140.0\n",
      "3 24247140.0\n",
      "4 22452428.0\n",
      "5 18094268.0\n",
      "6 12633364.0\n",
      "7 7851851.5\n",
      "8 4611152.5\n",
      "9 2714354.25\n",
      "10 1683351.75\n",
      "11 1125503.375\n",
      "12 812413.1875\n",
      "13 624464.75\n",
      "14 502234.15625\n",
      "15 416434.375\n",
      "16 352219.53125\n",
      "17 301822.3125\n",
      "18 260985.875\n",
      "19 227205.140625\n",
      "20 198912.765625\n",
      "21 174951.640625\n",
      "22 154500.1875\n",
      "23 136907.875\n",
      "24 121692.2109375\n",
      "25 108477.828125\n",
      "26 96956.953125\n",
      "27 86876.703125\n",
      "28 78022.5390625\n",
      "29 70209.9609375\n",
      "30 63312.7890625\n",
      "31 57203.609375\n",
      "32 51785.640625\n",
      "33 46964.51171875\n",
      "34 42659.91796875\n",
      "35 38815.9921875\n",
      "36 35374.99609375\n",
      "37 32287.35546875\n",
      "38 29508.79296875\n",
      "39 27001.306640625\n",
      "40 24736.65625\n",
      "41 22687.947265625\n",
      "42 20831.240234375\n",
      "43 19146.8984375\n",
      "44 17616.494140625\n",
      "45 16223.1220703125\n",
      "46 14953.2392578125\n",
      "47 13794.62109375\n",
      "48 12736.0185546875\n",
      "49 11768.4228515625\n",
      "50 10882.5556640625\n",
      "51 10070.5966796875\n",
      "52 9326.34375\n",
      "53 8643.1650390625\n",
      "54 8014.8740234375\n",
      "55 7436.8017578125\n",
      "56 6905.58447265625\n",
      "57 6416.10205078125\n",
      "58 5964.755859375\n",
      "59 5547.9638671875\n",
      "60 5162.9765625\n",
      "61 4807.18603515625\n",
      "62 4478.35205078125\n",
      "63 4174.04833984375\n",
      "64 3892.11279296875\n",
      "65 3630.917236328125\n",
      "66 3388.554931640625\n",
      "67 3163.724853515625\n",
      "68 2955.1240234375\n",
      "69 2761.440185546875\n",
      "70 2581.39990234375\n",
      "71 2413.8623046875\n",
      "72 2258.078369140625\n",
      "73 2113.032470703125\n",
      "74 1977.9437255859375\n",
      "75 1852.1690673828125\n",
      "76 1734.891357421875\n",
      "77 1625.5562744140625\n",
      "78 1523.512451171875\n",
      "79 1428.3182373046875\n",
      "80 1339.4544677734375\n",
      "81 1256.4609375\n",
      "82 1178.94921875\n",
      "83 1106.5360107421875\n",
      "84 1038.80859375\n",
      "85 975.4727172851562\n",
      "86 916.2132568359375\n",
      "87 860.7462768554688\n",
      "88 808.8475341796875\n",
      "89 760.2626953125\n",
      "90 714.7555541992188\n",
      "91 672.110107421875\n",
      "92 632.15185546875\n",
      "93 594.7066650390625\n",
      "94 559.5911254882812\n",
      "95 526.6646118164062\n",
      "96 495.7552490234375\n",
      "97 466.758056640625\n",
      "98 439.5573425292969\n",
      "99 414.01214599609375\n",
      "100 390.01763916015625\n",
      "101 367.4809265136719\n",
      "102 346.3105773925781\n",
      "103 326.4245910644531\n",
      "104 307.7284240722656\n",
      "105 290.1521301269531\n",
      "106 273.6280212402344\n",
      "107 258.0813293457031\n",
      "108 243.46438598632812\n",
      "109 229.71517944335938\n",
      "110 216.76693725585938\n",
      "111 204.57998657226562\n",
      "112 193.11163330078125\n",
      "113 182.3145294189453\n",
      "114 172.1457061767578\n",
      "115 162.567626953125\n",
      "116 153.5426788330078\n",
      "117 145.04483032226562\n",
      "118 137.0321044921875\n",
      "119 129.47744750976562\n",
      "120 122.35591888427734\n",
      "121 115.64385986328125\n",
      "122 109.31148529052734\n",
      "123 103.33828735351562\n",
      "124 97.7076187133789\n",
      "125 92.39501953125\n",
      "126 87.38131713867188\n",
      "127 82.64981842041016\n",
      "128 78.18197631835938\n",
      "129 73.9669418334961\n",
      "130 69.9864501953125\n",
      "131 66.22925567626953\n",
      "132 62.67979431152344\n",
      "133 59.32744598388672\n",
      "134 56.16056823730469\n",
      "135 53.1709098815918\n",
      "136 50.34447479248047\n",
      "137 47.67287826538086\n",
      "138 45.148460388183594\n",
      "139 42.763023376464844\n",
      "140 40.506900787353516\n",
      "141 38.37456130981445\n",
      "142 36.35753631591797\n",
      "143 34.44942855834961\n",
      "144 32.64514923095703\n",
      "145 30.939395904541016\n",
      "146 29.325815200805664\n",
      "147 27.799503326416016\n",
      "148 26.354591369628906\n",
      "149 24.98698616027832\n",
      "150 23.69185447692871\n",
      "151 22.467357635498047\n",
      "152 21.307470321655273\n",
      "153 20.209430694580078\n",
      "154 19.16950225830078\n",
      "155 18.18463706970215\n",
      "156 17.252172470092773\n",
      "157 16.37232208251953\n",
      "158 15.54297161102295\n",
      "159 14.757061958312988\n",
      "160 14.012060165405273\n",
      "161 13.306014060974121\n",
      "162 12.636474609375\n",
      "163 12.002280235290527\n",
      "164 11.400615692138672\n",
      "165 10.829813003540039\n",
      "166 10.289106369018555\n",
      "167 9.776067733764648\n",
      "168 9.289318084716797\n",
      "169 8.827352523803711\n",
      "170 8.389239311218262\n",
      "171 7.9738450050354\n",
      "172 7.579155921936035\n",
      "173 7.204558849334717\n",
      "174 6.84916877746582\n",
      "175 6.5119194984436035\n",
      "176 6.191206932067871\n",
      "177 5.887213706970215\n",
      "178 5.598464488983154\n",
      "179 5.324295997619629\n",
      "180 5.063902854919434\n",
      "181 4.816451072692871\n",
      "182 4.581680774688721\n",
      "183 4.35853910446167\n",
      "184 4.146383762359619\n",
      "185 3.9448375701904297\n",
      "186 3.7533910274505615\n",
      "187 3.5714712142944336\n",
      "188 3.398601770401001\n",
      "189 3.2341580390930176\n",
      "190 3.0779895782470703\n",
      "191 2.9295244216918945\n",
      "192 2.7885780334472656\n",
      "193 2.654309034347534\n",
      "194 2.5267250537872314\n",
      "195 2.4053847789764404\n",
      "196 2.2900288105010986\n",
      "197 2.1802940368652344\n",
      "198 2.0760674476623535\n",
      "199 1.9768372774124146\n",
      "200 1.8823888301849365\n",
      "201 1.7926698923110962\n",
      "202 1.707203984260559\n",
      "203 1.6261069774627686\n",
      "204 1.5487372875213623\n",
      "205 1.4751734733581543\n",
      "206 1.4052019119262695\n",
      "207 1.3385900259017944\n",
      "208 1.2752249240875244\n",
      "209 1.2148919105529785\n",
      "210 1.1575230360031128\n",
      "211 1.1029295921325684\n",
      "212 1.0508649349212646\n",
      "213 1.0013353824615479\n",
      "214 0.9541943669319153\n",
      "215 0.9092015027999878\n",
      "216 0.866570770740509\n",
      "217 0.825947105884552\n",
      "218 0.7871763706207275\n",
      "219 0.7502964735031128\n",
      "220 0.7151245474815369\n",
      "221 0.6816762089729309\n",
      "222 0.6498075723648071\n",
      "223 0.6194195747375488\n",
      "224 0.5905167460441589\n",
      "225 0.5629891157150269\n",
      "226 0.5368248820304871\n",
      "227 0.5117790102958679\n",
      "228 0.4879509508609772\n",
      "229 0.4652564525604248\n",
      "230 0.44368845224380493\n",
      "231 0.4231144189834595\n",
      "232 0.4035344123840332\n",
      "233 0.384811133146286\n",
      "234 0.366932213306427\n",
      "235 0.3499957323074341\n",
      "236 0.3337799906730652\n",
      "237 0.3183979094028473\n",
      "238 0.3037283718585968\n",
      "239 0.28969064354896545\n",
      "240 0.2763218581676483\n",
      "241 0.2635822892189026\n",
      "242 0.25144684314727783\n",
      "243 0.2398851066827774\n",
      "244 0.22884930670261383\n",
      "245 0.21832187473773956\n",
      "246 0.20827464759349823\n",
      "247 0.1987491250038147\n",
      "248 0.18961133062839508\n",
      "249 0.1809564083814621\n",
      "250 0.1726493537425995\n",
      "251 0.16473598778247833\n",
      "252 0.15720510482788086\n",
      "253 0.15004193782806396\n",
      "254 0.14318020641803741\n",
      "255 0.13661006093025208\n",
      "256 0.13040952384471893\n",
      "257 0.12446131557226181\n",
      "258 0.11874955147504807\n",
      "259 0.11337147653102875\n",
      "260 0.10819315910339355\n",
      "261 0.1032705157995224\n",
      "262 0.09856967628002167\n",
      "263 0.09409437328577042\n",
      "264 0.08979985117912292\n",
      "265 0.08570239692926407\n",
      "266 0.08182720839977264\n",
      "267 0.07811406999826431\n",
      "268 0.07456257939338684\n",
      "269 0.07119699567556381\n",
      "270 0.06796067953109741\n",
      "271 0.06488534808158875\n",
      "272 0.06194144859910011\n",
      "273 0.05915564298629761\n",
      "274 0.056470248848199844\n",
      "275 0.053936365991830826\n",
      "276 0.05149734765291214\n",
      "277 0.049175962805747986\n",
      "278 0.04697431996464729\n",
      "279 0.044856663793325424\n",
      "280 0.04283978417515755\n",
      "281 0.04090394452214241\n",
      "282 0.03907085955142975\n",
      "283 0.03732761740684509\n",
      "284 0.035655561834573746\n",
      "285 0.034051958471536636\n",
      "286 0.03250980004668236\n",
      "287 0.03107343427836895\n",
      "288 0.02968072146177292\n",
      "289 0.028343649581074715\n",
      "290 0.02707318589091301\n",
      "291 0.025874238461256027\n",
      "292 0.02472275123000145\n",
      "293 0.02361396886408329\n",
      "294 0.022560328245162964\n",
      "295 0.021555863320827484\n",
      "296 0.020592015236616135\n",
      "297 0.019690711051225662\n",
      "298 0.018807848915457726\n",
      "299 0.017985552549362183\n",
      "300 0.017199218273162842\n",
      "301 0.016432099044322968\n",
      "302 0.0157094057649374\n",
      "303 0.015016325749456882\n",
      "304 0.014353269711136818\n",
      "305 0.013713963329792023\n",
      "306 0.013115806505084038\n",
      "307 0.012546096928417683\n",
      "308 0.011996227316558361\n",
      "309 0.011465935967862606\n",
      "310 0.010975442826747894\n",
      "311 0.010491103865206242\n",
      "312 0.010033471509814262\n",
      "313 0.009600743651390076\n",
      "314 0.009179686196148396\n",
      "315 0.00878698006272316\n",
      "316 0.008410489186644554\n",
      "317 0.008043548092246056\n",
      "318 0.007701043970882893\n",
      "319 0.007372943218797445\n",
      "320 0.0070554837584495544\n",
      "321 0.006757448893040419\n",
      "322 0.006464344449341297\n",
      "323 0.006192611530423164\n",
      "324 0.005932176951318979\n",
      "325 0.005679468158632517\n",
      "326 0.005442484747618437\n",
      "327 0.00521434610709548\n",
      "328 0.004997244104743004\n",
      "329 0.004795496817678213\n",
      "330 0.004598330240696669\n",
      "331 0.004405300132930279\n",
      "332 0.004221026320010424\n",
      "333 0.004047159571200609\n",
      "334 0.0038815224543213844\n",
      "335 0.003719830187037587\n",
      "336 0.0035691906232386827\n",
      "337 0.003426945535466075\n",
      "338 0.003288733307272196\n",
      "339 0.0031601074151694775\n",
      "340 0.0030351222958415747\n",
      "341 0.002915774704888463\n",
      "342 0.002802098635584116\n",
      "343 0.002690591849386692\n",
      "344 0.0025865163188427687\n",
      "345 0.002485395409166813\n",
      "346 0.002387536223977804\n",
      "347 0.002297954633831978\n",
      "348 0.0022098985500633717\n",
      "349 0.0021254373714327812\n",
      "350 0.0020464491099119186\n",
      "351 0.001968194730579853\n",
      "352 0.0018957927823066711\n",
      "353 0.0018261456862092018\n",
      "354 0.0017597975675016642\n",
      "355 0.0016951356083154678\n",
      "356 0.0016318712150678039\n",
      "357 0.0015747260767966509\n",
      "358 0.0015203604707494378\n",
      "359 0.0014643087051808834\n",
      "360 0.0014142619911581278\n",
      "361 0.0013643972342833877\n",
      "362 0.0013163624098524451\n",
      "363 0.0012699661310762167\n",
      "364 0.0012262522941455245\n",
      "365 0.0011837928323075175\n",
      "366 0.001143995556049049\n",
      "367 0.001105346716940403\n",
      "368 0.0010679755359888077\n",
      "369 0.0010325873736292124\n",
      "370 0.000997479073703289\n",
      "371 0.0009662312804721296\n",
      "372 0.0009360326803289354\n",
      "373 0.0009067074279300869\n",
      "374 0.0008774785092100501\n",
      "375 0.0008486441802233458\n",
      "376 0.0008206749917007983\n",
      "377 0.0007963882526382804\n",
      "378 0.000771807914134115\n",
      "379 0.0007483827648684382\n",
      "380 0.0007249765913002193\n",
      "381 0.0007032342255115509\n",
      "382 0.0006815478554926813\n",
      "383 0.0006609068368561566\n",
      "384 0.0006410166388377547\n",
      "385 0.0006232976447790861\n",
      "386 0.0006043575122021139\n",
      "387 0.0005860485835000873\n",
      "388 0.0005696903099305928\n",
      "389 0.0005532006034627557\n",
      "390 0.0005379166686907411\n",
      "391 0.0005230687092989683\n",
      "392 0.0005075130029581487\n",
      "393 0.0004930800059810281\n",
      "394 0.00047940085642039776\n",
      "395 0.00046768219908699393\n",
      "396 0.0004542264505289495\n",
      "397 0.00044095481280237436\n"
     ]
    },
    {
     "name": "stdout",
     "output_type": "stream",
     "text": [
      "398 0.00042976514669135213\n",
      "399 0.0004186395090073347\n",
      "400 0.00040761902346275747\n",
      "401 0.00039752424345351756\n",
      "402 0.00038673600647598505\n",
      "403 0.0003773517382796854\n",
      "404 0.0003675867337733507\n",
      "405 0.0003577347961254418\n",
      "406 0.00034815489198081195\n",
      "407 0.0003398397529963404\n",
      "408 0.0003314343048259616\n",
      "409 0.00032354972790926695\n",
      "410 0.00031552580185234547\n",
      "411 0.0003080854075960815\n",
      "412 0.0003010123036801815\n",
      "413 0.00029364731744863093\n",
      "414 0.0002860196982510388\n",
      "415 0.00027973882970400155\n",
      "416 0.00027359905652701855\n",
      "417 0.0002677437732927501\n",
      "418 0.0002617162826936692\n",
      "419 0.0002558064297772944\n",
      "420 0.0002496848173905164\n",
      "421 0.00024359248345717788\n",
      "422 0.00023851844889577478\n",
      "423 0.00023394955496769398\n",
      "424 0.00022813011310063303\n",
      "425 0.00022345171601045877\n",
      "426 0.00021842613932676613\n",
      "427 0.0002141655859304592\n",
      "428 0.00020984945876989514\n",
      "429 0.00020505471911747009\n",
      "430 0.00020123868307564408\n",
      "431 0.00019621361570898443\n",
      "432 0.00019225296273361892\n",
      "433 0.00018777658988256007\n",
      "434 0.0001843082281993702\n",
      "435 0.00018114015983883291\n",
      "436 0.00017678133735898882\n",
      "437 0.0001733524986775592\n",
      "438 0.00017010800365824252\n",
      "439 0.00016635993961244822\n",
      "440 0.00016327454068232328\n",
      "441 0.0001601640833541751\n",
      "442 0.00015679870557505637\n",
      "443 0.00015441102732438594\n",
      "444 0.00015152532432693988\n",
      "445 0.0001488822017563507\n",
      "446 0.00014543466386385262\n",
      "447 0.00014311709674075246\n",
      "448 0.00014072090561967343\n",
      "449 0.00013773197133559734\n",
      "450 0.00013569529983215034\n",
      "451 0.00013323905295692384\n",
      "452 0.00013104802928864956\n",
      "453 0.00012857629917562008\n",
      "454 0.00012633853475563228\n",
      "455 0.00012376377708278596\n",
      "456 0.00012180920748505741\n",
      "457 0.00011994875967502594\n",
      "458 0.00011762034409912303\n",
      "459 0.00011576218821574003\n",
      "460 0.00011342608195263892\n",
      "461 0.00011133022053400055\n",
      "462 0.00010988292342517525\n",
      "463 0.00010787842620629817\n",
      "464 0.00010610873141558841\n",
      "465 0.00010419920727144927\n",
      "466 0.00010248741455143318\n",
      "467 0.00010087024566018954\n",
      "468 9.948165097739547e-05\n",
      "469 9.784279245650396e-05\n",
      "470 9.622208017390221e-05\n",
      "471 9.480957669438794e-05\n",
      "472 9.355706424685195e-05\n",
      "473 9.186677198158577e-05\n",
      "474 9.036479605128989e-05\n",
      "475 8.899012755136937e-05\n",
      "476 8.78623322932981e-05\n",
      "477 8.609668293502182e-05\n",
      "478 8.48034760565497e-05\n",
      "479 8.381927182199433e-05\n",
      "480 8.24247399577871e-05\n",
      "481 8.118143159663305e-05\n",
      "482 8.009731391211972e-05\n",
      "483 7.906427345005795e-05\n",
      "484 7.814884884282947e-05\n",
      "485 7.685404852963984e-05\n",
      "486 7.579725934192538e-05\n",
      "487 7.468586409231648e-05\n",
      "488 7.403938798233867e-05\n",
      "489 7.276330143213272e-05\n",
      "490 7.163650298025459e-05\n",
      "491 7.053273293422535e-05\n",
      "492 6.938938895473257e-05\n",
      "493 6.828339246567339e-05\n",
      "494 6.722887337673455e-05\n",
      "495 6.655183096881956e-05\n",
      "496 6.560020847246051e-05\n",
      "497 6.44207902951166e-05\n",
      "498 6.36286786175333e-05\n",
      "499 6.284548726398498e-05\n"
     ]
    }
   ],
   "source": [
    "import torch\n",
    "dtype=torch.float\n",
    "device=torch.device('cpu')\n",
    "N, D_in, H, D_out = 64, 1000, 100, 10\n",
    "\n",
    "x=torch.randn(N, D_in, device=device, dtype=dtype)\n",
    "y=torch.randn(N, D_out, device=device, dtype=dtype)\n",
    "w1=torch.randn(D_in, H, device=device, dtype=dtype, requires_grad=True)\n",
    "w2=torch.randn(H, D_out, device=device, dtype=dtype, requires_grad=True)\n",
    "\n",
    "learning_rate=1e-6\n",
    "for t in range(500):\n",
    "    y_pred=x.mm(w1).clamp(min=0).mm(w2)\n",
    "    loss=(y_pred-y).pow(2).sum()\n",
    "    print(t, loss.item())\n",
    "    \n",
    "    loss.backward()\n",
    "    \n",
    "    with torch.no_grad():\n",
    "        w1 -= learning_rate * w1.grad\n",
    "        w2 -= learning_rate * w2.grad\n",
    "        w1.grad.zero_()\n",
    "        w2.grad.zero_()\n",
    "\n"
   ]
  },
  {
   "cell_type": "code",
   "execution_count": 72,
   "metadata": {},
   "outputs": [
    {
     "name": "stdout",
     "output_type": "stream",
     "text": [
      "tensor([[1., 1.],\n",
      "        [1., 1.]], requires_grad=True)\n",
      "tensor([[3., 3.],\n",
      "        [3., 3.]], grad_fn=<AddBackward0>)\n",
      "<AddBackward0 object at 0x125105590>\n"
     ]
    }
   ],
   "source": [
    "import torch\n",
    "x=torch.ones(2,2,requires_grad=True)\n",
    "print(x)\n",
    "y=x+2\n",
    "print(y)\n",
    "print(y.grad_fn)"
   ]
  },
  {
   "cell_type": "code",
   "execution_count": 73,
   "metadata": {},
   "outputs": [
    {
     "name": "stdout",
     "output_type": "stream",
     "text": [
      "tensor([[27., 27.],\n",
      "        [27., 27.]], grad_fn=<MulBackward0>) tensor(27., grad_fn=<MeanBackward0>)\n"
     ]
    }
   ],
   "source": [
    "z=y*y*3\n",
    "out=z.mean()\n",
    "print(z, out)"
   ]
  },
  {
   "cell_type": "code",
   "execution_count": 74,
   "metadata": {},
   "outputs": [],
   "source": [
    "out.backward()"
   ]
  },
  {
   "cell_type": "code",
   "execution_count": 75,
   "metadata": {},
   "outputs": [
    {
     "name": "stdout",
     "output_type": "stream",
     "text": [
      "tensor([[4.5000, 4.5000],\n",
      "        [4.5000, 4.5000]])\n"
     ]
    }
   ],
   "source": [
    "print(x.grad)"
   ]
  },
  {
   "cell_type": "code",
   "execution_count": 34,
   "metadata": {},
   "outputs": [
    {
     "name": "stdout",
     "output_type": "stream",
     "text": [
      "\tgrad:  1.0 2.0 tensor(-2.)\n",
      "\tgrad:  2.0 4.0 tensor(-7.8400)\n",
      "\tgrad:  3.0 6.0 tensor(-16.2288)\n",
      "\tgrad:  1.0 2.0 tensor(-1.4786)\n",
      "\tgrad:  2.0 4.0 tensor(-5.7962)\n",
      "\tgrad:  3.0 6.0 tensor(-11.9981)\n",
      "\tgrad:  1.0 2.0 tensor(-1.0932)\n",
      "\tgrad:  2.0 4.0 tensor(-4.2852)\n",
      "\tgrad:  3.0 6.0 tensor(-8.8704)\n",
      "\tgrad:  1.0 2.0 tensor(-0.8082)\n",
      "\tgrad:  2.0 4.0 tensor(-3.1681)\n",
      "\tgrad:  3.0 6.0 tensor(-6.5580)\n",
      "\tgrad:  1.0 2.0 tensor(-0.5975)\n",
      "\tgrad:  2.0 4.0 tensor(-2.3422)\n",
      "\tgrad:  3.0 6.0 tensor(-4.8484)\n",
      "\tgrad:  1.0 2.0 tensor(-0.4417)\n",
      "\tgrad:  2.0 4.0 tensor(-1.7316)\n",
      "\tgrad:  3.0 6.0 tensor(-3.5845)\n",
      "\tgrad:  1.0 2.0 tensor(-0.3266)\n",
      "\tgrad:  2.0 4.0 tensor(-1.2802)\n",
      "\tgrad:  3.0 6.0 tensor(-2.6500)\n",
      "\tgrad:  1.0 2.0 tensor(-0.2414)\n",
      "\tgrad:  2.0 4.0 tensor(-0.9465)\n",
      "\tgrad:  3.0 6.0 tensor(-1.9592)\n",
      "\tgrad:  1.0 2.0 tensor(-0.1785)\n",
      "\tgrad:  2.0 4.0 tensor(-0.6997)\n",
      "\tgrad:  3.0 6.0 tensor(-1.4485)\n",
      "\tgrad:  1.0 2.0 tensor(-0.1320)\n",
      "\tgrad:  2.0 4.0 tensor(-0.5173)\n",
      "\tgrad:  3.0 6.0 tensor(-1.0709)\n"
     ]
    }
   ],
   "source": [
    "import torch\n",
    "from torch.autograd import Variable\n",
    "x_data=[1.0,2.0,3.0]\n",
    "y_data=[2.0,4.0,6.0]\n",
    "w=Variable(torch.Tensor([1.0]), requires_grad=True)\n",
    "def forward(x):\n",
    "    return x*w\n",
    "def loss(x,y):\n",
    "    y_pred=forward(x)\n",
    "    return (y_pred-y)**2\n",
    "for epoch in range(10):\n",
    "    for x_val, y_val in zip(x_data, y_data):\n",
    "        L=loss(x_val, y_val)\n",
    "        L.backward()\n",
    "        print('\\tgrad: ', x_val, y_val, w.grad.data[0])\n",
    "        w.data = w.data - 0.01*w.grad.data\n",
    "        w.grad.data.zero_()\n"
   ]
  },
  {
   "cell_type": "code",
   "execution_count": 35,
   "metadata": {},
   "outputs": [
    {
     "data": {
      "text/plain": [
       "tensor([[13.],\n",
       "        [22.]], grad_fn=<AddBackward0>)"
      ]
     },
     "execution_count": 35,
     "metadata": {},
     "output_type": "execute_result"
    }
   ],
   "source": [
    "import torch\n",
    "\n",
    "w=torch.tensor(3.0, requires_grad=True)\n",
    "b=torch.tensor(1.0, requires_grad=True)\n",
    "\n",
    "def forward(x):\n",
    "    y=w*x+b\n",
    "    return y\n",
    "x=torch.tensor([[4],[7]])\n",
    "forward(x)"
   ]
  },
  {
   "cell_type": "code",
   "execution_count": 36,
   "metadata": {},
   "outputs": [
    {
     "name": "stdout",
     "output_type": "stream",
     "text": [
      "Parameter containing:\n",
      "tensor([-0.4414], requires_grad=True) Parameter containing:\n",
      "tensor([[0.5153]], requires_grad=True)\n",
      "tensor([[0.5891],\n",
      "        [1.2590]], grad_fn=<AddmmBackward>)\n"
     ]
    }
   ],
   "source": [
    "import torch\n",
    "from torch.nn import Linear\n",
    "torch.manual_seed(1)\n",
    "\n",
    "model = Linear(in_features=1, out_features=1)\n",
    "print(model.bias, model.weight)\n",
    "\n",
    "x=torch.tensor([[2.0],[3.3]])\n",
    "print(model(x))"
   ]
  },
  {
   "cell_type": "code",
   "execution_count": 37,
   "metadata": {},
   "outputs": [
    {
     "data": {
      "image/png": "[encoded data removed]",
      "text/plain": [
       "<Figure size 432x288 with 1 Axes>"
      ]
     },
     "metadata": {
      "needs_background": "light"
     },
     "output_type": "display_data"
    }
   ],
   "source": [
    "#Linear Regression in Pytorch\n",
    "import torch\n",
    "import matplotlib.pyplot as plt\n",
    "import numpy as np\n",
    "%matplotlib inline\n",
    "\n",
    "x=torch.randn(100,1)*10\n",
    "y=x + torch.randn(100,1)*3\n",
    "plt.plot(x.numpy(), y.numpy(),'o')\n",
    "plt.xlabel('x')\n",
    "plt.ylabel('y')\n",
    "\n",
    "class LR(torch.nn.Module):\n",
    "    def __init__ (self):\n",
    "        super(LR, self).__init__()\n",
    "        self.linear = torch.nn.Linear(1,1)\n",
    "        \n",
    "    def forward(self, x):\n",
    "        pred=self.linear(x)\n",
    "        return pred\n"
   ]
  },
  {
   "cell_type": "code",
   "execution_count": 38,
   "metadata": {},
   "outputs": [
    {
     "name": "stdout",
     "output_type": "stream",
     "text": [
      "tensor(0.5153, grad_fn=<SelectBackward>) tensor(-0.4414, grad_fn=<SelectBackward>)\n"
     ]
    }
   ],
   "source": [
    "torch.manual_seed(1)\n",
    "model=LR()\n",
    "[w,b]=model.parameters()\n",
    "\n",
    "w1=w[0][0]\n",
    "b1=b[0]\n",
    "print(w1,b1)"
   ]
  },
  {
   "cell_type": "code",
   "execution_count": 39,
   "metadata": {},
   "outputs": [
    {
     "data": {
      "image/png": "[encoded data removed]",
      "text/plain": [
       "<Figure size 432x288 with 1 Axes>"
      ]
     },
     "metadata": {
      "needs_background": "light"
     },
     "output_type": "display_data"
    }
   ],
   "source": [
    "\n",
    "def get_param():\n",
    "    return(w[0][0].item(), b[0].item())\n",
    "\n",
    "def plot_fit(title):\n",
    "    plt.title = title\n",
    "    w1,b1=get_param()\n",
    "    x1=np.array([-30,30])\n",
    "    y1=w1*x1 + b1\n",
    "    plt.plot(x1, y1, 'r')\n",
    "    plt.scatter(x,y)\n",
    "    plt.show()\n",
    "    \n",
    "plot_fit('initial_model')\n"
   ]
  },
  {
   "cell_type": "code",
   "execution_count": 40,
   "metadata": {},
   "outputs": [
    {
     "name": "stdout",
     "output_type": "stream",
     "text": [
      "epoch: 0  loss: 170.40200805664062\n",
      "epoch: 1  loss: 213.91990661621094\n",
      "epoch: 2  loss: 75.86248779296875\n",
      "epoch: 3  loss: 226.2411346435547\n",
      "epoch: 4  loss: 24.865100860595703\n",
      "epoch: 5  loss: 209.96917724609375\n",
      "epoch: 6  loss: 8.67012882232666\n",
      "epoch: 7  loss: 174.08473205566406\n",
      "epoch: 8  loss: 14.880363464355469\n",
      "epoch: 9  loss: 129.59625244140625\n",
      "epoch: 10  loss: 31.22637939453125\n",
      "epoch: 11  loss: 86.28111267089844\n",
      "epoch: 12  loss: 48.056331634521484\n",
      "epoch: 13  loss: 50.846744537353516\n",
      "epoch: 14  loss: 59.4255485534668\n",
      "epoch: 15  loss: 26.41845703125\n",
      "epoch: 16  loss: 63.02495574951172\n",
      "epoch: 17  loss: 13.005287170410156\n",
      "epoch: 18  loss: 59.3587760925293\n",
      "epoch: 19  loss: 8.501275062561035\n",
      "epoch: 20  loss: 50.605499267578125\n",
      "epoch: 21  loss: 9.817242622375488\n",
      "epoch: 22  loss: 39.517181396484375\n",
      "epoch: 23  loss: 13.848094940185547\n",
      "epoch: 24  loss: 28.581371307373047\n",
      "epoch: 25  loss: 18.119409561157227\n",
      "epoch: 26  loss: 19.536624908447266\n",
      "epoch: 27  loss: 21.081087112426758\n",
      "epoch: 28  loss: 13.224146842956543\n",
      "epoch: 29  loss: 22.103656768798828\n",
      "epoch: 30  loss: 9.691389083862305\n",
      "epoch: 31  loss: 21.279682159423828\n",
      "epoch: 32  loss: 8.437172889709473\n",
      "epoch: 33  loss: 19.139551162719727\n",
      "epoch: 34  loss: 8.695564270019531\n",
      "epoch: 35  loss: 16.372434616088867\n",
      "epoch: 36  loss: 9.682628631591797\n",
      "epoch: 37  loss: 13.611043930053711\n",
      "epoch: 38  loss: 10.764399528503418\n",
      "epoch: 39  loss: 11.304675102233887\n",
      "epoch: 40  loss: 11.536153793334961\n",
      "epoch: 41  loss: 9.67755126953125\n",
      "epoch: 42  loss: 11.825833320617676\n",
      "epoch: 43  loss: 8.75182819366455\n",
      "epoch: 44  loss: 11.646678924560547\n",
      "epoch: 45  loss: 8.407868385314941\n",
      "epoch: 46  loss: 11.126640319824219\n",
      "epoch: 47  loss: 8.455521583557129\n",
      "epoch: 48  loss: 10.437810897827148\n",
      "epoch: 49  loss: 8.696974754333496\n",
      "epoch: 50  loss: 9.741064071655273\n",
      "epoch: 51  loss: 8.970183372497559\n",
      "epoch: 52  loss: 9.152708053588867\n",
      "epoch: 53  loss: 9.170031547546387\n",
      "epoch: 54  loss: 8.732712745666504\n",
      "epoch: 55  loss: 9.250127792358398\n",
      "epoch: 56  loss: 8.489609718322754\n",
      "epoch: 57  loss: 9.211492538452148\n",
      "epoch: 58  loss: 8.395186424255371\n",
      "epoch: 59  loss: 9.085009574890137\n",
      "epoch: 60  loss: 8.402371406555176\n",
      "epoch: 61  loss: 8.913595199584961\n",
      "epoch: 62  loss: 8.461252212524414\n",
      "epoch: 63  loss: 8.738038063049316\n",
      "epoch: 64  loss: 8.53034496307373\n",
      "epoch: 65  loss: 8.588295936584473\n",
      "epoch: 66  loss: 8.58226203918457\n",
      "epoch: 67  loss: 8.480241775512695\n",
      "epoch: 68  loss: 8.604458808898926\n",
      "epoch: 69  loss: 8.416702270507812\n",
      "epoch: 70  loss: 8.596539497375488\n",
      "epoch: 71  loss: 8.391037940979004\n",
      "epoch: 72  loss: 8.56591510772705\n",
      "epoch: 73  loss: 8.391613960266113\n",
      "epoch: 74  loss: 8.52328872680664\n",
      "epoch: 75  loss: 8.405878067016602\n",
      "epoch: 76  loss: 8.479024887084961\n",
      "epoch: 77  loss: 8.423247337341309\n",
      "epoch: 78  loss: 8.440857887268066\n",
      "epoch: 79  loss: 8.436634063720703\n",
      "epoch: 80  loss: 8.413012504577637\n",
      "epoch: 81  loss: 8.44267463684082\n",
      "epoch: 82  loss: 8.396382331848145\n",
      "epoch: 83  loss: 8.44111156463623\n",
      "epoch: 84  loss: 8.389421463012695\n",
      "epoch: 85  loss: 8.43371295928955\n",
      "epoch: 86  loss: 8.389253616333008\n",
      "epoch: 87  loss: 8.423138618469238\n",
      "epoch: 88  loss: 8.392711639404297\n",
      "epoch: 89  loss: 8.412007331848145\n",
      "epoch: 90  loss: 8.3970947265625\n",
      "epoch: 91  loss: 8.402308464050293\n",
      "epoch: 92  loss: 8.400557518005371\n",
      "epoch: 93  loss: 8.395153999328613\n",
      "epoch: 94  loss: 8.402203559875488\n",
      "epoch: 95  loss: 8.390811920166016\n",
      "epoch: 96  loss: 8.401923179626465\n",
      "epoch: 97  loss: 8.388934135437012\n",
      "epoch: 98  loss: 8.400138854980469\n",
      "epoch: 99  loss: 8.388805389404297\n"
     ]
    },
    {
     "data": {
      "text/plain": [
       "\"\\nimport torch\\n\\nx=torch.randn(200,1)\\ny=x.pow(4)+0.05*torch.randn(x.size())\\n\\nseq_net = torch.nn.Sequential(torch.nn.Linear(1,15),torch.nn.ReLU(),torch.nn.Linear(15,1))\\nlosser = torch.nn.MSELoss()\\noptimizer = torch.optim.SGD(seq_net.parameters(), lr=0.05, momentum=0.9)\\n\\nfor i in range(100):\\n    output = seq_net(x)\\n    loss = losser(output, y)\\n    optimizer.zero_grad()\\n    loss.backward()\\n    optimizer.step()\\n    if (i+1)%4 == 0:\\n        print(str(i+1)+'th loss ',loss.squeeze())\\n\\n\""
      ]
     },
     "execution_count": 40,
     "metadata": {},
     "output_type": "execute_result"
    },
    {
     "data": {
      "image/png": "[encoded data removed]",
      "text/plain": [
       "<Figure size 432x288 with 1 Axes>"
      ]
     },
     "metadata": {
      "needs_background": "light"
     },
     "output_type": "display_data"
    }
   ],
   "source": [
    "model=LR()\n",
    "losser = torch.nn.MSELoss()\n",
    "optimizer = torch.optim.SGD(model.parameters(), lr=0.01, momentum=0.9)\n",
    "losses =[]\n",
    "for i in range(100):\n",
    "    y_pred = model(x)\n",
    "    loss = losser(y_pred, y)\n",
    "    optimizer.zero_grad()\n",
    "    loss.backward()\n",
    "    optimizer.step()\n",
    "    print('epoch:', i, ' loss:', loss.item())\n",
    "    losses.append(loss)\n",
    "    \n",
    "plt.plot(range(100), losses)\n",
    "\n",
    "'''\n",
    "import torch\n",
    "\n",
    "x=torch.randn(200,1)\n",
    "y=x.pow(4)+0.05*torch.randn(x.size())\n",
    "\n",
    "seq_net = torch.nn.Sequential(torch.nn.Linear(1,15),torch.nn.ReLU(),torch.nn.Linear(15,1))\n",
    "losser = torch.nn.MSELoss()\n",
    "optimizer = torch.optim.SGD(seq_net.parameters(), lr=0.05, momentum=0.9)\n",
    "\n",
    "for i in range(100):\n",
    "    output = seq_net(x)\n",
    "    loss = losser(output, y)\n",
    "    optimizer.zero_grad()\n",
    "    loss.backward()\n",
    "    optimizer.step()\n",
    "    if (i+1)%4 == 0:\n",
    "        print(str(i+1)+'th loss ',loss.squeeze())\n",
    "\n",
    "'''"
   ]
  },
  {
   "cell_type": "code",
   "execution_count": 41,
   "metadata": {},
   "outputs": [
    {
     "name": "stdout",
     "output_type": "stream",
     "text": [
      "epoch: 0  loss: 337.2620849609375\n",
      "epoch: 1  loss: 36241.359375\n",
      "epoch: 2  loss: 3289704.75\n",
      "epoch: 3  loss: 298134720.0\n",
      "epoch: 4  loss: 27018502144.0\n",
      "epoch: 5  loss: 2448557342720.0\n",
      "epoch: 6  loss: 221900894633984.0\n",
      "epoch: 7  loss: 2.010980138405069e+16\n",
      "epoch: 8  loss: 1.8224537171782533e+18\n",
      "epoch: 9  loss: 1.6516029802832567e+20\n",
      "epoch: 10  loss: 1.4967676206868918e+22\n",
      "epoch: 11  loss: 1.3564483230821625e+24\n",
      "epoch: 12  loss: 1.2292841997766972e+26\n",
      "epoch: 13  loss: 1.1140407265842743e+28\n",
      "epoch: 14  loss: 1.009601455022573e+30\n",
      "epoch: 15  loss: 9.149529721980545e+31\n",
      "epoch: 16  loss: 8.291771281765029e+33\n",
      "epoch: 17  loss: 7.514430726338533e+35\n",
      "epoch: 18  loss: inf\n",
      "epoch: 19  loss: inf\n",
      "epoch: 20  loss: inf\n",
      "epoch: 21  loss: inf\n",
      "epoch: 22  loss: inf\n",
      "epoch: 23  loss: inf\n",
      "epoch: 24  loss: inf\n",
      "epoch: 25  loss: inf\n",
      "epoch: 26  loss: inf\n",
      "epoch: 27  loss: inf\n",
      "epoch: 28  loss: inf\n",
      "epoch: 29  loss: inf\n",
      "epoch: 30  loss: inf\n",
      "epoch: 31  loss: inf\n",
      "epoch: 32  loss: inf\n",
      "epoch: 33  loss: inf\n",
      "epoch: 34  loss: inf\n",
      "epoch: 35  loss: inf\n",
      "epoch: 36  loss: inf\n",
      "epoch: 37  loss: inf\n",
      "epoch: 38  loss: inf\n",
      "epoch: 39  loss: nan\n",
      "epoch: 40  loss: nan\n",
      "epoch: 41  loss: nan\n",
      "epoch: 42  loss: nan\n",
      "epoch: 43  loss: nan\n",
      "epoch: 44  loss: nan\n",
      "epoch: 45  loss: nan\n",
      "epoch: 46  loss: nan\n",
      "epoch: 47  loss: nan\n",
      "epoch: 48  loss: nan\n",
      "epoch: 49  loss: nan\n",
      "epoch: 50  loss: nan\n",
      "epoch: 51  loss: nan\n",
      "epoch: 52  loss: nan\n",
      "epoch: 53  loss: nan\n",
      "epoch: 54  loss: nan\n",
      "epoch: 55  loss: nan\n",
      "epoch: 56  loss: nan\n",
      "epoch: 57  loss: nan\n",
      "epoch: 58  loss: nan\n",
      "epoch: 59  loss: nan\n",
      "epoch: 60  loss: nan\n",
      "epoch: 61  loss: nan\n",
      "epoch: 62  loss: nan\n",
      "epoch: 63  loss: nan\n",
      "epoch: 64  loss: nan\n",
      "epoch: 65  loss: nan\n",
      "epoch: 66  loss: nan\n",
      "epoch: 67  loss: nan\n",
      "epoch: 68  loss: nan\n",
      "epoch: 69  loss: nan\n",
      "epoch: 70  loss: nan\n",
      "epoch: 71  loss: nan\n",
      "epoch: 72  loss: nan\n",
      "epoch: 73  loss: nan\n",
      "epoch: 74  loss: nan\n",
      "epoch: 75  loss: nan\n",
      "epoch: 76  loss: nan\n",
      "epoch: 77  loss: nan\n",
      "epoch: 78  loss: nan\n",
      "epoch: 79  loss: nan\n",
      "epoch: 80  loss: nan\n",
      "epoch: 81  loss: nan\n",
      "epoch: 82  loss: nan\n",
      "epoch: 83  loss: nan\n",
      "epoch: 84  loss: nan\n",
      "epoch: 85  loss: nan\n",
      "epoch: 86  loss: nan\n",
      "epoch: 87  loss: nan\n",
      "epoch: 88  loss: nan\n",
      "epoch: 89  loss: nan\n",
      "epoch: 90  loss: nan\n",
      "epoch: 91  loss: nan\n",
      "epoch: 92  loss: nan\n",
      "epoch: 93  loss: nan\n",
      "epoch: 94  loss: nan\n",
      "epoch: 95  loss: nan\n",
      "epoch: 96  loss: nan\n",
      "epoch: 97  loss: nan\n",
      "epoch: 98  loss: nan\n",
      "epoch: 99  loss: nan\n"
     ]
    },
    {
     "data": {
      "text/plain": [
       "[<matplotlib.lines.Line2D at 0x124f91590>]"
      ]
     },
     "execution_count": 41,
     "metadata": {},
     "output_type": "execute_result"
    },
    {
     "data": {
      "image/png": "[encoded data removed]",
      "text/plain": [
       "<Figure size 432x288 with 1 Axes>"
      ]
     },
     "metadata": {
      "needs_background": "light"
     },
     "output_type": "display_data"
    }
   ],
   "source": [
    "#Linear Regression in Pytorch\n",
    "import torch\n",
    "import matplotlib.pyplot as plt\n",
    "import numpy as np\n",
    "%matplotlib inline\n",
    "\n",
    "x=torch.randn(100,1)*10\n",
    "y=x + torch.randn(100,1)*3\n",
    "plt.plot(x.numpy(), y.numpy(),'o')\n",
    "plt.xlabel('x')\n",
    "plt.ylabel('y')\n",
    "\n",
    "class LR(torch.nn.Module):\n",
    "    def __init__ (self):\n",
    "        super(LR, self).__init__()\n",
    "        self.linear = torch.nn.Linear(1,1)\n",
    "        \n",
    "    def forward(self, x):\n",
    "        pred=self.linear(x)\n",
    "        return pred\n",
    "\n",
    "seq_net = LR()\n",
    "losser = torch.nn.MSELoss()\n",
    "optimizer = torch.optim.SGD(seq_net.parameters(), lr=0.05, momentum=0.9)\n",
    "losses = []\n",
    "for i in range(100):\n",
    "    output = seq_net(x)\n",
    "    loss = losser(output, y)\n",
    "    optimizer.zero_grad()\n",
    "    loss.backward()\n",
    "    optimizer.step()\n",
    "    print('epoch:', i, ' loss:', loss.item())\n",
    "    losses.append(loss)\n",
    "\n",
    "plt.plot(range(100), losses)\n",
    "\n"
   ]
  },
  {
   "cell_type": "code",
   "execution_count": 42,
   "metadata": {},
   "outputs": [
    {
     "data": {
      "image/png": "[encoded data removed]",
      "text/plain": [
       "<Figure size 432x288 with 1 Axes>"
      ]
     },
     "metadata": {
      "needs_background": "light"
     },
     "output_type": "display_data"
    }
   ],
   "source": [
    "plot_fit(\"trained model\")"
   ]
  },
  {
   "cell_type": "code",
   "execution_count": 43,
   "metadata": {},
   "outputs": [
    {
     "name": "stdout",
     "output_type": "stream",
     "text": [
      "Net(\n",
      "  (hidden): Linear(in_features=1, out_features=15, bias=True)\n",
      "  (output): Linear(in_features=15, out_features=1, bias=True)\n",
      ")\n",
      "0 th loss  tensor(66.2192, grad_fn=<SqueezeBackward0>)\n",
      "1 th loss  tensor(66.2192, grad_fn=<SqueezeBackward0>)\n",
      "2 th loss  tensor(66.2192, grad_fn=<SqueezeBackward0>)\n",
      "3 th loss  tensor(66.2192, grad_fn=<SqueezeBackward0>)\n",
      "4 th loss  tensor(66.2192, grad_fn=<SqueezeBackward0>)\n",
      "5 th loss  tensor(66.2192, grad_fn=<SqueezeBackward0>)\n",
      "6 th loss  tensor(66.2192, grad_fn=<SqueezeBackward0>)\n",
      "7 th loss  tensor(66.2192, grad_fn=<SqueezeBackward0>)\n",
      "8 th loss  tensor(66.2192, grad_fn=<SqueezeBackward0>)\n",
      "9 th loss  tensor(66.2192, grad_fn=<SqueezeBackward0>)\n",
      "10 th loss  tensor(66.2192, grad_fn=<SqueezeBackward0>)\n",
      "11 th loss  tensor(66.2192, grad_fn=<SqueezeBackward0>)\n",
      "12 th loss  tensor(66.2192, grad_fn=<SqueezeBackward0>)\n",
      "13 th loss  tensor(66.2192, grad_fn=<SqueezeBackward0>)\n",
      "14 th loss  tensor(66.2192, grad_fn=<SqueezeBackward0>)\n",
      "15 th loss  tensor(66.2192, grad_fn=<SqueezeBackward0>)\n",
      "16 th loss  tensor(66.2192, grad_fn=<SqueezeBackward0>)\n",
      "17 th loss  tensor(66.2192, grad_fn=<SqueezeBackward0>)\n",
      "18 th loss  tensor(66.2192, grad_fn=<SqueezeBackward0>)\n",
      "19 th loss  tensor(66.2192, grad_fn=<SqueezeBackward0>)\n",
      "20 th loss  tensor(66.2192, grad_fn=<SqueezeBackward0>)\n",
      "21 th loss  tensor(66.2192, grad_fn=<SqueezeBackward0>)\n",
      "22 th loss  tensor(66.2192, grad_fn=<SqueezeBackward0>)\n",
      "23 th loss  tensor(66.2192, grad_fn=<SqueezeBackward0>)\n",
      "24 th loss  tensor(66.2192, grad_fn=<SqueezeBackward0>)\n",
      "25 th loss  tensor(66.2192, grad_fn=<SqueezeBackward0>)\n",
      "26 th loss  tensor(66.2192, grad_fn=<SqueezeBackward0>)\n",
      "27 th loss  tensor(66.2192, grad_fn=<SqueezeBackward0>)\n",
      "28 th loss  tensor(66.2192, grad_fn=<SqueezeBackward0>)\n",
      "29 th loss  tensor(66.2192, grad_fn=<SqueezeBackward0>)\n",
      "30 th loss  tensor(66.2192, grad_fn=<SqueezeBackward0>)\n",
      "31 th loss  tensor(66.2192, grad_fn=<SqueezeBackward0>)\n",
      "32 th loss  tensor(66.2192, grad_fn=<SqueezeBackward0>)\n",
      "33 th loss  tensor(66.2192, grad_fn=<SqueezeBackward0>)\n",
      "34 th loss  tensor(66.2192, grad_fn=<SqueezeBackward0>)\n",
      "35 th loss  tensor(66.2192, grad_fn=<SqueezeBackward0>)\n",
      "36 th loss  tensor(66.2192, grad_fn=<SqueezeBackward0>)\n",
      "37 th loss  tensor(66.2192, grad_fn=<SqueezeBackward0>)\n",
      "38 th loss  tensor(66.2192, grad_fn=<SqueezeBackward0>)\n",
      "39 th loss  tensor(66.2192, grad_fn=<SqueezeBackward0>)\n",
      "40 th loss  tensor(66.2192, grad_fn=<SqueezeBackward0>)\n",
      "41 th loss  tensor(66.2192, grad_fn=<SqueezeBackward0>)\n",
      "42 th loss  tensor(66.2192, grad_fn=<SqueezeBackward0>)\n",
      "43 th loss  tensor(66.2192, grad_fn=<SqueezeBackward0>)\n",
      "44 th loss  tensor(66.2192, grad_fn=<SqueezeBackward0>)\n",
      "45 th loss  tensor(66.2192, grad_fn=<SqueezeBackward0>)\n",
      "46 th loss  tensor(66.2192, grad_fn=<SqueezeBackward0>)\n",
      "47 th loss  tensor(66.2192, grad_fn=<SqueezeBackward0>)\n",
      "48 th loss  tensor(66.2192, grad_fn=<SqueezeBackward0>)\n",
      "49 th loss  tensor(66.2192, grad_fn=<SqueezeBackward0>)\n",
      "50 th loss  tensor(66.2192, grad_fn=<SqueezeBackward0>)\n",
      "51 th loss  tensor(66.2192, grad_fn=<SqueezeBackward0>)\n",
      "52 th loss  tensor(66.2192, grad_fn=<SqueezeBackward0>)\n",
      "53 th loss  tensor(66.2192, grad_fn=<SqueezeBackward0>)\n",
      "54 th loss  tensor(66.2192, grad_fn=<SqueezeBackward0>)\n",
      "55 th loss  tensor(66.2192, grad_fn=<SqueezeBackward0>)\n",
      "56 th loss  tensor(66.2192, grad_fn=<SqueezeBackward0>)\n",
      "57 th loss  tensor(66.2192, grad_fn=<SqueezeBackward0>)\n",
      "58 th loss  tensor(66.2192, grad_fn=<SqueezeBackward0>)\n",
      "59 th loss  tensor(66.2192, grad_fn=<SqueezeBackward0>)\n",
      "60 th loss  tensor(66.2192, grad_fn=<SqueezeBackward0>)\n",
      "61 th loss  tensor(66.2192, grad_fn=<SqueezeBackward0>)\n",
      "62 th loss  tensor(66.2192, grad_fn=<SqueezeBackward0>)\n",
      "63 th loss  tensor(66.2192, grad_fn=<SqueezeBackward0>)\n",
      "64 th loss  tensor(66.2192, grad_fn=<SqueezeBackward0>)\n",
      "65 th loss  tensor(66.2192, grad_fn=<SqueezeBackward0>)\n",
      "66 th loss  tensor(66.2192, grad_fn=<SqueezeBackward0>)\n",
      "67 th loss  tensor(66.2192, grad_fn=<SqueezeBackward0>)\n",
      "68 th loss  tensor(66.2192, grad_fn=<SqueezeBackward0>)\n",
      "69 th loss  tensor(66.2192, grad_fn=<SqueezeBackward0>)\n",
      "70 th loss  tensor(66.2192, grad_fn=<SqueezeBackward0>)\n",
      "71 th loss  tensor(66.2192, grad_fn=<SqueezeBackward0>)\n",
      "72 th loss  tensor(66.2192, grad_fn=<SqueezeBackward0>)\n",
      "73 th loss  tensor(66.2192, grad_fn=<SqueezeBackward0>)\n",
      "74 th loss  tensor(66.2192, grad_fn=<SqueezeBackward0>)\n",
      "75 th loss  tensor(66.2192, grad_fn=<SqueezeBackward0>)\n",
      "76 th loss  tensor(66.2192, grad_fn=<SqueezeBackward0>)\n",
      "77 th loss  tensor(66.2192, grad_fn=<SqueezeBackward0>)\n",
      "78 th loss  tensor(66.2192, grad_fn=<SqueezeBackward0>)\n",
      "79 th loss  tensor(66.2192, grad_fn=<SqueezeBackward0>)\n",
      "80 th loss  tensor(66.2192, grad_fn=<SqueezeBackward0>)\n",
      "81 th loss  tensor(66.2192, grad_fn=<SqueezeBackward0>)\n",
      "82 th loss  tensor(66.2192, grad_fn=<SqueezeBackward0>)\n",
      "83 th loss  tensor(66.2192, grad_fn=<SqueezeBackward0>)\n",
      "84 th loss  tensor(66.2192, grad_fn=<SqueezeBackward0>)\n",
      "85 th loss  tensor(66.2192, grad_fn=<SqueezeBackward0>)\n",
      "86 th loss  tensor(66.2192, grad_fn=<SqueezeBackward0>)\n",
      "87 th loss  tensor(66.2192, grad_fn=<SqueezeBackward0>)\n",
      "88 th loss  tensor(66.2192, grad_fn=<SqueezeBackward0>)\n",
      "89 th loss  tensor(66.2192, grad_fn=<SqueezeBackward0>)\n",
      "90 th loss  tensor(66.2192, grad_fn=<SqueezeBackward0>)\n",
      "91 th loss  tensor(66.2192, grad_fn=<SqueezeBackward0>)\n",
      "92 th loss  tensor(66.2192, grad_fn=<SqueezeBackward0>)\n",
      "93 th loss  tensor(66.2192, grad_fn=<SqueezeBackward0>)\n",
      "94 th loss  tensor(66.2192, grad_fn=<SqueezeBackward0>)\n",
      "95 th loss  tensor(66.2192, grad_fn=<SqueezeBackward0>)\n",
      "96 th loss  tensor(66.2192, grad_fn=<SqueezeBackward0>)\n",
      "97 th loss  tensor(66.2192, grad_fn=<SqueezeBackward0>)\n",
      "98 th loss  tensor(66.2192, grad_fn=<SqueezeBackward0>)\n",
      "99 th loss  tensor(66.2192, grad_fn=<SqueezeBackward0>)\n"
     ]
    }
   ],
   "source": [
    "import torch\n",
    "import torch.nn.functional as functional\n",
    "x=torch.randn(200,1)\n",
    "y=x.pow(4)+0.05*torch.randn(x.size())\n",
    "epoch=100\n",
    "learning_rate=0.05\n",
    "class Net(torch.nn.Module):\n",
    "    def __init__(self, n_input, n_hidden, n_output):\n",
    "        super(Net, self).__init__()\n",
    "        self.hidden = torch.nn.Linear(n_input, n_hidden)\n",
    "        self.output = torch.nn.Linear(n_hidden, n_output)\n",
    "        \n",
    "    def forward(self, input):\n",
    "        hidden = functional.relu(self.hidden(input))\n",
    "        output = self.output(hidden)\n",
    "        return output\n",
    "\n",
    "net = Net(1,15,1)\n",
    "print(net)\n",
    "lossFunc = torch.nn.MSELoss()\n",
    "\n",
    "for i in range(epoch):\n",
    "    output = net(x)\n",
    "    loss = lossFunc(output, y)\n",
    "    net.zero_grad()\n",
    "    loss.backward()\n",
    " #   for f in net.parameters():\n",
    " #       f.data.sub_(learning_rate*f.grad.data)\n",
    "    print(i, 'th loss ', loss.squeeze())"
   ]
  },
  {
   "cell_type": "code",
   "execution_count": 44,
   "metadata": {},
   "outputs": [
    {
     "name": "stdout",
     "output_type": "stream",
     "text": [
      "4th loss  tensor(96.1771, grad_fn=<SqueezeBackward0>)\n",
      "8th loss  tensor(35.5710, grad_fn=<SqueezeBackward0>)\n",
      "12th loss  tensor(7.1431, grad_fn=<SqueezeBackward0>)\n",
      "16th loss  tensor(9.5981, grad_fn=<SqueezeBackward0>)\n",
      "20th loss  tensor(5.0915, grad_fn=<SqueezeBackward0>)\n",
      "24th loss  tensor(3.9213, grad_fn=<SqueezeBackward0>)\n",
      "28th loss  tensor(3.8478, grad_fn=<SqueezeBackward0>)\n",
      "32th loss  tensor(3.0772, grad_fn=<SqueezeBackward0>)\n",
      "36th loss  tensor(2.5125, grad_fn=<SqueezeBackward0>)\n",
      "40th loss  tensor(1.7776, grad_fn=<SqueezeBackward0>)\n",
      "44th loss  tensor(1.1846, grad_fn=<SqueezeBackward0>)\n",
      "48th loss  tensor(1.0564, grad_fn=<SqueezeBackward0>)\n",
      "52th loss  tensor(0.9907, grad_fn=<SqueezeBackward0>)\n",
      "56th loss  tensor(1.0057, grad_fn=<SqueezeBackward0>)\n",
      "60th loss  tensor(0.9841, grad_fn=<SqueezeBackward0>)\n",
      "64th loss  tensor(0.9201, grad_fn=<SqueezeBackward0>)\n",
      "68th loss  tensor(0.8757, grad_fn=<SqueezeBackward0>)\n",
      "72th loss  tensor(0.8582, grad_fn=<SqueezeBackward0>)\n",
      "76th loss  tensor(0.8513, grad_fn=<SqueezeBackward0>)\n",
      "80th loss  tensor(0.8506, grad_fn=<SqueezeBackward0>)\n",
      "84th loss  tensor(0.8473, grad_fn=<SqueezeBackward0>)\n",
      "88th loss  tensor(0.8419, grad_fn=<SqueezeBackward0>)\n",
      "92th loss  tensor(0.8386, grad_fn=<SqueezeBackward0>)\n",
      "96th loss  tensor(0.8372, grad_fn=<SqueezeBackward0>)\n",
      "100th loss  tensor(0.8365, grad_fn=<SqueezeBackward0>)\n"
     ]
    }
   ],
   "source": [
    "#working\n",
    "import torch\n",
    "\n",
    "x=torch.randn(200,1)\n",
    "y=x.pow(4)+0.05*torch.randn(x.size())\n",
    "\n",
    "seq_net = torch.nn.Sequential(torch.nn.Linear(1,15),torch.nn.ReLU(),torch.nn.Linear(15,1))\n",
    "losser = torch.nn.MSELoss()\n",
    "optimizer = torch.optim.SGD(seq_net.parameters(), lr=0.05, momentum=0.9)\n",
    "\n",
    "for i in range(100):\n",
    "    output = seq_net(x)\n",
    "    loss = losser(output, y)\n",
    "    optimizer.zero_grad()\n",
    "    loss.backward()\n",
    "    optimizer.step()\n",
    "    if (i+1)%4 == 0:\n",
    "        print(str(i+1)+'th loss ',loss.squeeze())\n",
    "\n"
   ]
  },
  {
   "cell_type": "code",
   "execution_count": 78,
   "metadata": {},
   "outputs": [],
   "source": [
    "#ETL (extract, transform, load)\n",
    "import torch\n",
    "import torchvision\n",
    "import torchvision.transforms as transforms"
   ]
  },
  {
   "cell_type": "code",
   "execution_count": 82,
   "metadata": {},
   "outputs": [],
   "source": [
    "#train_set = torchvision.datasets.FashionMNIST(\n",
    "#    root='./data/FashionMNIST'\n",
    "#    ,train=True\n",
    "#    ,download=True\n",
    "#    ,transform=transforms.Compose([\n",
    "#        transforms.ToTensor()\n",
    "#    ])\n",
    "#)"
   ]
  },
  {
   "cell_type": "code",
   "execution_count": 83,
   "metadata": {},
   "outputs": [],
   "source": [
    "train_loader=torch.utils.data.DataLoader(train_set, batch_size=10)"
   ]
  },
  {
   "cell_type": "code",
   "execution_count": 84,
   "metadata": {},
   "outputs": [],
   "source": [
    "import numpy as np\n",
    "import matplotlib.pyplot as plt\n",
    "torch.set_printoptions(linewidth=120)"
   ]
  },
  {
   "cell_type": "code",
   "execution_count": 86,
   "metadata": {},
   "outputs": [
    {
     "data": {
      "text/plain": [
       "60000"
      ]
     },
     "execution_count": 86,
     "metadata": {},
     "output_type": "execute_result"
    }
   ],
   "source": [
    "len(train_set)"
   ]
  },
  {
   "cell_type": "code",
   "execution_count": 87,
   "metadata": {},
   "outputs": [
    {
     "name": "stderr",
     "output_type": "stream",
     "text": [
      "/Users/djkim/opt/anaconda3/lib/python3.7/site-packages/torchvision/datasets/mnist.py:45: UserWarning: train_labels has been renamed targets\n",
      "  warnings.warn(\"train_labels has been renamed targets\")\n"
     ]
    },
    {
     "data": {
      "text/plain": [
       "tensor([9, 0, 0,  ..., 3, 0, 5])"
      ]
     },
     "execution_count": 87,
     "metadata": {},
     "output_type": "execute_result"
    }
   ],
   "source": [
    "train_set.train_labels"
   ]
  },
  {
   "cell_type": "code",
   "execution_count": 88,
   "metadata": {},
   "outputs": [
    {
     "name": "stderr",
     "output_type": "stream",
     "text": [
      "/Users/djkim/opt/anaconda3/lib/python3.7/site-packages/torchvision/datasets/mnist.py:45: UserWarning: train_labels has been renamed targets\n",
      "  warnings.warn(\"train_labels has been renamed targets\")\n"
     ]
    },
    {
     "data": {
      "text/plain": [
       "tensor([6000, 6000, 6000, 6000, 6000, 6000, 6000, 6000, 6000, 6000])"
      ]
     },
     "execution_count": 88,
     "metadata": {},
     "output_type": "execute_result"
    }
   ],
   "source": [
    "train_set.train_labels.bincount()"
   ]
  },
  {
   "cell_type": "code",
   "execution_count": 89,
   "metadata": {},
   "outputs": [
    {
     "name": "stdout",
     "output_type": "stream",
     "text": [
      "2\n",
      "<class 'tuple'>\n"
     ]
    }
   ],
   "source": [
    "sample=next(iter(train_set))\n",
    "print(len(sample))\n",
    "print(type(sample))\n",
    "image, label=sample"
   ]
  },
  {
   "cell_type": "code",
   "execution_count": 94,
   "metadata": {},
   "outputs": [
    {
     "name": "stdout",
     "output_type": "stream",
     "text": [
      "torch.Size([1, 28, 28])\n",
      "<class 'int'>\n"
     ]
    }
   ],
   "source": [
    "print(image.shape)\n",
    "print(type(label))"
   ]
  },
  {
   "cell_type": "code",
   "execution_count": 96,
   "metadata": {},
   "outputs": [
    {
     "name": "stdout",
     "output_type": "stream",
     "text": [
      "label: 9\n"
     ]
    },
    {
     "data": {
      "image/png": "[encoded data removed]",
      "text/plain": [
       "<Figure size 432x288 with 1 Axes>"
      ]
     },
     "metadata": {
      "needs_background": "light"
     },
     "output_type": "display_data"
    }
   ],
   "source": [
    "plt.imshow(image.squeeze(), cmap='gray')\n",
    "print('label:',label)"
   ]
  },
  {
   "cell_type": "code",
   "execution_count": 97,
   "metadata": {},
   "outputs": [
    {
     "name": "stdout",
     "output_type": "stream",
     "text": [
      "2\n",
      "<class 'list'>\n"
     ]
    }
   ],
   "source": [
    "batch=next(iter(train_loader))\n",
    "print(len(batch))\n",
    "print(type(batch))"
   ]
  },
  {
   "cell_type": "code",
   "execution_count": 98,
   "metadata": {},
   "outputs": [],
   "source": [
    "images, labels = batch"
   ]
  },
  {
   "cell_type": "code",
   "execution_count": 107,
   "metadata": {},
   "outputs": [
    {
     "name": "stdout",
     "output_type": "stream",
     "text": [
      "labels: tensor([9, 0, 0, 3, 0, 2, 7, 2, 5, 5])\n"
     ]
    },
    {
     "data": {
      "image/png": "[encoded data removed]",
      "text/plain": [
       "<Figure size 1080x1080 with 1 Axes>"
      ]
     },
     "metadata": {
      "needs_background": "light"
     },
     "output_type": "display_data"
    }
   ],
   "source": [
    "grid=torchvision.utils.make_grid(images, nrow=10)\n",
    "plt.figure(figsize=(15,15))\n",
    "plt.imshow(np.transpose(grid, (1,2,0)))\n",
    "print('labels:',labels)"
   ]
  },
  {
   "cell_type": "code",
   "execution_count": 110,
   "metadata": {},
   "outputs": [
    {
     "name": "stdout",
     "output_type": "stream",
     "text": [
      "deep\n",
      "learning\n"
     ]
    }
   ],
   "source": [
    "class lizard:\n",
    "    def __init__(self, name):\n",
    "        self.name=name\n",
    "    def set_name(self, name):\n",
    "        self.name=name\n",
    "#name=attribute\n",
    "#set_name=method\n",
    "lizard=lizard('deep')\n",
    "print(lizard.name)\n",
    "lizard.set_name('learning')\n",
    "print(lizard.name)"
   ]
  },
  {
   "cell_type": "code",
   "execution_count": 111,
   "metadata": {},
   "outputs": [],
   "source": [
    "import torch.nn as nn\n",
    "class regular_class:\n",
    "    def __init__ (self):\n",
    "        self.linear = None\n",
    "        \n",
    "    def forward(self, x):\n",
    "        pred=self.linear(x)\n",
    "        return pred\n",
    "\n",
    "class pytorch_class(nn.Module):\n",
    "    def __init__ (self):\n",
    "        super(pytorch_class, self).__init__()\n",
    "        self.linear = nn.Linear(1,1)\n",
    "        \n",
    "    def forward(self, x):\n",
    "        pred=self.linear(x)\n",
    "        return pred"
   ]
  },
  {
   "cell_type": "code",
   "execution_count": null,
   "metadata": {},
   "outputs": [],
   "source": []
  }
 ],
 "metadata": {
  "kernelspec": {
   "display_name": "Python 3",
   "language": "python",
   "name": "python3"
  },
  "language_info": {
   "codemirror_mode": {
    "name": "ipython",
    "version": 3
   },
   "file_extension": ".py",
   "mimetype": "text/x-python",
   "name": "python",
   "nbconvert_exporter": "python",
   "pygments_lexer": "ipython3",
   "version": "3.7.4"
  }
 },
 "nbformat": 4,
 "nbformat_minor": 2
}
