{
 "cells": [
  {
   "cell_type": "code",
   "execution_count": 1,
   "metadata": {},
   "outputs": [],
   "source": [
    "import numpy as np\n",
    "import numpy.random as rp\n",
    "import matplotlib.pyplot as plt\n",
    "%matplotlib inline"
   ]
  },
  {
   "cell_type": "code",
   "execution_count": 2,
   "metadata": {},
   "outputs": [
    {
     "data": {
      "text/plain": [
       "array([0.49576544, 0.93683069, 0.44736837, 0.09043054, 0.25079493,\n",
       "       0.17515475, 0.75123998, 0.32008594, 0.42108943, 0.37998002])"
      ]
     },
     "execution_count": 2,
     "metadata": {},
     "output_type": "execute_result"
    }
   ],
   "source": [
    "rp.rand(10)"
   ]
  },
  {
   "cell_type": "code",
   "execution_count": 3,
   "metadata": {},
   "outputs": [
    {
     "data": {
      "text/plain": [
       "array([9.20151065, 6.04405229, 5.04344855, 5.83390123, 8.40815211,\n",
       "       6.95032121, 7.87123546, 5.52951539, 6.78891473, 7.097392  ])"
      ]
     },
     "execution_count": 3,
     "metadata": {},
     "output_type": "execute_result"
    }
   ],
   "source": [
    "a,b = 5,10\n",
    "rp.rand(10)*(b-a)+a"
   ]
  },
  {
   "cell_type": "code",
   "execution_count": 4,
   "metadata": {},
   "outputs": [
    {
     "data": {
      "text/plain": [
       "(array([ 2.,  3.,  2.,  9.,  7.,  9., 14., 29., 31., 46., 53., 38., 56.,\n",
       "        38., 37., 37., 23., 29., 14., 10.,  5.,  6.,  1.,  0.,  1.]),\n",
       " array([-2.7593255 , -2.52876644, -2.29820739, -2.06764833, -1.83708928,\n",
       "        -1.60653022, -1.37597117, -1.14541211, -0.91485306, -0.684294  ,\n",
       "        -0.45373495, -0.22317589,  0.00738316,  0.23794221,  0.46850127,\n",
       "         0.69906032,  0.92961938,  1.16017843,  1.39073749,  1.62129654,\n",
       "         1.8518556 ,  2.08241465,  2.31297371,  2.54353276,  2.77409182,\n",
       "         3.00465087]),\n",
       " <a list of 25 Patch objects>)"
      ]
     },
     "execution_count": 4,
     "metadata": {},
     "output_type": "execute_result"
    },
    {
     "data": {
      "image/png": "[encoded data removed]",
      "text/plain": [
       "<Figure size 432x288 with 1 Axes>"
      ]
     },
     "metadata": {
      "needs_background": "light"
     },
     "output_type": "display_data"
    }
   ],
   "source": [
    "n=500\n",
    "sn = rp.standard_normal(n)\n",
    "plt.hist(sn,bins=25)"
   ]
  },
  {
   "cell_type": "code",
   "execution_count": 5,
   "metadata": {},
   "outputs": [],
   "source": [
    "rp.seed(1)"
   ]
  },
  {
   "cell_type": "code",
   "execution_count": 14,
   "metadata": {},
   "outputs": [
    {
     "name": "stdout",
     "output_type": "stream",
     "text": [
      "19\n",
      "9\n",
      "18\n",
      "15\n",
      "0\n",
      "[0, 1, 2, 3, 4, 5, 6, 7, 8, 9, 10, 11, 12, 13, 14, 15, 16, 17, 18, 19]\n",
      "[12, 0, 17, 13, 1, 18, 19, 5, 11, 16, 3, 14, 6, 8, 9, 10, 7, 2, 15, 4]\n"
     ]
    }
   ],
   "source": [
    "seq = [i for i in range(20)]\n",
    "for _ in range(5):\n",
    "    print(rp.choice(seq))\n",
    "print(seq)\n",
    "rp.shuffle(seq)\n",
    "print(seq)"
   ]
  },
  {
   "cell_type": "code",
   "execution_count": null,
   "metadata": {},
   "outputs": [],
   "source": []
  }
 ],
 "metadata": {
  "kernelspec": {
   "display_name": "Python 3",
   "language": "python",
   "name": "python3"
  },
  "language_info": {
   "codemirror_mode": {
    "name": "ipython",
    "version": 3
   },
   "file_extension": ".py",
   "mimetype": "text/x-python",
   "name": "python",
   "nbconvert_exporter": "python",
   "pygments_lexer": "ipython3",
   "version": "3.7.4"
  }
 },
 "nbformat": 4,
 "nbformat_minor": 2
}
