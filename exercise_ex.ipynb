{
 "cells": [
  {
   "cell_type": "code",
   "execution_count": 2,
   "metadata": {},
   "outputs": [
    {
     "name": "stdout",
     "output_type": "stream",
     "text": [
      "it is five for $290.35\n"
     ]
    }
   ],
   "source": [
    "print('it is five for ${:3.2f}'.format(290.345))"
   ]
  },
  {
   "cell_type": "code",
   "execution_count": 3,
   "metadata": {},
   "outputs": [
    {
     "name": "stdout",
     "output_type": "stream",
     "text": [
      "0: g\n",
      "1: i\n",
      "2: r\n",
      "3: a\n",
      "4: f\n",
      "5: f\n",
      "6: e\n"
     ]
    }
   ],
   "source": [
    "text='giraffe'\n",
    "for i, a in enumerate(text):\n",
    "    print('{:1d}: {}'.format(i,a))\n"
   ]
  },
  {
   "cell_type": "code",
   "execution_count": 33,
   "metadata": {},
   "outputs": [
    {
     "name": "stdout",
     "output_type": "stream",
     "text": [
      "(100, 2)\n",
      "initial student t dist : mu= 0.2696, std=1.6298, kurtosis=10.8715\n",
      "initial student t dist : mu= 0.0276, std=1.1847, kurtosis=6.8705\n",
      "final student t dist : mu= 0.2536, std=1.4041, kurtosis=6.1711\n",
      "final student t dist : mu= 0.4018, std=2.5228, kurtosis=49.4182\n"
     ]
    }
   ],
   "source": [
    "import numpy as np\n",
    "from scipy.stats import norm, kurtosis, t, levy_stable\n",
    "\n",
    "np.random.seed(1)\n",
    "\n",
    "n=100\n",
    "#t-dist random variable\n",
    "df1 = 3\n",
    "r1 = t.rvs(df=df1, size=n)\n",
    "df2 = 4\n",
    "r2 = t.rvs(df=df2, size=n)\n",
    "\n",
    "\n",
    "#convert to normal random variable\n",
    "p1 = t.cdf(r1, df=df1)\n",
    "z1 = norm.ppf(p1)\n",
    "p2 = t.cdf(r2, df=df2)\n",
    "z2 = norm.ppf(p2)\n",
    "\n",
    "#multivariate normal sampling\n",
    "mu = np.array([z1.mean(), z2.mean()])\n",
    "vcv = np.cov(z1,z2)\n",
    "z = np.random.multivariate_normal(mu, vcv, size=(n,))\n",
    "\n",
    "#back to t-dist random variable\n",
    "p = norm.cdf(z)\n",
    "t = t.ppf(p, df=df)\n",
    "\n",
    "t1 = t[:,0]\n",
    "t2 = t[:,1]\n",
    "\n",
    "print('initial student t dist : mu= {:5.4f}, std={:5.4f}, kurtosis={:5.4f}'.format(r1.mean(),r1.std(),kurtosis(r1)))\n",
    "print('initial student t dist : mu= {:5.4f}, std={:5.4f}, kurtosis={:5.4f}'.format(r2.mean(),r2.std(),kurtosis(r2)))\n",
    "\n",
    "print('final student t dist : mu= {:5.4f}, std={:5.4f}, kurtosis={:5.4f}'.format(t1.mean(),t1.std(),kurtosis(t1)))\n",
    "print('final student t dist : mu= {:5.4f}, std={:5.4f}, kurtosis={:5.4f}'.format(t2.mean(),t2.std(),kurtosis(t2)))\n",
    "\n",
    "\n"
   ]
  },
  {
   "cell_type": "code",
   "execution_count": null,
   "metadata": {},
   "outputs": [],
   "source": []
  }
 ],
 "metadata": {
  "kernelspec": {
   "display_name": "Python 3",
   "language": "python",
   "name": "python3"
  },
  "language_info": {
   "codemirror_mode": {
    "name": "ipython",
    "version": 3
   },
   "file_extension": ".py",
   "mimetype": "text/x-python",
   "name": "python",
   "nbconvert_exporter": "python",
   "pygments_lexer": "ipython3",
   "version": "3.7.4"
  }
 },
 "nbformat": 4,
 "nbformat_minor": 2
}
