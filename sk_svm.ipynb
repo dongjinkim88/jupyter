{
 "cells": [
  {
   "cell_type": "code",
   "execution_count": 135,
   "metadata": {},
   "outputs": [
    {
     "name": "stdout",
     "output_type": "stream",
     "text": [
      "accuracy = 90.0%\n"
     ]
    }
   ],
   "source": [
    "#Linear Classification\n",
    "%matplotlib inline\n",
    "import numpy as np\n",
    "import matplotlib.pyplot as plt\n",
    "from sklearn import datasets\n",
    "from sklearn.model_selection import train_test_split\n",
    "from sklearn.pipeline import Pipeline\n",
    "from sklearn.preprocessing import StandardScaler\n",
    "from sklearn.svm import LinearSVC\n",
    "from sklearn.metrics import accuracy_score\n",
    "\n",
    "#data\n",
    "iris = datasets.load_iris()\n",
    "#x = iris.data\n",
    "#y = iris.target\n",
    "\n",
    "x = iris[\"data\"][:, (2, 3)]  # petal length, petal width\n",
    "y = (iris[\"target\"] == 2).astype(np.float64)  # Iris-Virginica\n",
    "\n",
    "\n",
    "#train_test\n",
    "x_train, x_test, y_train, y_test = train_test_split(x,y,test_size=0.2)#, random_state=1)\n",
    "\n",
    "#feature engineering and modeling\n",
    "model = Pipeline([\n",
    "        (\"scaler\", StandardScaler()),\n",
    "        (\"lin_svc\", LinearSVC(C=10, loss=\"hinge\")),\n",
    "        ])\n",
    "\n",
    "model.fit(x_train, y_train)\n",
    "\n",
    "#accuracy\n",
    "y_pred = model.predict(x_test)\n",
    "print('accuracy = {:.1%}'.format(accuracy_score(y_test,y_pred)))\n"
   ]
  },
  {
   "cell_type": "code",
   "execution_count": 136,
   "metadata": {},
   "outputs": [
    {
     "name": "stdout",
     "output_type": "stream",
     "text": [
      "accuracy = 93.3%\n"
     ]
    }
   ],
   "source": [
    "#Nonlinear Classification\n",
    "#Polynomial SVC\n",
    "from sklearn.svm import SVC\n",
    "model2 = Pipeline((\n",
    "    ('scaler',StandardScaler()),\n",
    "    ('svc', SVC(kernel='poly', degree=10, coef0=1, C=1))\n",
    "))\n",
    "model2.fit(x_train, y_train)\n",
    "y_pred2 = model2.predict(x_test)\n",
    "print('accuracy = {:.1%}'.format(accuracy_score(y_test,y_pred2)))"
   ]
  },
  {
   "cell_type": "code",
   "execution_count": 137,
   "metadata": {},
   "outputs": [
    {
     "name": "stdout",
     "output_type": "stream",
     "text": [
      "accuracy = 90.0%\n"
     ]
    }
   ],
   "source": [
    "#Nonlinear Classification\n",
    "#other SVC\n",
    "model3=Pipeline((\n",
    "    ('scaler',StandardScaler()),\n",
    "    ('svc', SVC(kernel='rbf', gamma=1, C=1))\n",
    "))\n",
    "model3.fit(x_train, y_train)\n",
    "y_pred3=model3.predict(x_test)\n",
    "print('accuracy = {:.1%}'.format(accuracy_score(y_test,y_pred3)))"
   ]
  },
  {
   "cell_type": "code",
   "execution_count": 139,
   "metadata": {},
   "outputs": [
    {
     "name": "stdout",
     "output_type": "stream",
     "text": [
      "[3.80253508] [3.03817576]\n",
      "r_square = 95.8%\n"
     ]
    },
    {
     "data": {
      "image/png": "[encoded data removed]",
      "text/plain": [
       "<Figure size 432x288 with 1 Axes>"
      ]
     },
     "metadata": {
      "needs_background": "light"
     },
     "output_type": "display_data"
    }
   ],
   "source": [
    "#Linear Regression\n",
    "import numpy as np\n",
    "x=6*np.random.rand(100,1)-3\n",
    "y=(4+3*x+np.random.randn(100,1)).ravel()\n",
    "\n",
    "from sklearn.svm import LinearSVR\n",
    "svm_reg = LinearSVR(epsilon=1.2)\n",
    "svm_reg.fit(x,y)\n",
    "\n",
    "print(svm_reg.intercept_, svm_reg.coef_)\n",
    "y_pred=svm_reg.predict(x)\n",
    "\n",
    "from sklearn.metrics import r2_score\n",
    "print('r_square = {:.1%}'.format(r2_score(y, y_pred)))\n",
    "\n",
    "plt.scatter(x,y)\n",
    "plt.plot(x,y_pred,'r-')\n",
    "plt.show()"
   ]
  },
  {
   "cell_type": "code",
   "execution_count": 144,
   "metadata": {},
   "outputs": [
    {
     "name": "stdout",
     "output_type": "stream",
     "text": [
      "r_square = 20.9%\n"
     ]
    },
    {
     "name": "stderr",
     "output_type": "stream",
     "text": [
      "/anaconda3/lib/python3.7/site-packages/sklearn/svm/base.py:196: FutureWarning: The default value of gamma will change from 'auto' to 'scale' in version 0.22 to account better for unscaled features. Set gamma explicitly to 'auto' or 'scale' to avoid this warning.\n",
      "  \"avoid this warning.\", FutureWarning)\n"
     ]
    },
    {
     "data": {
      "image/png": "[encoded data removed]",
      "text/plain": [
       "<Figure size 432x288 with 1 Axes>"
      ]
     },
     "metadata": {
      "needs_background": "light"
     },
     "output_type": "display_data"
    }
   ],
   "source": [
    "#Nonlinear Regression\n",
    "y2 = (0.5 * x**2 + x + 2 + np.random.randn(100,1)).ravel()\n",
    "from sklearn.svm import SVR\n",
    "svr_reg = SVR(kernel='poly', degree=2, C=1, epsilon=0.1)\n",
    "svr_reg.fit(x,y2)\n",
    "\n",
    "y2_pred=svr_reg.predict(x)\n",
    "print('r_square = {:.1%}'.format(r2_score(y2, y2_pred)))\n",
    "plt.plot(x,y2,'b.')\n",
    "plt.plot(x,y2_pred,'r.')\n",
    "plt.show()\n"
   ]
  },
  {
   "cell_type": "code",
   "execution_count": null,
   "metadata": {},
   "outputs": [],
   "source": []
  }
 ],
 "metadata": {
  "kernelspec": {
   "display_name": "Python 3",
   "language": "python",
   "name": "python3"
  },
  "language_info": {
   "codemirror_mode": {
    "name": "ipython",
    "version": 3
   },
   "file_extension": ".py",
   "mimetype": "text/x-python",
   "name": "python",
   "nbconvert_exporter": "python",
   "pygments_lexer": "ipython3",
   "version": "3.7.4"
  }
 },
 "nbformat": 4,
 "nbformat_minor": 2
}
