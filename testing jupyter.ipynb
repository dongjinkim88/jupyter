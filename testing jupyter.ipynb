{
 "cells": [
  {
   "cell_type": "markdown",
   "metadata": {},
   "source": [
    "# Testing Jupyter\n",
    "\n",
    "on 10/9/2017\n",
    "\n",
    "## just practice"
   ]
  },
  {
   "cell_type": "code",
   "execution_count": 7,
   "metadata": {},
   "outputs": [
    {
     "name": "stdout",
     "output_type": "stream",
     "text": [
      "hello world\n"
     ]
    }
   ],
   "source": [
    "print('hello world')"
   ]
  },
  {
   "cell_type": "markdown",
   "metadata": {},
   "source": [
    "# sample\n",
    "## headline"
   ]
  },
  {
   "cell_type": "code",
   "execution_count": 8,
   "metadata": {},
   "outputs": [
    {
     "name": "stdout",
     "output_type": "stream",
     "text": [
      "alabaster (0.7.10)\n",
      "anaconda-client (1.6.3)\n",
      "anaconda-navigator (1.6.2)\n",
      "anaconda-project (0.6.0)\n",
      "asn1crypto (0.22.0)\n",
      "astroid (1.4.9)\n",
      "astropy (1.3.2)\n",
      "Babel (2.4.0)\n",
      "backports.shutil-get-terminal-size (1.0.0)\n",
      "beautifulsoup4 (4.6.0)\n",
      "bitarray (0.8.1)\n",
      "blaze (0.10.1)\n",
      "bleach (1.5.0)\n",
      "bokeh (0.12.5)\n",
      "boto (2.46.1)\n",
      "Bottleneck (1.2.1)\n",
      "cffi (1.10.0)\n",
      "chardet (3.0.3)\n",
      "click (6.7)\n",
      "cloudpickle (0.2.2)\n",
      "clyent (1.2.2)\n",
      "colorama (0.3.9)\n",
      "comtypes (1.1.2)\n",
      "conda (4.3.23)\n",
      "contextlib2 (0.5.5)\n",
      "cryptography (1.8.1)\n",
      "cycler (0.10.0)\n",
      "Cython (0.25.2)\n",
      "cytoolz (0.8.2)\n",
      "dask (0.14.3)\n",
      "datashape (0.5.4)\n",
      "decorator (4.0.11)\n",
      "distributed (1.16.3)\n",
      "docutils (0.13.1)\n",
      "entrypoints (0.2.2)\n",
      "et-xmlfile (1.0.1)\n",
      "fastcache (1.0.2)\n",
      "Flask (0.12.2)\n",
      "Flask-Cors (3.0.2)\n",
      "gevent (1.2.1)\n",
      "greenlet (0.4.12)\n",
      "h5py (2.7.0)\n",
      "HeapDict (1.0.0)\n",
      "html5lib (0.999)\n",
      "idna (2.5)\n",
      "imagesize (0.7.1)\n",
      "ipykernel (4.6.1)\n",
      "ipython (5.3.0)\n",
      "ipython-genutils (0.2.0)\n",
      "ipywidgets (6.0.0)\n",
      "isort (4.2.5)\n",
      "itsdangerous (0.24)\n",
      "jdcal (1.3)\n",
      "jedi (0.10.2)\n",
      "Jinja2 (2.9.6)\n",
      "jsonschema (2.6.0)\n",
      "jupyter (1.0.0)\n",
      "jupyter-client (5.0.1)\n",
      "jupyter-console (5.1.0)\n",
      "jupyter-core (4.3.0)\n",
      "lazy-object-proxy (1.2.2)\n",
      "llvmlite (0.18.0)\n",
      "locket (0.2.0)\n",
      "lxml (3.7.3)\n",
      "MarkupSafe (0.23)\n",
      "matplotlib (2.0.2)\n",
      "menuinst (1.4.7)\n",
      "mistune (0.7.4)\n",
      "mpmath (0.19)\n",
      "msgpack-python (0.4.8)\n",
      "multipledispatch (0.4.9)\n",
      "navigator-updater (0.1.0)\n",
      "nbconvert (5.1.1)\n",
      "nbformat (4.3.0)\n",
      "networkx (1.11)\n",
      "nltk (3.2.3)\n",
      "nose (1.3.7)\n",
      "notebook (5.0.0)\n",
      "numba (0.33.0)\n",
      "numexpr (2.6.2)\n",
      "numpy (1.12.1)\n",
      "numpydoc (0.6.0)\n",
      "odo (0.5.0)\n",
      "olefile (0.44)\n",
      "openpyxl (2.4.7)\n",
      "packaging (16.8)\n",
      "pandas (0.20.1)\n",
      "pandocfilters (1.4.1)\n",
      "partd (0.3.8)\n",
      "path.py (10.3.1)\n",
      "pathlib2 (2.2.1)\n",
      "patsy (0.4.1)\n",
      "pep8 (1.7.0)\n",
      "pickleshare (0.7.4)\n",
      "Pillow (4.1.1)\n",
      "pip (9.0.1)\n",
      "ply (3.10)\n",
      "prompt-toolkit (1.0.14)\n",
      "psutil (5.2.2)\n",
      "py (1.4.33)\n",
      "pycosat (0.6.2)\n",
      "pycparser (2.17)\n",
      "pycrypto (2.6.1)\n",
      "pycurl (7.43.0)\n",
      "pyflakes (1.5.0)\n",
      "Pygments (2.2.0)\n",
      "pylint (1.6.4)\n",
      "pyodbc (4.0.16)\n",
      "pyOpenSSL (17.0.0)\n",
      "pyparsing (2.1.4)\n",
      "pytest (3.0.7)\n",
      "python-dateutil (2.6.0)\n",
      "pytz (2017.2)\n",
      "PyWavelets (0.5.2)\n",
      "pywin32 (220)\n",
      "PyYAML (3.12)\n",
      "pyzmq (16.0.2)\n",
      "QtAwesome (0.4.4)\n",
      "qtconsole (4.3.0)\n",
      "QtPy (1.2.1)\n",
      "requests (2.14.2)\n",
      "rope-py3k (0.9.4.post1)\n",
      "scikit-image (0.13.0)\n",
      "scikit-learn (0.18.1)\n",
      "scipy (0.19.0)\n",
      "seaborn (0.7.1)\n",
      "setuptools (27.2.0)\n",
      "simplegeneric (0.8.1)\n",
      "singledispatch (3.4.0.3)\n",
      "six (1.10.0)\n",
      "snowballstemmer (1.2.1)\n",
      "sortedcollections (0.5.3)\n",
      "sortedcontainers (1.5.7)\n",
      "sphinx (1.5.6)\n",
      "spyder (3.1.4)\n",
      "SQLAlchemy (1.1.9)\n",
      "statsmodels (0.8.0)\n",
      "sympy (1.0)\n",
      "tables (3.2.2)\n",
      "tblib (1.3.2)\n",
      "testpath (0.3)\n",
      "toolz (0.8.2)\n",
      "tornado (4.5.1)\n",
      "traitlets (4.3.2)\n",
      "unicodecsv (0.14.1)\n",
      "wcwidth (0.1.7)\n",
      "Werkzeug (0.12.2)\n",
      "wheel (0.29.0)\n",
      "widgetsnbextension (2.0.0)\n",
      "win-unicode-console (0.5)\n",
      "wrapt (1.10.10)\n",
      "xlrd (1.0.0)\n",
      "XlsxWriter (0.9.6)\n",
      "xlwings (0.10.4)\n",
      "xlwt (1.2.0)\n",
      "zict (0.1.2)\n"
     ]
    },
    {
     "name": "stderr",
     "output_type": "stream",
     "text": [
      "DEPRECATION: The default format will switch to columns in the future. You can use --format=(legacy|columns) (or define a format=(legacy|columns) in your pip.conf under the [list] section) to disable this warning.\n"
     ]
    }
   ],
   "source": [
    "!pip list"
   ]
  },
  {
   "cell_type": "code",
   "execution_count": 9,
   "metadata": {},
   "outputs": [
    {
     "data": {
      "application/json": {
       "cell": {
        "!": "OSMagics",
        "HTML": "Other",
        "SVG": "Other",
        "bash": "Other",
        "capture": "ExecutionMagics",
        "cmd": "Other",
        "debug": "ExecutionMagics",
        "file": "Other",
        "html": "DisplayMagics",
        "javascript": "DisplayMagics",
        "js": "DisplayMagics",
        "latex": "DisplayMagics",
        "perl": "Other",
        "prun": "ExecutionMagics",
        "pypy": "Other",
        "python": "Other",
        "python2": "Other",
        "python3": "Other",
        "ruby": "Other",
        "script": "ScriptMagics",
        "sh": "Other",
        "svg": "DisplayMagics",
        "sx": "OSMagics",
        "system": "OSMagics",
        "time": "ExecutionMagics",
        "timeit": "ExecutionMagics",
        "writefile": "OSMagics"
       },
       "line": {
        "alias": "OSMagics",
        "alias_magic": "BasicMagics",
        "autocall": "AutoMagics",
        "automagic": "AutoMagics",
        "autosave": "KernelMagics",
        "bookmark": "OSMagics",
        "cd": "OSMagics",
        "clear": "KernelMagics",
        "cls": "KernelMagics",
        "colors": "BasicMagics",
        "config": "ConfigMagics",
        "connect_info": "KernelMagics",
        "copy": "Other",
        "ddir": "Other",
        "debug": "ExecutionMagics",
        "dhist": "OSMagics",
        "dirs": "OSMagics",
        "doctest_mode": "BasicMagics",
        "echo": "Other",
        "ed": "Other",
        "edit": "KernelMagics",
        "env": "OSMagics",
        "gui": "BasicMagics",
        "hist": "Other",
        "history": "HistoryMagics",
        "killbgscripts": "ScriptMagics",
        "ldir": "Other",
        "less": "KernelMagics",
        "load": "CodeMagics",
        "load_ext": "ExtensionMagics",
        "loadpy": "CodeMagics",
        "logoff": "LoggingMagics",
        "logon": "LoggingMagics",
        "logstart": "LoggingMagics",
        "logstate": "LoggingMagics",
        "logstop": "LoggingMagics",
        "ls": "Other",
        "lsmagic": "BasicMagics",
        "macro": "ExecutionMagics",
        "magic": "BasicMagics",
        "matplotlib": "PylabMagics",
        "mkdir": "Other",
        "more": "KernelMagics",
        "notebook": "BasicMagics",
        "page": "BasicMagics",
        "pastebin": "CodeMagics",
        "pdb": "ExecutionMagics",
        "pdef": "NamespaceMagics",
        "pdoc": "NamespaceMagics",
        "pfile": "NamespaceMagics",
        "pinfo": "NamespaceMagics",
        "pinfo2": "NamespaceMagics",
        "popd": "OSMagics",
        "pprint": "BasicMagics",
        "precision": "BasicMagics",
        "profile": "BasicMagics",
        "prun": "ExecutionMagics",
        "psearch": "NamespaceMagics",
        "psource": "NamespaceMagics",
        "pushd": "OSMagics",
        "pwd": "OSMagics",
        "pycat": "OSMagics",
        "pylab": "PylabMagics",
        "qtconsole": "KernelMagics",
        "quickref": "BasicMagics",
        "recall": "HistoryMagics",
        "rehashx": "OSMagics",
        "reload_ext": "ExtensionMagics",
        "ren": "Other",
        "rep": "Other",
        "rerun": "HistoryMagics",
        "reset": "NamespaceMagics",
        "reset_selective": "NamespaceMagics",
        "rmdir": "Other",
        "run": "ExecutionMagics",
        "save": "CodeMagics",
        "sc": "OSMagics",
        "set_env": "OSMagics",
        "store": "StoreMagics",
        "sx": "OSMagics",
        "system": "OSMagics",
        "tb": "ExecutionMagics",
        "time": "ExecutionMagics",
        "timeit": "ExecutionMagics",
        "unalias": "OSMagics",
        "unload_ext": "ExtensionMagics",
        "who": "NamespaceMagics",
        "who_ls": "NamespaceMagics",
        "whos": "NamespaceMagics",
        "xdel": "NamespaceMagics",
        "xmode": "BasicMagics"
       }
      },
      "text/plain": [
       "Available line magics:\n",
       "%alias  %alias_magic  %autocall  %automagic  %autosave  %bookmark  %cd  %clear  %cls  %colors  %config  %connect_info  %copy  %ddir  %debug  %dhist  %dirs  %doctest_mode  %echo  %ed  %edit  %env  %gui  %hist  %history  %killbgscripts  %ldir  %less  %load  %load_ext  %loadpy  %logoff  %logon  %logstart  %logstate  %logstop  %ls  %lsmagic  %macro  %magic  %matplotlib  %mkdir  %more  %notebook  %page  %pastebin  %pdb  %pdef  %pdoc  %pfile  %pinfo  %pinfo2  %popd  %pprint  %precision  %profile  %prun  %psearch  %psource  %pushd  %pwd  %pycat  %pylab  %qtconsole  %quickref  %recall  %rehashx  %reload_ext  %ren  %rep  %rerun  %reset  %reset_selective  %rmdir  %run  %save  %sc  %set_env  %store  %sx  %system  %tb  %time  %timeit  %unalias  %unload_ext  %who  %who_ls  %whos  %xdel  %xmode\n",
       "\n",
       "Available cell magics:\n",
       "%%!  %%HTML  %%SVG  %%bash  %%capture  %%cmd  %%debug  %%file  %%html  %%javascript  %%js  %%latex  %%perl  %%prun  %%pypy  %%python  %%python2  %%python3  %%ruby  %%script  %%sh  %%svg  %%sx  %%system  %%time  %%timeit  %%writefile\n",
       "\n",
       "Automagic is ON, % prefix IS NOT needed for line magics."
      ]
     },
     "execution_count": 9,
     "metadata": {},
     "output_type": "execute_result"
    }
   ],
   "source": [
    "%lsmagic"
   ]
  },
  {
   "cell_type": "code",
   "execution_count": 10,
   "metadata": {},
   "outputs": [
    {
     "data": {
      "text/plain": [
       "'C:\\\\Users\\\\Kim'"
      ]
     },
     "execution_count": 10,
     "metadata": {},
     "output_type": "execute_result"
    }
   ],
   "source": [
    "%pwd"
   ]
  },
  {
   "cell_type": "code",
   "execution_count": 11,
   "metadata": {},
   "outputs": [
    {
     "name": "stdout",
     "output_type": "stream",
     "text": [
      " Volume in drive C is OS\n",
      " Volume Serial Number is 7249-0A8F\n",
      "\n",
      " Directory of C:\\Users\\Kim\n",
      "\n",
      "10/09/2017  09:03 AM    <DIR>          .\n",
      "10/09/2017  09:03 AM    <DIR>          ..\n",
      "08/08/2017  11:42 PM    <DIR>          .anaconda\n",
      "10/09/2017  09:04 AM    <DIR>          .conda\n",
      "10/09/2017  08:50 AM                43 .condarc\n",
      "12/05/2016  12:20 AM    <DIR>          .idlerc\n",
      "10/09/2017  08:54 AM    <DIR>          .ipynb_checkpoints\n",
      "08/08/2017  11:36 PM    <DIR>          .ipython\n",
      "10/09/2017  08:50 AM    <DIR>          .jupyter\n",
      "10/02/2017  11:51 PM    <DIR>          .matplotlib\n",
      "08/08/2017  11:46 PM    <DIR>          .spyder-py3\n",
      "08/08/2017  11:30 PM    <DIR>          Anaconda3\n",
      "08/11/2017  12:31 AM    <DIR>          Contacts\n",
      "08/11/2017  12:31 AM    <DIR>          Desktop\n",
      "10/05/2017  08:41 PM    <DIR>          Documents\n",
      "08/11/2017  12:31 AM    <DIR>          Downloads\n",
      "10/05/2016  07:05 PM    <DIR>          Dropbox\n",
      "08/11/2017  12:31 AM    <DIR>          Favorites\n",
      "09/19/2017  10:34 PM    <DIR>          Links\n",
      "08/11/2017  12:31 AM    <DIR>          Music\n",
      "09/19/2017  10:34 PM    <DIR>          OneDrive\n",
      "08/11/2017  12:31 AM    <DIR>          Pictures\n",
      "08/11/2017  12:31 AM    <DIR>          Saved Games\n",
      "08/11/2017  12:31 AM    <DIR>          Searches\n",
      "10/09/2017  09:03 AM             5,939 testing jupyter.ipynb\n",
      "08/08/2017  11:35 PM                72 Untitled.ipynb\n",
      "08/08/2017  11:40 PM             1,822 Untitled1.ipynb\n",
      "08/11/2017  12:31 AM    <DIR>          Videos\n",
      "               4 File(s)          7,876 bytes\n",
      "              24 Dir(s)  860,189,949,952 bytes free\n"
     ]
    }
   ],
   "source": [
    "%ls"
   ]
  },
  {
   "cell_type": "code",
   "execution_count": 12,
   "metadata": {
    "collapsed": true
   },
   "outputs": [],
   "source": [
    "%matplotlib inline"
   ]
  },
  {
   "cell_type": "code",
   "execution_count": 15,
   "metadata": {},
   "outputs": [
    {
     "data": {
      "image/png": "[encoded data removed]",
      "text/plain": [
       "<matplotlib.figure.Figure at 0x2071358afd0>"
      ]
     },
     "metadata": {},
     "output_type": "display_data"
    }
   ],
   "source": [
    "import numpy as np\n",
    "import matplotlib.pyplot as plt\n",
    "\n",
    "n=50\n",
    "x=np.random.rand(n)\n",
    "y=np.random.rand(n)\n",
    "colors=np.random.rand(n)\n",
    "area=np.pi * (15*np.random.rand(n))**2\n",
    "\n",
    "plt.scatter(x,y, s=area, c=colors, alpha=0.5)\n",
    "plt.show()"
   ]
  },
  {
   "cell_type": "code",
   "execution_count": 16,
   "metadata": {},
   "outputs": [
    {
     "data": {
      "text/plain": [
       "array([ 0.36552325,  0.72992669,  0.36940208,  0.25188294,  0.15936   ,\n",
       "        0.18037571,  0.75721992,  0.67697768,  0.02641683,  0.70778022,\n",
       "        0.31050462,  0.36975523,  0.41589016,  0.2384008 ,  0.29862909,\n",
       "        0.06720963,  0.25743988,  0.19468505,  0.31549041,  0.78763138,\n",
       "        0.01716066,  0.33987502,  0.60922884,  0.45392042,  0.50414618,\n",
       "        0.86894038,  0.30319567,  0.58810456,  0.11407987,  0.8194111 ,\n",
       "        0.38089455,  0.30060773,  0.52703134,  0.48049957,  0.74471299,\n",
       "        0.48884704,  0.48665636,  0.29074468,  0.47399645,  0.56594851,\n",
       "        0.46036901,  0.44322706,  0.24462024,  0.03936438,  0.54003086,\n",
       "        0.16716696,  0.27254025,  0.09138119,  0.99881684,  0.44011636])"
      ]
     },
     "execution_count": 16,
     "metadata": {},
     "output_type": "execute_result"
    }
   ],
   "source": [
    "x"
   ]
  },
  {
   "cell_type": "code",
   "execution_count": 19,
   "metadata": {},
   "outputs": [
    {
     "data": {
      "text/html": [
       "<iframe width=\"560\" height=\"315\" src=\"https://www.youtube.com/embed/YJC6ldI3hWk\" frameborder=\"0\" allowfullscreen></iframe>"
      ],
      "text/plain": [
       "<IPython.core.display.HTML object>"
      ]
     },
     "metadata": {},
     "output_type": "display_data"
    }
   ],
   "source": [
    "%%HTML\n",
    "<iframe width=\"560\" height=\"315\" src=\"https://www.youtube.com/embed/YJC6ldI3hWk\" frameborder=\"0\" allowfullscreen></iframe>"
   ]
  },
  {
   "cell_type": "code",
   "execution_count": 21,
   "metadata": {},
   "outputs": [
    {
     "name": "stdout",
     "output_type": "stream",
     "text": [
      "10000 loops, best of 3: 50.2 µs per loop\n"
     ]
    }
   ],
   "source": [
    "%%timeit\n",
    "square=[n*n for n in range(1000)]"
   ]
  },
  {
   "cell_type": "code",
   "execution_count": 26,
   "metadata": {},
   "outputs": [
    {
     "data": {
      "text/html": [
       "<div>\n",
       "<style>\n",
       "    .dataframe thead tr:only-child th {\n",
       "        text-align: right;\n",
       "    }\n",
       "\n",
       "    .dataframe thead th {\n",
       "        text-align: left;\n",
       "    }\n",
       "\n",
       "    .dataframe tbody tr th {\n",
       "        vertical-align: top;\n",
       "    }\n",
       "</style>\n",
       "<table border=\"1\" class=\"dataframe\">\n",
       "  <thead>\n",
       "    <tr style=\"text-align: right;\">\n",
       "      <th></th>\n",
       "      <th>0</th>\n",
       "      <th>1</th>\n",
       "      <th>2</th>\n",
       "      <th>3</th>\n",
       "      <th>4</th>\n",
       "    </tr>\n",
       "  </thead>\n",
       "  <tbody>\n",
       "    <tr>\n",
       "      <th>0</th>\n",
       "      <td>-0.850145</td>\n",
       "      <td>-0.049196</td>\n",
       "      <td>-0.413279</td>\n",
       "      <td>-0.145146</td>\n",
       "      <td>-0.439086</td>\n",
       "    </tr>\n",
       "    <tr>\n",
       "      <th>1</th>\n",
       "      <td>0.927141</td>\n",
       "      <td>1.108646</td>\n",
       "      <td>-0.606005</td>\n",
       "      <td>-0.657827</td>\n",
       "      <td>0.945265</td>\n",
       "    </tr>\n",
       "    <tr>\n",
       "      <th>2</th>\n",
       "      <td>-1.507978</td>\n",
       "      <td>0.077456</td>\n",
       "      <td>-1.674025</td>\n",
       "      <td>1.438403</td>\n",
       "      <td>0.377236</td>\n",
       "    </tr>\n",
       "    <tr>\n",
       "      <th>3</th>\n",
       "      <td>1.779930</td>\n",
       "      <td>-0.468296</td>\n",
       "      <td>-1.171626</td>\n",
       "      <td>-0.074814</td>\n",
       "      <td>-0.768010</td>\n",
       "    </tr>\n",
       "    <tr>\n",
       "      <th>4</th>\n",
       "      <td>2.125806</td>\n",
       "      <td>-0.642299</td>\n",
       "      <td>-0.505817</td>\n",
       "      <td>-0.220031</td>\n",
       "      <td>-1.032377</td>\n",
       "    </tr>\n",
       "  </tbody>\n",
       "</table>\n",
       "</div>"
      ],
      "text/plain": [
       "          0         1         2         3         4\n",
       "0 -0.850145 -0.049196 -0.413279 -0.145146 -0.439086\n",
       "1  0.927141  1.108646 -0.606005 -0.657827  0.945265\n",
       "2 -1.507978  0.077456 -1.674025  1.438403  0.377236\n",
       "3  1.779930 -0.468296 -1.171626 -0.074814 -0.768010\n",
       "4  2.125806 -0.642299 -0.505817 -0.220031 -1.032377"
      ]
     },
     "execution_count": 26,
     "metadata": {},
     "output_type": "execute_result"
    }
   ],
   "source": [
    "import pandas as pd\n",
    "import numpy as np\n",
    "df = pd.DataFrame(np.random.randn(10,5))\n",
    "df.head()"
   ]
  }
 ],
 "metadata": {
  "kernelspec": {
   "display_name": "Python 3",
   "language": "python",
   "name": "python3"
  },
  "language_info": {
   "codemirror_mode": {
    "name": "ipython",
    "version": 3
   },
   "file_extension": ".py",
   "mimetype": "text/x-python",
   "name": "python",
   "nbconvert_exporter": "python",
   "pygments_lexer": "ipython3",
   "version": "3.6.3"
  }
 },
 "nbformat": 4,
 "nbformat_minor": 2
}
